{
 "cells": [
  {
   "cell_type": "code",
   "execution_count": 1,
   "id": "excess-aquarium",
   "metadata": {},
   "outputs": [],
   "source": [
    "from Clean_data import clean_the_data\n",
    "import pandas as pd \n",
    "from math import sqrt\n",
    "import csv\n",
    "import pandas as pd \n",
    "from csv import reader\n",
    "from collections import defaultdict\n",
    "from sklearn.model_selection import train_test_split"
   ]
  },
  {
   "cell_type": "code",
   "execution_count": 2,
   "id": "vertical-provision",
   "metadata": {},
   "outputs": [
    {
     "name": "stdout",
     "output_type": "stream",
     "text": [
      "[17.99, 10.38, 122.8, 1001.0, 0.1184, 0.2776, 0.3001, 0.1471, 0.2419, 0.07871, 1.095, 0.9053, 8.589, 153.4, 0.006399, 0.04904, 0.05373, 0.01587, 0.03003, 0.006193, 25.38, 17.33, 184.6, 2019.0, 0.1622, 0.6656, 0.7119, 0.2654, 0.4601, 0.1189, 1.0]\n",
      "569\n"
     ]
    }
   ],
   "source": [
    "data = pd.read_csv(\"data.csv\")\n",
    "data.drop([\"id\",\"Unnamed: 32\"], inplace=True ,axis=1)\n",
    "data['diagnosis'] = data['diagnosis'].map({'B':0 , 'M': 1 })\n",
    "dataset = data.reset_index(drop =True)\n",
    "dataset = dataset[['radius_mean', 'texture_mean', 'perimeter_mean',\n",
    "       'area_mean', 'smoothness_mean', 'compactness_mean', 'concavity_mean',\n",
    "       'concave points_mean', 'symmetry_mean', 'fractal_dimension_mean',\n",
    "       'radius_se', 'texture_se', 'perimeter_se', 'area_se', 'smoothness_se',\n",
    "       'compactness_se', 'concavity_se', 'concave points_se', 'symmetry_se',\n",
    "       'fractal_dimension_se', 'radius_worst', 'texture_worst',\n",
    "       'perimeter_worst', 'area_worst', 'smoothness_worst',\n",
    "       'compactness_worst', 'concavity_worst', 'concave points_worst',\n",
    "       'symmetry_worst', 'fractal_dimension_worst','diagnosis']]\n",
    "\n",
    "dataset = dataset.values.tolist()\n",
    "print(dataset[0])\n",
    "print(len(dataset))"
   ]
  },
  {
   "cell_type": "code",
   "execution_count": 3,
   "id": "going-entertainment",
   "metadata": {},
   "outputs": [],
   "source": [
    "train = dataset[:427]\n",
    "test = dataset[427:]"
   ]
  },
  {
   "cell_type": "code",
   "execution_count": 4,
   "id": "equivalent-control",
   "metadata": {},
   "outputs": [
    {
     "name": "stdout",
     "output_type": "stream",
     "text": [
      "142\n"
     ]
    }
   ],
   "source": [
    "print(len(test))"
   ]
  },
  {
   "cell_type": "code",
   "execution_count": 5,
   "id": "following-dragon",
   "metadata": {},
   "outputs": [],
   "source": [
    "def k_nearest_neighbors(train, test, num_neighbors):\n",
    "    \"\"\"\n",
    "    This function is the primary way of interacting with the folling functions \n",
    "    Parameter\"train\":take in training data frame \n",
    "    Parameter \"test\": take in some input data that needed to be classified \n",
    "    Parameter \"num_neighbors\": K value \n",
    "    \"\"\"\n",
    "\n",
    "    final_predictions = list()\n",
    "    for test_row in test:\n",
    "        output = predict_classification(train, test_row, num_neighbors)\n",
    "        final_predictions.append(output)\n",
    "    return(final_predictions)"
   ]
  },
  {
   "cell_type": "code",
   "execution_count": 6,
   "id": "focused-thanks",
   "metadata": {},
   "outputs": [],
   "source": [
    "def predict_classification(train, test_row, num_neighbors):\n",
    "    \"\"\"\n",
    "    A function that returns the class prediction based on the list of sorted\n",
    "    Euclidean distances.\n",
    "    \"\"\"\n",
    "    all_neighbors = get_neighbors(train, test_row, num_neighbors)\n",
    "    \n",
    "    output_values = [row[0][-1] for row in all_neighbors[0:num_neighbors]]\n",
    "    prediction = max(set(output_values), key=output_values.count)\n",
    "    return prediction"
   ]
  },
  {
   "cell_type": "code",
   "execution_count": 7,
   "id": "guilty-instrumentation",
   "metadata": {},
   "outputs": [],
   "source": [
    "def get_neighbors(train, test_row, num_neighbors):\n",
    "    \"\"\"\n",
    "    A function that returns the list of sorted Euclidean distances between the input \n",
    "    data and all rows in the dataframe.\n",
    "    \"\"\"\n",
    "    distances_storage = list()\n",
    "    for train_row in train:\n",
    "        dist = euclidean_distance(test_row, train_row)\n",
    "        distances_storage.append((train_row, dist))\n",
    "        distances_storage.sort(key=lambda x: x[1])\n",
    "    return distances_storage"
   ]
  },
  {
   "cell_type": "code",
   "execution_count": 8,
   "id": "provincial-tunnel",
   "metadata": {},
   "outputs": [],
   "source": [
    "def euclidean_distance(row_1, row_2):\n",
    "    \"\"\"\n",
    "    A function that returns the Euclidean distance between a row in the \n",
    "    intput data to be classified.\n",
    "    \"\"\"\n",
    "    computed_distance = 0.0\n",
    "    for i in range(len(row_1)-1):\n",
    "        computed_distance += (row_1[i] - row_2[i])**2\n",
    "    return sqrt(computed_distance)"
   ]
  },
  {
   "cell_type": "code",
   "execution_count": 9,
   "id": "muslim-foundation",
   "metadata": {},
   "outputs": [
    {
     "name": "stdout",
     "output_type": "stream",
     "text": [
      "[0.0, 0.0, 0.0, 0.0, 0.0, 1.0, 1.0, 0.0, 1.0, 0.0, 0.0, 0.0, 0.0, 0.0, 1.0, 0.0, 0.0, 1.0, 0.0, 1.0, 0.0, 0.0, 1.0, 0.0, 1.0, 0.0, 0.0, 0.0, 0.0, 0.0, 0.0, 0.0, 0.0, 1.0, 1.0, 0.0, 0.0, 0.0, 0.0, 0.0, 0.0, 1.0, 0.0, 0.0, 0.0, 0.0, 0.0, 0.0, 0.0, 1.0, 0.0, 0.0, 1.0, 0.0, 1.0, 0.0, 0.0, 0.0, 0.0, 0.0, 1.0, 0.0, 1.0, 0.0, 1.0, 1.0, 0.0, 0.0, 0.0, 0.0, 0.0, 1.0, 1.0, 0.0, 1.0, 0.0, 1.0, 0.0, 0.0, 0.0, 0.0, 0.0, 1.0, 0.0, 0.0, 1.0, 0.0, 1.0, 0.0, 1.0, 1.0, 0.0, 0.0, 0.0, 1.0, 0.0, 0.0, 0.0, 0.0, 0.0, 0.0, 0.0, 0.0, 0.0, 0.0, 1.0, 1.0, 0.0, 1.0, 0.0, 0.0, 0.0, 0.0, 0.0, 0.0, 0.0, 0.0, 0.0, 0.0, 0.0, 0.0, 0.0, 0.0, 0.0, 0.0, 0.0, 0.0, 0.0, 0.0, 0.0, 0.0, 0.0, 0.0, 0.0, 0.0, 1.0, 1.0, 1.0, 1.0, 1.0, 1.0, 0.0]\n"
     ]
    }
   ],
   "source": [
    "predicted_results = k_nearest_neighbors(train, test, 10)\n",
    "len(predicted_results)\n",
    "print(predicted_results)"
   ]
  },
  {
   "cell_type": "code",
   "execution_count": 16,
   "id": "missing-glory",
   "metadata": {},
   "outputs": [
    {
     "name": "stdout",
     "output_type": "stream",
     "text": [
      "Accuracy: 0.9577464788732394\n"
     ]
    }
   ],
   "source": [
    "total_measurement = len(predicted_results)\n",
    "expected_results = [] \n",
    "correct_measurement = 0 \n",
    "\n",
    "for each_set in test:\n",
    "    expected_results.append(each_set[-1])\n",
    "\n",
    "\n",
    "for i in range(len(predicted_results)): \n",
    "    if predicted_results[i] == expected_results[i]: \n",
    "        correct_measurement += 1 \n",
    "\n",
    "total_accuracy = correct_measurement/total_measurement \n",
    "\n",
    "print(\"Accuracy:\", total_accuracy)"
   ]
  },
  {
   "cell_type": "code",
   "execution_count": null,
   "id": "technical-irrigation",
   "metadata": {},
   "outputs": [],
   "source": []
  },
  {
   "cell_type": "code",
   "execution_count": null,
   "id": "greek-craps",
   "metadata": {},
   "outputs": [],
   "source": []
  }
 ],
 "metadata": {
  "kernelspec": {
   "display_name": "Python 3",
   "language": "python",
   "name": "python3"
  },
  "language_info": {
   "codemirror_mode": {
    "name": "ipython",
    "version": 3
   },
   "file_extension": ".py",
   "mimetype": "text/x-python",
   "name": "python",
   "nbconvert_exporter": "python",
   "pygments_lexer": "ipython3",
   "version": "3.8.2"
  }
 },
 "nbformat": 4,
 "nbformat_minor": 5
}
