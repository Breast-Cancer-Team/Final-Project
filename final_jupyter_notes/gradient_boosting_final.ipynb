{
 "cells": [
  {
   "cell_type": "code",
   "execution_count": 1,
   "id": "choice-color",
   "metadata": {},
   "outputs": [],
   "source": [
    "# Pandas library for the pandas dataframes\n",
    "import pandas as pd    \n",
    "import numpy as np \n",
    "\n",
    "# Import Scikit-Learn library for the regression models\n",
    "import sklearn         \n",
    "from sklearn.model_selection import train_test_split\n",
    "from sklearn.ensemble import GradientBoostingClassifier\n",
    "from sklearn.metrics import r2_score, mean_squared_error, accuracy_score\n",
    "from sklearn.feature_selection import f_regression, SequentialFeatureSelector\n",
    "from sklearn.preprocessing import PolynomialFeatures\n",
    "from sklearn.pipeline import make_pipeline\n",
    "from sklearn.metrics import classification_report\n",
    "from sklearn.metrics import confusion_matrix \n",
    "from sklearn.metrics import plot_confusion_matrix\n",
    "\n",
    "# Another statistic model library\n",
    "import statsmodels.api as sm\n",
    "import statsmodels.formula.api as smf\n",
    "import scipy.stats as stats\n",
    "import scipy\n",
    "from scipy import interpolate\n",
    "from scipy.interpolate import interp1d\n",
    "\n",
    "# Import plotting libraries\n",
    "import seaborn as sns\n",
    "import matplotlib \n",
    "from matplotlib import pyplot as plt\n",
    "\n",
    "# Set larger fontsize for all plots\n",
    "matplotlib.rcParams.update({'font.size': 20})\n",
    "\n",
    "# Command to automatically reload modules before executing cells\n",
    "# not needed here but might be if you are writing your own library \n",
    "%load_ext autoreload\n",
    "%autoreload 2\n",
    "%matplotlib inline\n",
    "\n",
    "from clean_split_data import clean_data\n",
    "from clean_split_data import split_data"
   ]
  },
  {
   "cell_type": "markdown",
   "id": "quality-concrete",
   "metadata": {},
   "source": [
    "### Data"
   ]
  },
  {
   "cell_type": "code",
   "execution_count": 2,
   "id": "missing-ministry",
   "metadata": {},
   "outputs": [],
   "source": [
    "data = pd.read_csv('data.csv')"
   ]
  },
  {
   "cell_type": "code",
   "execution_count": 3,
   "id": "steady-software",
   "metadata": {},
   "outputs": [],
   "source": [
    "data = clean_data(data)\n",
    "X_train, X_test, y_train, y_test = split_data(data)"
   ]
  },
  {
   "cell_type": "markdown",
   "id": "absent-degree",
   "metadata": {},
   "source": [
    "### Classifier Preprocessing"
   ]
  },
  {
   "cell_type": "code",
   "execution_count": 4,
   "id": "completed-great",
   "metadata": {},
   "outputs": [],
   "source": [
    "tree_count = [1, 10, 20, 30, 50, 75]\n",
    "list_mse = []"
   ]
  },
  {
   "cell_type": "code",
   "execution_count": 5,
   "id": "cordless-demand",
   "metadata": {},
   "outputs": [],
   "source": [
    "for trees in tree_count:\n",
    "    gradient_model = GradientBoostingClassifier(n_estimators=trees, learning_rate=0.1, max_depth=10, random_state=42)\n",
    "    gradient_model.fit(X_train, (y_train))\n",
    "    y_pred = gradient_model.predict(X_test)\n",
    "    list_mse.append(mean_squared_error(y_test, y_pred))"
   ]
  },
  {
   "cell_type": "code",
   "execution_count": 6,
   "id": "cardiac-governor",
   "metadata": {},
   "outputs": [
    {
     "data": {
      "text/plain": [
       "Text(0.5, 1.0, 'MSE for different n_estimators')"
      ]
     },
     "execution_count": 6,
     "metadata": {},
     "output_type": "execute_result"
    },
    {
     "data": {
      "image/png": "[encoded data removed]",
      "text/plain": [
       "<Figure size 432x288 with 1 Axes>"
      ]
     },
     "metadata": {
      "needs_background": "light"
     },
     "output_type": "display_data"
    }
   ],
   "source": [
    "plt.plot(tree_count, list_mse, c='r', linewidth=3)\n",
    "plt.xlabel('Trees')\n",
    "plt.ylabel('MSE')\n",
    "plt.title('MSE for different n_estimators')"
   ]
  },
  {
   "cell_type": "markdown",
   "id": "stone-cliff",
   "metadata": {},
   "source": [
    "Therefore, n_estimators = 10 is the ideal choice."
   ]
  },
  {
   "cell_type": "markdown",
   "id": "intensive-formula",
   "metadata": {},
   "source": [
    "### Classifier"
   ]
  },
  {
   "cell_type": "code",
   "execution_count": 7,
   "id": "nuclear-speech",
   "metadata": {},
   "outputs": [
    {
     "data": {
      "text/plain": [
       "GradientBoostingClassifier(max_depth=10, n_estimators=10, random_state=42)"
      ]
     },
     "execution_count": 7,
     "metadata": {},
     "output_type": "execute_result"
    }
   ],
   "source": [
    "tree_count = 10\n",
    "gradient_model = GradientBoostingClassifier(n_estimators=tree_count, learning_rate=0.1,max_depth=10,random_state=42)\n",
    "gradient_model.fit(X_train,y_train)"
   ]
  },
  {
   "cell_type": "markdown",
   "id": "floral-qatar",
   "metadata": {},
   "source": [
    "### Gradient Boosting Prediction with all 10 parameters"
   ]
  },
  {
   "cell_type": "code",
   "execution_count": 8,
   "id": "daily-thumbnail",
   "metadata": {},
   "outputs": [],
   "source": [
    "def predict(test_data):\n",
    "    \n",
    "    #test_data = pd.DataFrame(test_data).T\n",
    "    y_pred = gradient_model.predict(test_data)\n",
    "   \n",
    "    return y_pred"
   ]
  },
  {
   "cell_type": "code",
   "execution_count": 9,
   "id": "nasty-retro",
   "metadata": {},
   "outputs": [],
   "source": [
    "y_pred = predict(X_test)"
   ]
  },
  {
   "cell_type": "code",
   "execution_count": 10,
   "id": "photographic-central",
   "metadata": {},
   "outputs": [
    {
     "name": "stdout",
     "output_type": "stream",
     "text": [
      "Prediction accuracy MSE:  0.05263157894736842\n",
      "Accuracy score 0.9473684210526315\n"
     ]
    }
   ],
   "source": [
    "'''Accuracy and MSE Using ALL 10 features'''\n",
    "\n",
    "accuracy_1 = accuracy_score(y_test, y_pred)\n",
    "print(\"Prediction accuracy MSE: \", mean_squared_error(y_test, y_pred))\n",
    "print(\"Accuracy score\", accuracy_score(y_test, y_pred))\n",
    "#print('R-Squared Score',r2_score(y_test,y_pred))"
   ]
  },
  {
   "cell_type": "markdown",
   "id": "composite-employee",
   "metadata": {},
   "source": [
    "### Backward Stepwise selection (MSE and AC Using 1 to 9 features)"
   ]
  },
  {
   "cell_type": "code",
   "execution_count": 11,
   "id": "alike-automation",
   "metadata": {},
   "outputs": [],
   "source": [
    "'''Load the cleaned original dataset for below use'''\n",
    "X = data[['radius_mean', 'texture_mean', 'perimeter_mean',\n",
    "       'area_mean', 'smoothness_mean', 'compactness_mean', 'concavity_mean',\n",
    "       'concave points_mean', 'symmetry_mean', 'fractal_dimension_mean']]\n",
    "y = data.diagnosis\n",
    "\n",
    "'''A list of for the for-loop'''\n",
    "n = [1,2,3,4,5,6,7,8,9]\n",
    "\n",
    "list_MSE=[]\n",
    "list_AC=[]\n",
    "list_MSE_1=[]\n",
    "list_AC_1=[]\n",
    "selected_features = []\n",
    "\n",
    "for i in n:\n",
    "    '''Only passing the training data set into the Feature Selector'''\n",
    "    '''Any preprocessing method should not be fitted on the whole dataset to prevent carrying information from the train set\n",
    "       to test set'''\n",
    "    sbs_backward = SequentialFeatureSelector(GradientBoostingClassifier(), \n",
    "                                             n_features_to_select=i,\n",
    "                                             direction='backward').fit(X_train, y_train)\n",
    "    selected = sbs_backward.get_support(indices=True)\n",
    "    \n",
    "    '''passing the selected features to the orginial dataset for each number of i'''\n",
    "    f_names = np.array(X.columns)\n",
    "    x_manip = X[f_names[selected]]\n",
    "    selected_features.append(f_names[selected])\n",
    "    #print(\"Selected input features using backward Stepwise Selection:\\n\", f_names[selected])\n",
    "\n",
    "    X_train1, X_test1, y_train1, y_test1 = train_test_split(x_manip, y , test_size=0.2, random_state=42)\n",
    "\n",
    "    model = GradientBoostingClassifier(n_estimators=10, learning_rate=0.1,max_depth=10,random_state=42)\n",
    "    model.fit(X_train1,y_train1)\n",
    "    \n",
    "    y_pred1 = model.predict(X_test1)\n",
    "    y_pred2 = model.predict(X_train1)\n",
    "    \n",
    "    list_AC.append(accuracy_score(y_test1, y_pred1))\n",
    "    list_AC_1.append(accuracy_score(y_train1, y_pred2))\n",
    "    list_MSE.append(mean_squared_error(y_test1, y_pred1))\n",
    "    list_MSE_1.append(mean_squared_error(y_train1, y_pred2))"
   ]
  },
  {
   "cell_type": "code",
   "execution_count": 12,
   "id": "compressed-carol",
   "metadata": {},
   "outputs": [
    {
     "data": {
      "image/png": "[encoded data removed]",
      "text/plain": [
       "<Figure size 432x288 with 1 Axes>"
      ]
     },
     "metadata": {
      "needs_background": "light"
     },
     "output_type": "display_data"
    },
    {
     "data": {
      "image/png": "[encoded data removed]",
      "text/plain": [
       "<Figure size 432x288 with 1 Axes>"
      ]
     },
     "metadata": {
      "needs_background": "light"
     },
     "output_type": "display_data"
    }
   ],
   "source": [
    "plt.plot(n, list_MSE_1, label = 'Train MSE')\n",
    "plt.plot(n, list_MSE, label = \"Test MSE\")\n",
    "plt.xlabel(\"Number of Features\")\n",
    "plt.ylabel(\"MSE\")\n",
    "plt.title(\"Backward Feature Selection: MSE values (Gradient_boosting)\")\n",
    "plt.legend()\n",
    "plt.show()\n",
    "\n",
    "plt.plot(n, list_AC_1, label = 'Train Accuracy')\n",
    "plt.plot(n, list_AC, label = \"Test Accuracy\")\n",
    "plt.xlabel(\"Number of Features\")\n",
    "plt.ylabel(\"Accuracy Score\")\n",
    "plt.title(\"Backward Feature Selection: Accuracy (Gradient_boosting)\")\n",
    "plt.legend()\n",
    "plt.show()"
   ]
  },
  {
   "cell_type": "markdown",
   "id": "stainless-energy",
   "metadata": {},
   "source": [
    "### Sample Train, Test, Split results"
   ]
  },
  {
   "cell_type": "code",
   "execution_count": 13,
   "id": "impressive-fashion",
   "metadata": {},
   "outputs": [],
   "source": [
    "def sample_results():\n",
    "    ''' \n",
    "    Returns the results and confusion matrix of the sample dataset from Breast Cancer Wisconsin Dataset.\n",
    "    '''\n",
    "    y_pred = gradient_model.predict(X_test)\n",
    "    print(\"Prediction accuracy MSE: \", mean_squared_error(y_test, y_pred))\n",
    "    print(\"Mean accuracy on test set\", gradient_model.score(X_test, y_test))\n",
    "    print(\"The confusion matrix for the sample dataset using a decision tree is displayed below: \")\n",
    "    print(classification_report(y_test, y_pred))\n",
    "    plot_confusion_matrix(gradient_model, X_test, y_test)\n",
    "    plt.show()\n",
    "    \n",
    "    return"
   ]
  },
  {
   "cell_type": "code",
   "execution_count": 14,
   "id": "guided-development",
   "metadata": {
    "scrolled": false
   },
   "outputs": [
    {
     "name": "stdout",
     "output_type": "stream",
     "text": [
      "Prediction accuracy MSE:  0.05263157894736842\n",
      "Mean accuracy on test set 0.9473684210526315\n",
      "The confusion matrix for the sample dataset using a decision tree is displayed below: \n",
      "              precision    recall  f1-score   support\n",
      "\n",
      "           0       0.96      0.96      0.96        71\n",
      "           1       0.93      0.93      0.93        43\n",
      "\n",
      "    accuracy                           0.95       114\n",
      "   macro avg       0.94      0.94      0.94       114\n",
      "weighted avg       0.95      0.95      0.95       114\n",
      "\n"
     ]
    },
    {
     "data": {
      "image/png": "[encoded data removed]",
      "text/plain": [
       "<Figure size 432x288 with 2 Axes>"
      ]
     },
     "metadata": {
      "needs_background": "light"
     },
     "output_type": "display_data"
    }
   ],
   "source": [
    "'''This matrix is only for Non-stepwise SVM only'''\n",
    "sample_results()"
   ]
  },
  {
   "cell_type": "code",
   "execution_count": 15,
   "id": "defined-basement",
   "metadata": {},
   "outputs": [
    {
     "name": "stdout",
     "output_type": "stream",
     "text": [
      "Prediction accuracy MSE:  0.07017543859649122\n",
      "Mean accuracy on test set 0.9298245614035088\n",
      "The confusion matrix for the sample dataset using a decision tree is displayed below: \n",
      "              precision    recall  f1-score   support\n",
      "\n",
      "           0       0.94      0.94      0.94        71\n",
      "           1       0.91      0.91      0.91        43\n",
      "\n",
      "    accuracy                           0.93       114\n",
      "   macro avg       0.93      0.93      0.93       114\n",
      "weighted avg       0.93      0.93      0.93       114\n",
      "\n"
     ]
    },
    {
     "data": {
      "image/png": "[encoded data removed]",
      "text/plain": [
       "<Figure size 432x288 with 2 Axes>"
      ]
     },
     "metadata": {
      "needs_background": "light"
     },
     "output_type": "display_data"
    }
   ],
   "source": [
    "'''This matrix is for Backward Stepwise SVM with 9 features'''\n",
    "plot_confusion_matrix(model, X_test1, y_test1)\n",
    "print(\"Prediction accuracy MSE: \", mean_squared_error(y_test1, y_pred1))\n",
    "print(\"Mean accuracy on test set\", model.score(X_test1, y_test1))\n",
    "print(\"The confusion matrix for the sample dataset using a decision tree is displayed below: \")\n",
    "print(classification_report(y_test1, y_pred1))\n",
    "\n",
    "plt.show()"
   ]
  },
  {
   "cell_type": "code",
   "execution_count": 16,
   "id": "broken-hughes",
   "metadata": {},
   "outputs": [
    {
     "name": "stdout",
     "output_type": "stream",
     "text": [
      "[0.8333333333333334, 0.868421052631579, 0.9210526315789473, 0.9122807017543859, 0.9122807017543859, 0.9122807017543859, 0.9298245614035088, 0.9035087719298246, 0.9298245614035088]\n",
      "[0.16666666666666666, 0.13157894736842105, 0.07894736842105263, 0.08771929824561403, 0.08771929824561403, 0.08771929824561403, 0.07017543859649122, 0.09649122807017543, 0.07017543859649122]\n"
     ]
    }
   ],
   "source": [
    "print(list_AC)\n",
    "print(list_MSE)"
   ]
  },
  {
   "cell_type": "markdown",
   "id": "pursuant-harvest",
   "metadata": {},
   "source": [
    "**Based on the above information, Best number of parameters for gradient_boosting is 7** "
   ]
  },
  {
   "cell_type": "markdown",
   "id": "warming-improvement",
   "metadata": {},
   "source": [
    "###  Optimized Gradient Boosting Predictor ###"
   ]
  },
  {
   "cell_type": "code",
   "execution_count": 17,
   "id": "circular-expert",
   "metadata": {},
   "outputs": [
    {
     "data": {
      "text/plain": [
       "array(['radius_mean', 'texture_mean', 'perimeter_mean', 'area_mean',\n",
       "       'concavity_mean', 'concave points_mean', 'symmetry_mean'],\n",
       "      dtype=object)"
      ]
     },
     "execution_count": 17,
     "metadata": {},
     "output_type": "execute_result"
    }
   ],
   "source": [
    "selected_features[6]"
   ]
  },
  {
   "cell_type": "code",
   "execution_count": 18,
   "id": "suburban-electron",
   "metadata": {},
   "outputs": [],
   "source": [
    "def feature_names():\n",
    "    '''\n",
    "    Returns array of input features of best performing backwards stepwise selection test.\n",
    "    '''\n",
    "    \n",
    "    return ['radius_mean', 'texture_mean', 'perimeter_mean', 'area_mean',\n",
    "             'concavity_mean', 'concave points_mean', 'symmetry_mean']"
   ]
  },
  {
   "cell_type": "code",
   "execution_count": 19,
   "id": "wooden-center",
   "metadata": {},
   "outputs": [],
   "source": [
    "def predict(test_data):\n",
    "    '''\n",
    "    Takes test data and uses classifier to predict boolean output.\n",
    "    '''\n",
    "    X = data[feature_names()]\n",
    "    y = data.diagnosis\n",
    "    X_train, X_test, y_train, y_test = train_test_split(X, y, test_size=0.2, random_state=42)\n",
    "    gradient_model = GradientBoostingClassifier(n_estimators=10, learning_rate=0.1,max_depth=10, random_state=42)\n",
    "    gradient_model.fit(X_train,(y_train))\n",
    "    y_pred = gradient_model.predict(test_data)\n",
    "    \n",
    "    return y_pred"
   ]
  },
  {
   "cell_type": "code",
   "execution_count": null,
   "id": "medium-large",
   "metadata": {},
   "outputs": [],
   "source": []
  }
 ],
 "metadata": {
  "kernelspec": {
   "display_name": "Python 3",
   "language": "python",
   "name": "python3"
  },
  "language_info": {
   "codemirror_mode": {
    "name": "ipython",
    "version": 3
   },
   "file_extension": ".py",
   "mimetype": "text/x-python",
   "name": "python",
   "nbconvert_exporter": "python",
   "pygments_lexer": "ipython3",
   "version": "3.8.5"
  }
 },
 "nbformat": 4,
 "nbformat_minor": 5
}
