{
 "cells": [
  {
   "cell_type": "code",
   "execution_count": 15,
   "id": "split-angola",
   "metadata": {},
   "outputs": [],
   "source": [
    "import numpy as np\n",
    "import pandas as pd\n",
    "from sklearn.model_selection import train_test_split"
   ]
  },
  {
   "cell_type": "code",
   "execution_count": 16,
   "id": "statutory-fence",
   "metadata": {},
   "outputs": [],
   "source": [
    "data = pd.read_csv('data.csv')"
   ]
  },
  {
   "cell_type": "code",
   "execution_count": 22,
   "id": "excess-domestic",
   "metadata": {},
   "outputs": [],
   "source": [
    "def clean_data(data):\n",
    "    '''\n",
    "    Drops ID column of data as well as Not a Number column at end of dataset.\n",
    "    Retains all mean measurement columns and drops all standard errors and worst measurements.\n",
    "    Remaps diagnosis column to numbered booleans.\n",
    "    '''\n",
    "    data.drop(list(data.filter(regex='_se')), axis=1, inplace=True)\n",
    "    data.drop(list(data.filter(regex='_worst')), axis=1, inplace=True)\n",
    "    data.drop(list(data.filter(regex='id')), axis=1, inplace=True)\n",
    "    data.drop(list(data.filter(regex='Unnamed: 32')), axis=1, inplace=True)\n",
    "    data['diagnosis'].replace('B', 0, inplace=True)\n",
    "    data['diagnosis'].replace('M', 1, inplace=True)\n",
    "    \n",
    "    return data "
   ]
  },
  {
   "cell_type": "code",
   "execution_count": 21,
   "id": "silver-picture",
   "metadata": {},
   "outputs": [],
   "source": [
    "def split_data(data):\n",
    "    '''\n",
    "    Takes cleaned dataset and splits into train, test sets.\n",
    "    '''\n",
    "    X = data[['radius_mean', 'texture_mean', 'perimeter_mean',\n",
    "       'area_mean', 'smoothness_mean', 'compactness_mean', 'concavity_mean',\n",
    "       'concave points_mean', 'symmetry_mean', 'fractal_dimension_mean']]\n",
    "    y = data.diagnosis\n",
    "    X_train, X_test, y_train, y_test = train_test_split(X, y, test_size=0.2, random_state=42)\n",
    "    return X_train, X_test, y_train, y_test"
   ]
  }
 ],
 "metadata": {
  "kernelspec": {
   "display_name": "Python 3",
   "language": "python",
   "name": "python3"
  },
  "language_info": {
   "codemirror_mode": {
    "name": "ipython",
    "version": 3
   },
   "file_extension": ".py",
   "mimetype": "text/x-python",
   "name": "python",
   "nbconvert_exporter": "python",
   "pygments_lexer": "ipython3",
   "version": "3.8.5"
  }
 },
 "nbformat": 4,
 "nbformat_minor": 5
}
