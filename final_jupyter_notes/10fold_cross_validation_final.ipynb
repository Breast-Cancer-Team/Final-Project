{
 "cells": [
  {
   "cell_type": "code",
   "execution_count": 1,
   "metadata": {},
   "outputs": [],
   "source": [
    "# Pandas library for the pandas dataframes\n",
    "import pandas as pd    \n",
    "import numpy as np\n",
    "\n",
    "# Import Scikit-Learn library for models\n",
    "from sklearn.model_selection import train_test_split\n",
    "from sklearn.neighbors import KNeighborsClassifier\n",
    "from sklearn.metrics import r2_score, mean_squared_error, accuracy_score\n",
    "from sklearn.model_selection import cross_val_score\n",
    "from sklearn.linear_model import LogisticRegression\n",
    "from sklearn.svm import SVC, LinearSVC\n",
    "from sklearn.ensemble import BaggingClassifier, RandomForestClassifier, GradientBoostingClassifier\n",
    "from sklearn.tree import DecisionTreeClassifier\n",
    "\n",
    "# Import plotting libraries\n",
    "import seaborn as sns\n",
    "import matplotlib \n",
    "from matplotlib import pyplot as plt\n",
    "\n",
    "# Set larger fontsize for all plots\n",
    "matplotlib.rcParams.update({'font.size': 18})\n",
    "from IPython.display import clear_output\n",
    "\n",
    "# Command to automatically reload modules before executing cells\n",
    "# not needed here but might be if you are writing your own library \n",
    "%load_ext autoreload\n",
    "%autoreload 2\n",
    "\n",
    "# Import cleaning and splitting functions\n",
    "from clean_split_data import clean_data\n",
    "from clean_split_data import split_data\n",
    "\n",
    "# For confusion matrix count\n",
    "from collections import Counter"
   ]
  },
  {
   "cell_type": "markdown",
   "metadata": {},
   "source": [
    "### Data"
   ]
  },
  {
   "cell_type": "code",
   "execution_count": 2,
   "metadata": {},
   "outputs": [],
   "source": [
    "data = pd.read_csv(\"data.csv\")"
   ]
  },
  {
   "cell_type": "code",
   "execution_count": 3,
   "metadata": {},
   "outputs": [],
   "source": [
    "data = clean_data(data)\n",
    "X_train, X_test, y_train, y_test = split_data(data)"
   ]
  },
  {
   "cell_type": "code",
   "execution_count": 4,
   "metadata": {},
   "outputs": [],
   "source": [
    "X = data[['radius_mean', 'texture_mean', 'perimeter_mean',\n",
    "       'area_mean', 'smoothness_mean', 'compactness_mean', 'concavity_mean',\n",
    "       'concave points_mean', 'symmetry_mean', 'fractal_dimension_mean']]\n",
    "y = data.diagnosis"
   ]
  },
  {
   "cell_type": "markdown",
   "metadata": {},
   "source": [
    "### 1. KNN"
   ]
  },
  {
   "cell_type": "code",
   "execution_count": 5,
   "metadata": {},
   "outputs": [
    {
     "name": "stdout",
     "output_type": "stream",
     "text": [
      "[0.85964912 0.84210526 0.85964912 0.87719298 0.89473684 0.89473684\n",
      " 0.94736842 0.94736842 0.9122807  0.91071429]\n",
      "0.89 accuracy with a standard deviation of 0.03\n"
     ]
    }
   ],
   "source": [
    "clf1 = KNeighborsClassifier(n_neighbors=20, weights='distance')\n",
    "score1 = cross_val_score(clf1, X, y, cv=10,scoring='accuracy')\n",
    "print(score1)\n",
    "print(\"%0.2f accuracy with a standard deviation of %0.2f\" % (score1.mean(), score1.std()))"
   ]
  },
  {
   "cell_type": "code",
   "execution_count": 6,
   "metadata": {},
   "outputs": [
    {
     "data": {
      "text/plain": [
       "[<matplotlib.lines.Line2D at 0x7fac23f8bcd0>]"
      ]
     },
     "execution_count": 6,
     "metadata": {},
     "output_type": "execute_result"
    },
    {
     "data": {
      "image/png": "[encoded data removed]",
      "text/plain": [
       "<Figure size 432x288 with 1 Axes>"
      ]
     },
     "metadata": {
      "needs_background": "light"
     },
     "output_type": "display_data"
    }
   ],
   "source": [
    "k_range = range(1,200)\n",
    "k_score = []\n",
    "for k in k_range:\n",
    "    clf1 = KNeighborsClassifier(n_neighbors=k, weights='uniform')\n",
    "    scores =cross_val_score(clf1,X,y,cv=10,scoring='accuracy')\n",
    "    k_score.append(scores.mean())\n",
    "plt.plot(k_range,k_score)"
   ]
  },
  {
   "cell_type": "code",
   "execution_count": 7,
   "metadata": {},
   "outputs": [
    {
     "name": "stdout",
     "output_type": "stream",
     "text": [
      "0.8946428571428571\n",
      "20\n"
     ]
    }
   ],
   "source": [
    "max_ac = max(k_score)\n",
    "max_k = k_score.index(max_ac)\n",
    "print(max_ac)\n",
    "print(max_k)"
   ]
  },
  {
   "cell_type": "markdown",
   "metadata": {},
   "source": [
    "**K = 20 will give the best accuracy of 89.46**"
   ]
  },
  {
   "cell_type": "markdown",
   "metadata": {},
   "source": [
    "### 2. LogRegression"
   ]
  },
  {
   "cell_type": "code",
   "execution_count": 8,
   "metadata": {},
   "outputs": [
    {
     "name": "stdout",
     "output_type": "stream",
     "text": [
      "[0.85964912 0.8245614  0.80701754 0.85964912 0.85964912 0.9122807\n",
      " 0.9122807  0.92982456 0.89473684 0.91071429]\n",
      "0.88 accuracy with a standard deviation of 0.04\n"
     ]
    }
   ],
   "source": [
    "clf2 = LogisticRegression(solver=\"sag\",max_iter=4500)\n",
    "score2 = cross_val_score(clf2, X, y, cv=10,scoring='accuracy')\n",
    "print(score2)\n",
    "print(\"%0.2f accuracy with a standard deviation of %0.2f\" % (score2.mean(), score2.std()))"
   ]
  },
  {
   "cell_type": "code",
   "execution_count": 9,
   "metadata": {
    "scrolled": true
   },
   "outputs": [
    {
     "data": {
      "text/plain": [
       "[<matplotlib.lines.Line2D at 0x7fac23660610>]"
      ]
     },
     "execution_count": 9,
     "metadata": {},
     "output_type": "execute_result"
    },
    {
     "data": {
      "image/png": "[encoded data removed]",
      "text/plain": [
       "<Figure size 432x288 with 1 Axes>"
      ]
     },
     "metadata": {
      "needs_background": "light"
     },
     "output_type": "display_data"
    }
   ],
   "source": [
    "iters_range = [4500,5000, 6000, 7000, 8000, 9000, 100000]\n",
    "iters_score = []\n",
    "for i in iters_range:\n",
    "    clf2 = LogisticRegression(solver=\"sag\",max_iter=i)\n",
    "    scores = cross_val_score(clf2,X,y,cv=10,scoring='accuracy')\n",
    "    iters_score.append(scores.mean())\n",
    "plt.plot(iters_range,iters_score)"
   ]
  },
  {
   "cell_type": "code",
   "execution_count": 10,
   "metadata": {},
   "outputs": [
    {
     "name": "stdout",
     "output_type": "stream",
     "text": [
      "0.8770363408521302\n"
     ]
    }
   ],
   "source": [
    "max_ac = max(iters_score)\n",
    "max_x = iters_score.index(max_ac)\n",
    "print(max_ac)"
   ]
  },
  {
   "cell_type": "markdown",
   "metadata": {},
   "source": [
    "**max_iter = 5000 will give the best accuracy**"
   ]
  },
  {
   "cell_type": "markdown",
   "metadata": {},
   "source": [
    "### 3. SVM_liner"
   ]
  },
  {
   "cell_type": "code",
   "execution_count": 11,
   "metadata": {},
   "outputs": [
    {
     "name": "stdout",
     "output_type": "stream",
     "text": [
      "[0.96491228 0.8245614  0.92982456 0.87719298 0.94736842 0.94736842\n",
      " 0.9122807  0.96491228 0.96491228 0.91071429]\n",
      "0.92 accuracy with a standard deviation of 0.04\n"
     ]
    }
   ],
   "source": [
    "clf3 = SVC(kernel='linear', C=9)\n",
    "score3 = cross_val_score(clf3, X, y, cv=10,scoring='accuracy')\n",
    "print(score3)\n",
    "print(\"%0.2f accuracy with a standard deviation of %0.2f\" % (score3.mean(), score3.std()))"
   ]
  },
  {
   "cell_type": "code",
   "execution_count": 12,
   "metadata": {},
   "outputs": [
    {
     "data": {
      "text/plain": [
       "[<matplotlib.lines.Line2D at 0x7fac23639460>]"
      ]
     },
     "execution_count": 12,
     "metadata": {},
     "output_type": "execute_result"
    },
    {
     "data": {
      "image/png": "[encoded data removed]",
      "text/plain": [
       "<Figure size 432x288 with 1 Axes>"
      ]
     },
     "metadata": {
      "needs_background": "light"
     },
     "output_type": "display_data"
    }
   ],
   "source": [
    "C_range = range(8,20)\n",
    "C_score = []\n",
    "for i in C_range:\n",
    "    clf3 = SVC(kernel='linear', C=i)\n",
    "    scores =cross_val_score(clf3,X,y,cv=10,scoring='accuracy')\n",
    "    C_score.append(scores.mean())\n",
    "plt.plot(C_range,C_score)"
   ]
  },
  {
   "cell_type": "code",
   "execution_count": 13,
   "metadata": {},
   "outputs": [],
   "source": [
    "#C_score"
   ]
  },
  {
   "cell_type": "code",
   "execution_count": 14,
   "metadata": {},
   "outputs": [
    {
     "name": "stdout",
     "output_type": "stream",
     "text": [
      "0.9244047619047621\n",
      "1\n"
     ]
    }
   ],
   "source": [
    "max_ac = max(C_score)\n",
    "max_x = C_score.index(max_ac)\n",
    "print(max_ac)\n",
    "print(max_x)"
   ]
  },
  {
   "cell_type": "markdown",
   "metadata": {},
   "source": [
    "**C = 9   will give the best accuracy**"
   ]
  },
  {
   "cell_type": "markdown",
   "metadata": {},
   "source": [
    "### 4. SVM_rbf"
   ]
  },
  {
   "cell_type": "code",
   "execution_count": 15,
   "metadata": {},
   "outputs": [
    {
     "name": "stdout",
     "output_type": "stream",
     "text": [
      "[0.84210526 0.8245614  0.85964912 0.87719298 0.89473684 0.89473684\n",
      " 0.92982456 0.96491228 0.92982456 0.92857143]\n",
      "0.89 accuracy with a standard deviation of 0.04\n"
     ]
    }
   ],
   "source": [
    "clf4 = SVC(kernel='rbf', C=122)\n",
    "score4 = cross_val_score(clf4, X, y, cv=10,scoring='accuracy')\n",
    "print(score4)\n",
    "print(\"%0.2f accuracy with a standard deviation of %0.2f\" % (score4.mean(), score4.std()))"
   ]
  },
  {
   "cell_type": "code",
   "execution_count": 16,
   "metadata": {},
   "outputs": [
    {
     "data": {
      "text/plain": [
       "[<matplotlib.lines.Line2D at 0x7fac235a01f0>]"
      ]
     },
     "execution_count": 16,
     "metadata": {},
     "output_type": "execute_result"
    },
    {
     "data": {
      "image/png": "[encoded data removed]",
      "text/plain": [
       "<Figure size 432x288 with 1 Axes>"
      ]
     },
     "metadata": {
      "needs_background": "light"
     },
     "output_type": "display_data"
    }
   ],
   "source": [
    "C1_range = range(1,500)\n",
    "C1_score = []\n",
    "for i in C1_range:\n",
    "    clf4 = SVC(kernel='rbf', C=i)\n",
    "    scores =cross_val_score(clf4,X,y,cv=10,scoring='accuracy')\n",
    "    C1_score.append(scores.mean())\n",
    "plt.plot(C1_range,C1_score)"
   ]
  },
  {
   "cell_type": "code",
   "execution_count": 17,
   "metadata": {},
   "outputs": [
    {
     "name": "stdout",
     "output_type": "stream",
     "text": [
      "0.8963659147869674\n",
      "122\n"
     ]
    }
   ],
   "source": [
    "max_ac = max(C1_score)\n",
    "max_x = C1_score.index(max_ac)\n",
    "print(max_ac)\n",
    "print(max_x)"
   ]
  },
  {
   "cell_type": "markdown",
   "metadata": {},
   "source": [
    "**C = 122   will give the best accuracy**"
   ]
  },
  {
   "cell_type": "markdown",
   "metadata": {},
   "source": [
    "### 5. Random Forest"
   ]
  },
  {
   "cell_type": "code",
   "execution_count": 18,
   "metadata": {},
   "outputs": [
    {
     "name": "stdout",
     "output_type": "stream",
     "text": [
      "[0.9122807  0.8245614  0.94736842 0.9122807  0.87719298 0.92982456\n",
      " 0.94736842 0.94736842 0.96491228 0.91071429]\n",
      "0.92 accuracy with a standard deviation of 0.04\n"
     ]
    }
   ],
   "source": [
    "clf5 = RandomForestClassifier(n_estimators=4, random_state=42)\n",
    "score5 = cross_val_score(clf5, X, y, cv=10,scoring='accuracy')\n",
    "print(score5)\n",
    "print(\"%0.2f accuracy with a standard deviation of %0.2f\" % (score5.mean(), score5.std()))"
   ]
  },
  {
   "cell_type": "code",
   "execution_count": 19,
   "metadata": {},
   "outputs": [
    {
     "data": {
      "text/plain": [
       "[<matplotlib.lines.Line2D at 0x7fac23eeff10>]"
      ]
     },
     "execution_count": 19,
     "metadata": {},
     "output_type": "execute_result"
    },
    {
     "data": {
      "image/png": "[encoded data removed]",
      "text/plain": [
       "<Figure size 432x288 with 1 Axes>"
      ]
     },
     "metadata": {
      "needs_background": "light"
     },
     "output_type": "display_data"
    }
   ],
   "source": [
    "n_range = range(1,200)\n",
    "n_score = []\n",
    "for i in n_range:\n",
    "    clf5 = RandomForestClassifier(n_estimators=i, random_state=42)\n",
    "    scores =cross_val_score(clf5,X,y,cv=10,scoring='accuracy')\n",
    "    n_score.append(scores.mean())\n",
    "plt.plot(n_range,n_score)"
   ]
  },
  {
   "cell_type": "code",
   "execution_count": 20,
   "metadata": {},
   "outputs": [
    {
     "name": "stdout",
     "output_type": "stream",
     "text": [
      "0.9525689223057643\n",
      "55\n"
     ]
    }
   ],
   "source": [
    "max_ac = max(n_score)\n",
    "max_x = n_score.index(max_ac)\n",
    "print(max_ac)\n",
    "print(max_x)"
   ]
  },
  {
   "cell_type": "markdown",
   "metadata": {},
   "source": [
    "**n_estimators = 55   will give the best accuracy**"
   ]
  },
  {
   "cell_type": "markdown",
   "metadata": {},
   "source": [
    "### 6. Decision Tree"
   ]
  },
  {
   "cell_type": "code",
   "execution_count": 21,
   "metadata": {},
   "outputs": [],
   "source": [
    "from sklearn.tree import DecisionTreeClassifier"
   ]
  },
  {
   "cell_type": "code",
   "execution_count": 22,
   "metadata": {},
   "outputs": [
    {
     "name": "stdout",
     "output_type": "stream",
     "text": [
      "[0.94736842 0.8245614  0.92982456 0.9122807  0.89473684 0.92982456\n",
      " 0.9122807  0.96491228 0.94736842 0.98214286]\n",
      "0.92 accuracy with a standard deviation of 0.04\n"
     ]
    }
   ],
   "source": [
    "clf7 = DecisionTreeClassifier(max_depth=6, random_state=42)\n",
    "score7 = cross_val_score(clf7, X, y, cv=10,scoring='accuracy')\n",
    "print(score7)\n",
    "print(\"%0.2f accuracy with a standard deviation of %0.2f\" % (score7.mean(), score7.std()))"
   ]
  },
  {
   "cell_type": "code",
   "execution_count": 23,
   "metadata": {},
   "outputs": [
    {
     "data": {
      "text/plain": [
       "[<matplotlib.lines.Line2D at 0x7fac234c34c0>]"
      ]
     },
     "execution_count": 23,
     "metadata": {},
     "output_type": "execute_result"
    },
    {
     "data": {
      "image/png": "[encoded data removed]",
      "text/plain": [
       "<Figure size 432x288 with 1 Axes>"
      ]
     },
     "metadata": {
      "needs_background": "light"
     },
     "output_type": "display_data"
    }
   ],
   "source": [
    "depth_range = range(1,20)\n",
    "depth_score = []\n",
    "for i in depth_range:\n",
    "    clf7 = DecisionTreeClassifier(max_depth=i, random_state=42)\n",
    "    scores =cross_val_score(clf7,X,y,cv=10,scoring='accuracy')\n",
    "    depth_score.append(scores.mean())\n",
    "plt.plot(depth_range,depth_score)"
   ]
  },
  {
   "cell_type": "code",
   "execution_count": 24,
   "metadata": {},
   "outputs": [
    {
     "name": "stdout",
     "output_type": "stream",
     "text": [
      "0.92453007518797\n",
      "5\n"
     ]
    }
   ],
   "source": [
    "max_ac = max(depth_score)\n",
    "max_x = depth_score.index(max_ac)\n",
    "print(max_ac)\n",
    "print(max_x)"
   ]
  },
  {
   "cell_type": "markdown",
   "metadata": {},
   "source": [
    "**Max depth = 5 has the best accuracy**"
   ]
  },
  {
   "cell_type": "markdown",
   "metadata": {},
   "source": [
    "### 7. Bagging"
   ]
  },
  {
   "cell_type": "code",
   "execution_count": 25,
   "metadata": {},
   "outputs": [
    {
     "name": "stdout",
     "output_type": "stream",
     "text": [
      "[0.89473684 0.85964912 0.92982456 0.9122807  0.89473684 0.92982456\n",
      " 0.92982456 0.94736842 0.94736842 0.85714286]\n",
      "0.91 accuracy with a standard deviation of 0.03\n"
     ]
    }
   ],
   "source": [
    "clf11 = DecisionTreeClassifier(max_depth=5, random_state=42)\n",
    "clf6 = BaggingClassifier(base_estimator=clf11, n_estimators=2, random_state=42)\n",
    "score6 = cross_val_score(clf6, X, y, cv=10,scoring='accuracy')\n",
    "print(score6)\n",
    "print(\"%0.2f accuracy with a standard deviation of %0.2f\" % (score6.mean(), score6.std()))"
   ]
  },
  {
   "cell_type": "code",
   "execution_count": 26,
   "metadata": {},
   "outputs": [
    {
     "data": {
      "text/plain": [
       "[<matplotlib.lines.Line2D at 0x7fac23488310>]"
      ]
     },
     "execution_count": 26,
     "metadata": {},
     "output_type": "execute_result"
    },
    {
     "data": {
      "image/png": "[encoded data removed]",
      "text/plain": [
       "<Figure size 432x288 with 1 Axes>"
      ]
     },
     "metadata": {
      "needs_background": "light"
     },
     "output_type": "display_data"
    }
   ],
   "source": [
    "n1_range = range(1,100)\n",
    "n1_score = []\n",
    "for i in n1_range:\n",
    "    clf6 = BaggingClassifier(base_estimator=clf11, n_estimators=i, random_state=42)\n",
    "    scores =cross_val_score(clf6,X,y,cv=10,scoring='accuracy')\n",
    "    n1_score.append(scores.mean())\n",
    "plt.plot(n1_range,n1_score)"
   ]
  },
  {
   "cell_type": "code",
   "execution_count": 27,
   "metadata": {},
   "outputs": [
    {
     "name": "stdout",
     "output_type": "stream",
     "text": [
      "0.9490601503759398\n",
      "43\n"
     ]
    }
   ],
   "source": [
    "max_ac = max(n1_score)\n",
    "max_x = n1_score.index(max_ac)\n",
    "print(max_ac)\n",
    "print(max_x)"
   ]
  },
  {
   "cell_type": "markdown",
   "metadata": {},
   "source": [
    "**n_estimator =  43  will give the best accuracy**"
   ]
  },
  {
   "cell_type": "markdown",
   "metadata": {},
   "source": [
    "### 8.Gradient Boosting"
   ]
  },
  {
   "cell_type": "code",
   "execution_count": 28,
   "metadata": {},
   "outputs": [
    {
     "name": "stdout",
     "output_type": "stream",
     "text": [
      "[0.94736842 0.84210526 0.92982456 0.89473684 0.9122807  0.92982456\n",
      " 0.94736842 0.94736842 0.94736842 0.94642857]\n",
      "0.92 accuracy with a standard deviation of 0.03\n"
     ]
    }
   ],
   "source": [
    "clf8=GradientBoostingClassifier(n_estimators=10, learning_rate=0.1, max_depth=10, random_state=42)\n",
    "score8 = cross_val_score(clf8, X, y, cv=10,scoring='accuracy')\n",
    "print(score8)\n",
    "print(\"%0.2f accuracy with a standard deviation of %0.2f\" % (score8.mean(), score8.std()))"
   ]
  },
  {
   "cell_type": "code",
   "execution_count": 29,
   "metadata": {},
   "outputs": [
    {
     "data": {
      "text/plain": [
       "[<matplotlib.lines.Line2D at 0x7fac2346efd0>]"
      ]
     },
     "execution_count": 29,
     "metadata": {},
     "output_type": "execute_result"
    },
    {
     "data": {
      "image/png": "[encoded data removed]",
      "text/plain": [
       "<Figure size 432x288 with 1 Axes>"
      ]
     },
     "metadata": {
      "needs_background": "light"
     },
     "output_type": "display_data"
    }
   ],
   "source": [
    "i1_range = range(1,20)\n",
    "i1_score = []\n",
    "for i in depth_range:\n",
    "    clf8=GradientBoostingClassifier(n_estimators=i, learning_rate=0.1, max_depth=50, random_state=42)\n",
    "    scores =cross_val_score(clf8,X,y,cv=10,scoring='accuracy')\n",
    "    i1_score.append(scores.mean())\n",
    "plt.plot(i1_range,i1_score)"
   ]
  },
  {
   "cell_type": "code",
   "execution_count": 30,
   "metadata": {},
   "outputs": [
    {
     "name": "stdout",
     "output_type": "stream",
     "text": [
      "0.9280388471177945\n",
      "10\n"
     ]
    }
   ],
   "source": [
    "max_ac = max(i1_score)\n",
    "max_x = i1_score.index(max_ac)\n",
    "print(max_ac)\n",
    "print(max_x)"
   ]
  },
  {
   "cell_type": "markdown",
   "metadata": {},
   "source": [
    "**n_estimator = 10   will give the best accuracy**"
   ]
  },
  {
   "cell_type": "markdown",
   "metadata": {},
   "source": [
    "### Weighted Average"
   ]
  },
  {
   "cell_type": "code",
   "execution_count": 31,
   "metadata": {},
   "outputs": [],
   "source": [
    "dict = {\"knn\": 0.8946428571428571,\n",
    "        \"logreg\": 0.8770363408521302,\n",
    "        \"SVM_lin\": 0.9244047619047621,\n",
    "        \"SVM_rbf\": 0.8963659147869674,\n",
    "        \"Ran\": 0.9525689223057643,\n",
    "        \"Decision\": 0.92453007518797,\n",
    "        \"Bagging\":0.9490601503759398,\n",
    "        \"Gradient\":0.9280388471177945,\n",
    "       }"
   ]
  },
  {
   "cell_type": "code",
   "execution_count": 32,
   "metadata": {},
   "outputs": [
    {
     "name": "stdout",
     "output_type": "stream",
     "text": [
      "1.0335 1.0068 1.0106 1.0373 1.0066 0.9761 0.955 0.9742\n"
     ]
    }
   ],
   "source": [
    "sum = dict['Bagging']+ dict['Decision']+ dict['Gradient'] + dict['Ran']+dict['SVM_lin']+dict['SVM_rbf']+dict['knn']+dict['logreg']\n",
    "weighted_list = print(round(dict['Bagging']/sum*8,4),\n",
    "                      round(dict['Decision']/sum*8,4),\n",
    "                      round(dict['Gradient']/sum*8,4),\n",
    "                      round(dict['Ran']/sum*8,4),\n",
    "                      round(dict['SVM_lin']/sum*8,4),\n",
    "                      round(dict['SVM_rbf']/sum*8,4),\n",
    "                      round(dict['logreg']/sum*8,4),\n",
    "                      round(dict['knn']/sum*8,4))"
   ]
  },
  {
   "cell_type": "code",
   "execution_count": null,
   "metadata": {},
   "outputs": [],
   "source": []
  }
 ],
 "metadata": {
  "kernelspec": {
   "display_name": "Python 3",
   "language": "python",
   "name": "python3"
  },
  "language_info": {
   "codemirror_mode": {
    "name": "ipython",
    "version": 3
   },
   "file_extension": ".py",
   "mimetype": "text/x-python",
   "name": "python",
   "nbconvert_exporter": "python",
   "pygments_lexer": "ipython3",
   "version": "3.8.5"
  }
 },
 "nbformat": 4,
 "nbformat_minor": 4
}
