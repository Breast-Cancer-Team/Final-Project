{
 "cells": [
  {
   "cell_type": "code",
   "execution_count": 1,
   "id": "acoustic-catch",
   "metadata": {},
   "outputs": [],
   "source": [
    "# Pandas library for the pandas dataframes\n",
    "import pandas as pd    \n",
    "import numpy as np\n",
    "\n",
    "# Import Scikit-Learn library for decision tree models\n",
    "import sklearn         \n",
    "from sklearn import linear_model, datasets\n",
    "from sklearn.utils import resample\n",
    "from sklearn import tree\n",
    "from sklearn.tree import DecisionTreeRegressor, DecisionTreeClassifier\n",
    "from sklearn.ensemble import BaggingClassifier, RandomForestClassifier, GradientBoostingClassifier\n",
    "from sklearn.model_selection import train_test_split\n",
    "from sklearn.metrics import r2_score, mean_squared_error, accuracy_score\n",
    "from sklearn.metrics import confusion_matrix \n",
    "from sklearn.metrics import plot_confusion_matrix\n",
    "\n",
    "\n",
    "# Import plotting libraries\n",
    "import seaborn as sns\n",
    "import matplotlib \n",
    "from matplotlib import pyplot as plt\n",
    "\n",
    "\n",
    "# Set larger fontsize for all plots\n",
    "matplotlib.rcParams.update({'font.size': 18})\n",
    "from IPython.display import clear_output\n",
    "\n",
    "# Command to automatically reload modules before executing cells\n",
    "# not needed here but might be if you are writing your own library \n",
    "%load_ext autoreload\n",
    "%autoreload 2\n",
    "\n",
    "# Import cleaning and splitting functions\n",
    "from clean_split_data import clean_data\n",
    "from clean_split_data import split_data"
   ]
  },
  {
   "cell_type": "markdown",
   "id": "touched-library",
   "metadata": {},
   "source": [
    "### Data"
   ]
  },
  {
   "cell_type": "code",
   "execution_count": 2,
   "id": "finnish-reconstruction",
   "metadata": {},
   "outputs": [],
   "source": [
    "data = pd.read_csv('data.csv')"
   ]
  },
  {
   "cell_type": "code",
   "execution_count": 3,
   "id": "demonstrated-vacuum",
   "metadata": {},
   "outputs": [],
   "source": [
    "data = clean_data(data)\n",
    "X_train, X_test, y_train, y_test = split_data(data)"
   ]
  },
  {
   "cell_type": "markdown",
   "id": "altered-foster",
   "metadata": {},
   "source": [
    "### Classifier"
   ]
  },
  {
   "cell_type": "code",
   "execution_count": 4,
   "id": "juvenile-passion",
   "metadata": {},
   "outputs": [],
   "source": [
    "clf_RF = RandomForestClassifier(n_estimators=50, random_state=42)\n",
    "clf_RF = clf_RF.fit(X_train, y_train)"
   ]
  },
  {
   "cell_type": "markdown",
   "id": "laden-phase",
   "metadata": {},
   "source": [
    "### Random Forest Prediction (User Input)"
   ]
  },
  {
   "cell_type": "code",
   "execution_count": 5,
   "id": "laughing-somerset",
   "metadata": {},
   "outputs": [],
   "source": [
    "def predict(test_data):\n",
    "    '''\n",
    "    Takes test data and uses classifier to predict boolean output.\n",
    "    '''\n",
    "    y_RF = clf_RF.predict(test_data)\n",
    "    \n",
    "    return y_RF"
   ]
  },
  {
   "cell_type": "markdown",
   "id": "academic-pierre",
   "metadata": {},
   "source": [
    "### Sample Train, Test, Split Results"
   ]
  },
  {
   "cell_type": "code",
   "execution_count": 6,
   "id": "aboriginal-trial",
   "metadata": {},
   "outputs": [],
   "source": [
    "def sample_results():\n",
    "    '''\n",
    "    Returns the results and confusion matrix of the sample dataset from Breast Cancer Wisconsin Dataset.\n",
    "    '''\n",
    "    y_RF = clf_RF.predict(X_test)\n",
    "    print(\"Accuracy score\", accuracy_score(y_test, y_RF))\n",
    "    print(\"The confusion matrix for the sample dataset using bagging decision trees is displayed below: \")\n",
    "    plot_confusion_matrix(clf_RF, X_test, y_test)\n",
    "    plt.show()\n",
    "    \n",
    "    return"
   ]
  }
 ],
 "metadata": {
  "kernelspec": {
   "display_name": "Python 3",
   "language": "python",
   "name": "python3"
  },
  "language_info": {
   "codemirror_mode": {
    "name": "ipython",
    "version": 3
   },
   "file_extension": ".py",
   "mimetype": "text/x-python",
   "name": "python",
   "nbconvert_exporter": "python",
   "pygments_lexer": "ipython3",
   "version": "3.8.5"
  }
 },
 "nbformat": 4,
 "nbformat_minor": 5
}
