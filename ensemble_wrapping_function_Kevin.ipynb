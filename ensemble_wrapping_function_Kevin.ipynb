{
 "cells": [
  {
   "cell_type": "code",
   "execution_count": null,
   "id": "artistic-injection",
   "metadata": {},
   "outputs": [],
   "source": [
    "# Importing models\n",
    "import bagging_decision_trees\n",
    "import decision_trees\n",
    "# import gradient_boosting\n",
    "import knn\n",
    "import logistic_regression\n",
    "import random_forest\n",
    "import SVM_linear_keitonUpdated-Copy1.ipynb\n",
    "import SVM_rbf_Keiton_updated.ipynb"
   ]
  },
  {
   "cell_type": "code",
   "execution_count": null,
   "id": "variable-superior",
   "metadata": {},
   "outputs": [],
   "source": [
    "# CSV name will be provided by the user as a string\n",
    "# import knn for example\n",
    "# knn will have functions that give back the the input feature names that best fit the model (let's call this feature_names)\n",
    "# models already have classifier functions that return classifier trained on the wisconsin dataset\n",
    "def average_ensemble(csv_name):\n",
    "    predictions_df = pd.DataFrame(columns=['Sample Number', 'Diagnosis'])\n",
    "    sample_predictions = []\n",
    "    data = pd.read_csv(csv_name + str(.csv))\n",
    "    X = data[knn.feature_names]\n",
    "    y_knn = knn.predict(X)\n",
    "#     repeat this X = and y_ = process for all models\n",
    "    for vote_knn, vote_log, ... in zip(y_knn, y_... #all the other predictions):\n",
    "        average_vote = mean(vote_knn, vote_log...) # mean is from from statistics import mean\n",
    "        if average_vote < 0.5:\n",
    "            sample_predictions.append([vote_knn+1, 'B'])\n",
    "        else:\n",
    "            sample_predictions.append([vote_knn+1, 'M'])     \n",
    "    predictions_df.append(sample_predictions)\n",
    "    \n",
    "    return predictions_df.to_csv('Sample Diagnosis Results.csv', index=False)"
   ]
  },
  {
   "cell_type": "code",
   "execution_count": null,
   "id": "convenient-macedonia",
   "metadata": {},
   "outputs": [],
   "source": [
    "def average_ensemble(csv_name):\n",
    "    predictions_df = pd.DataFrame(columns=['Sample Number', 'Diagnosis'])\n",
    "    id_predictions = []\n",
    "    data = pd.read_csv(csv_name + str(.csv))\n",
    "    X = data[knn.feature_names]\n",
    "    y_knn = knn.predict(X)\n",
    "    \n",
    "    "
   ]
  }
 ],
 "metadata": {
  "kernelspec": {
   "display_name": "Python 3",
   "language": "python",
   "name": "python3"
  },
  "language_info": {
   "codemirror_mode": {
    "name": "ipython",
    "version": 3
   },
   "file_extension": ".py",
   "mimetype": "text/x-python",
   "name": "python",
   "nbconvert_exporter": "python",
   "pygments_lexer": "ipython3",
   "version": "3.8.5"
  }
 },
 "nbformat": 4,
 "nbformat_minor": 5
}
