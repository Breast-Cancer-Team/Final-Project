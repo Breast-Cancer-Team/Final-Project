{
 "cells": [
  {
   "cell_type": "code",
   "execution_count": 1,
   "id": "characteristic-knitting",
   "metadata": {},
   "outputs": [],
   "source": [
    "\n",
    "import pandas as pd    \n",
    "\n",
    "# Import Scikit-Learn library for the regression models\n",
    "import sklearn         \n",
    "from sklearn import linear_model, datasets\n",
    "from sklearn.model_selection import train_test_split\n",
    "from sklearn.linear_model import LogisticRegression\n",
    "from sklearn.linear_model import LinearRegression\n",
    "from sklearn.metrics import r2_score, mean_squared_error, accuracy_score\n",
    "# Note - you will need version 0.24.1 of scikit-learn to load this library (SequentialFeatureSelector)\n",
    "from sklearn.feature_selection import f_regression, SequentialFeatureSelector\n",
    "from sklearn.preprocessing import PolynomialFeatures\n",
    "from sklearn.pipeline import make_pipeline\n",
    "\n",
    "# Import numpy \n",
    "import numpy as np\n",
    "\n",
    "# Another statistic model library\n",
    "import statsmodels.api as sm\n",
    "import statsmodels.formula.api as smf\n",
    "\n",
    "import scipy.stats as stats\n",
    "import scipy\n",
    "from scipy import interpolate\n",
    "from scipy.interpolate import interp1d\n",
    "\n",
    "# Import plotting libraries\n",
    "import seaborn as sns\n",
    "import matplotlib \n",
    "from matplotlib import pyplot as plt\n",
    "# Set larger fontsize for all plots\n",
    "matplotlib.rcParams.update({'font.size': 20})\n",
    "\n",
    "# Command to automatically reload modules before executing cells\n",
    "# not needed here but might be if you are writing your own library \n",
    "%load_ext autoreload\n",
    "%autoreload 2\n",
    "\n",
    "\n",
    "%matplotlib inline"
   ]
  },
  {
   "cell_type": "code",
   "execution_count": 2,
   "id": "younger-bradford",
   "metadata": {},
   "outputs": [],
   "source": [
    "data = pd.read_csv('data.csv')\n",
    "data.pop('Unnamed: 32')\n",
    "\n",
    "data['diagnosis'] = data['diagnosis'].replace('B',0);\n",
    "data['diagnosis'] = data['diagnosis'].replace('M',1);\n",
    "\n",
    "y = data.diagnosis\n",
    "X = data.T\n",
    "x = X[2:]\n",
    "x = x.T"
   ]
  },
  {
   "cell_type": "code",
   "execution_count": 3,
   "id": "aggregate-highland",
   "metadata": {},
   "outputs": [],
   "source": [
    "X_train, X_test, y_train, y_test = train_test_split(x, y, test_size=0.2, random_state=42)"
   ]
  },
  {
   "cell_type": "code",
   "execution_count": 51,
   "id": "satisfied-signature",
   "metadata": {},
   "outputs": [
    {
     "name": "stdout",
     "output_type": "stream",
     "text": [
      "0.8132983950212905\n",
      "0.043859649122807015\n"
     ]
    },
    {
     "name": "stderr",
     "output_type": "stream",
     "text": [
      "/Users/sdogg/opt/anaconda3/lib/python3.8/site-packages/sklearn/linear_model/_logistic.py:763: ConvergenceWarning: lbfgs failed to converge (status=1):\n",
      "STOP: TOTAL NO. of ITERATIONS REACHED LIMIT.\n",
      "\n",
      "Increase the number of iterations (max_iter) or scale the data as shown in:\n",
      "    https://scikit-learn.org/stable/modules/preprocessing.html\n",
      "Please also refer to the documentation for alternative solver options:\n",
      "    https://scikit-learn.org/stable/modules/linear_model.html#logistic-regression\n",
      "  n_iter_i = _check_optimize_result(\n"
     ]
    }
   ],
   "source": [
    "model  = LogisticRegression().fit(X_train,y_train)\n",
    "\n",
    "y_predict = model.predict(X_test)\n",
    "print(r2_score(y_test,y_predict))\n",
    "print(mean_squared_error(y_test,y_predict))\n",
    "accuracy_1 = np.round(accuracy_score(y_test,y_predict)*100)"
   ]
  },
  {
   "cell_type": "code",
   "execution_count": 5,
   "id": "centered-reservoir",
   "metadata": {},
   "outputs": [
    {
     "name": "stderr",
     "output_type": "stream",
     "text": [
      "/Users/sdogg/opt/anaconda3/lib/python3.8/site-packages/sklearn/linear_model/_logistic.py:763: ConvergenceWarning: lbfgs failed to converge (status=1):\n",
      "STOP: TOTAL NO. of ITERATIONS REACHED LIMIT.\n",
      "\n",
      "Increase the number of iterations (max_iter) or scale the data as shown in:\n",
      "    https://scikit-learn.org/stable/modules/preprocessing.html\n",
      "Please also refer to the documentation for alternative solver options:\n",
      "    https://scikit-learn.org/stable/modules/linear_model.html#logistic-regression\n",
      "  n_iter_i = _check_optimize_result(\n"
     ]
    },
    {
     "name": "stdout",
     "output_type": "stream",
     "text": [
      "Selected input features using Forward Stepwise Selection:\n",
      " ['id' 'symmetry_mean' 'fractal_dimension_se' 'radius_worst']\n",
      "['symmetry_mean', 'fractal_dimension_se', 'radius_worst']\n"
     ]
    }
   ],
   "source": [
    "\n",
    "sfs_forward = SequentialFeatureSelector(LogisticRegression(), \n",
    "                                        n_features_to_select=4,\n",
    "                                        direction='forward').fit(x, y)\n",
    "\n",
    "f_names = np.array(data.columns)\n",
    "selected = sfs_forward.get_support(indices=True)\n",
    "print(\"Selected input features using Forward Stepwise Selection:\\n\", f_names[selected])\n",
    "columns_names = list(f_names[selected])\n",
    "\n",
    "if 'diagnosis' in columns_names:\n",
    "    columns_names.remove('diagnosis')\n",
    "if 'id' in columns_names:\n",
    "    columns_names.remove('id')\n",
    "print(columns_names)"
   ]
  },
  {
   "cell_type": "code",
   "execution_count": 6,
   "id": "important-bubble",
   "metadata": {},
   "outputs": [],
   "source": [
    "x_manip = data[columns_names]\n",
    "\n",
    "y = data.diagnosis\n",
    "\n",
    "X_train_manip, X_test_manip, y_train_2, y_test_2 = train_test_split(x_manip, y, test_size=0.2, random_state=42)"
   ]
  },
  {
   "cell_type": "code",
   "execution_count": 45,
   "id": "powerful-mainstream",
   "metadata": {},
   "outputs": [
    {
     "name": "stdout",
     "output_type": "stream",
     "text": [
      "0.06140350877192982\n",
      "94.0\n"
     ]
    }
   ],
   "source": [
    "model_2  = LogisticRegression().fit(X_train_manip,y_train_2)\n",
    "y_predict_2 = model_2.predict(X_test_manip)\n",
    "r2_2 = r2_score(y_test_2,y_predict_2)\n",
    "print(mean_squared_error(y_test_2,y_predict_2))\n",
    "accuracy_2 = np.round(accuracy_score(y_test_2,y_predict_2)*100)\n",
    "print(accuracy_2)\n"
   ]
  },
  {
   "cell_type": "code",
   "execution_count": 56,
   "id": "internal-trainer",
   "metadata": {},
   "outputs": [
    {
     "data": {
      "image/png": "[encoded data removed]",
      "text/plain": [
       "<Figure size 720x360 with 2 Axes>"
      ]
     },
     "metadata": {
      "needs_background": "light"
     },
     "output_type": "display_data"
    }
   ],
   "source": [
    "fig,ax = plt.subplots(1,2,figsize=(10,5))\n",
    "ax[0].scatter(y_test, y_predict - y_test, marker='o',s=(200-(100*abs(y_predict_2-y_test_2))),alpha=0.1,c= 'FireBrick',label = \"Accuracy: \"+str(accuracy_1)+\"%\")\n",
    "ax[0].set_title('Residual plot of all features', fontsize=15)\n",
    "ax[0].set_xlabel('Diagnosis')\n",
    "ax[0].set_ylabel('Correct Label')\n",
    "ax[0].legend()\n",
    "\n",
    "ax[1].scatter(y_test_2, y_predict_2 - y_test_2,s=(200-(100*abs(y_predict_2-y_test_2))),alpha=0.1,c= 'DarkCyan',label = \"Accuracy: \"+str(accuracy_2)+\"%\")\n",
    "ax[1].set_title('Residual plot after Stepwise Selection', fontsize=15)\n",
    "ax[1].set_xlabel('Diagnosis')\n",
    "ax[1].set_ylabel('Correct Label')\n",
    "ax[1].legend()\n",
    "\n",
    "plt.tight_layout()"
   ]
  },
  {
   "cell_type": "code",
   "execution_count": null,
   "id": "prospective-dimension",
   "metadata": {},
   "outputs": [],
   "source": []
  },
  {
   "cell_type": "code",
   "execution_count": null,
   "id": "perfect-chile",
   "metadata": {},
   "outputs": [],
   "source": []
  }
 ],
 "metadata": {
  "kernelspec": {
   "display_name": "Python 3",
   "language": "python",
   "name": "python3"
  },
  "language_info": {
   "codemirror_mode": {
    "name": "ipython",
    "version": 3
   },
   "file_extension": ".py",
   "mimetype": "text/x-python",
   "name": "python",
   "nbconvert_exporter": "python",
   "pygments_lexer": "ipython3",
   "version": "3.8.5"
  }
 },
 "nbformat": 4,
 "nbformat_minor": 5
}
