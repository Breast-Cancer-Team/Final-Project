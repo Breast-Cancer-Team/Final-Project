{
 "cells": [
  {
   "cell_type": "code",
   "execution_count": 2,
   "id": "characteristic-knitting",
   "metadata": {},
   "outputs": [],
   "source": [
    "\n",
    "import pandas as pd    \n",
    "\n",
    "# Import Scikit-Learn library for the regression models\n",
    "import sklearn         \n",
    "from sklearn import linear_model, datasets\n",
    "from sklearn.model_selection import train_test_split\n",
    "from sklearn.datasets import make_classification\n",
    "\n",
    "from sklearn.metrics import r2_score, mean_squared_error, accuracy_score\n",
    "# Note - you will need version 0.24.1 of scikit-learn to load this library (SequentialFeatureSelector)\n",
    "from sklearn.feature_selection import f_regression, SequentialFeatureSelector\n",
    "from sklearn.svm import SVC, LinearSVC\n",
    "\n",
    "# Import numpy \n",
    "import numpy as np\n",
    "\n",
    "# Another statistic model library\n",
    "import statsmodels.api as sm\n",
    "import statsmodels.formula.api as smf\n",
    "\n",
    "import scipy.stats as stats\n",
    "import scipy\n",
    "from scipy import interpolate\n",
    "from scipy.interpolate import interp1d\n",
    "\n",
    "# Import plotting libraries\n",
    "import seaborn as sns\n",
    "import matplotlib \n",
    "from matplotlib import pyplot as plt\n",
    "# Set larger fontsize for all plots\n",
    "matplotlib.rcParams.update({'font.size': 20})\n",
    "\n",
    "# Command to automatically reload modules before executing cells\n",
    "# not needed here but might be if you are writing your own library \n",
    "%load_ext autoreload\n",
    "%autoreload 2\n",
    "\n",
    "\n",
    "%matplotlib inline"
   ]
  },
  {
   "cell_type": "code",
   "execution_count": 3,
   "id": "younger-bradford",
   "metadata": {},
   "outputs": [],
   "source": [
    "data = pd.read_csv('data.csv')\n",
    "data.pop('Unnamed: 32')\n",
    "\n",
    "data['diagnosis'] = data['diagnosis'].replace('B',0);\n",
    "data['diagnosis'] = data['diagnosis'].replace('M',1);\n",
    "\n",
    "y = data.diagnosis\n",
    "X = data.T\n",
    "x = X[2:]\n",
    "x = x.T"
   ]
  },
  {
   "cell_type": "code",
   "execution_count": 4,
   "id": "aggregate-highland",
   "metadata": {},
   "outputs": [],
   "source": [
    "X_train, X_test, y_train, y_test = train_test_split(x, y, test_size=0.2, random_state=42)"
   ]
  },
  {
   "cell_type": "code",
   "execution_count": 5,
   "id": "satisfied-signature",
   "metadata": {},
   "outputs": [
    {
     "name": "stdout",
     "output_type": "stream",
     "text": [
      "-0.6056338028169015\n"
     ]
    }
   ],
   "source": [
    "model = SVC(kernel='rbf', gamma=4, C=10000)\n",
    "model.fit(X_train, y_train)\n",
    "score = model.score(X_test, y_test)\n",
    "y_predict = model.predict(X_test)\n",
    "\n",
    "print(r2_score(y_test,y_predict))\n",
    "accuracy_1 = abs(np.round(r2_score(y_test,y_predict)*100))"
   ]
  },
  {
   "cell_type": "code",
   "execution_count": 6,
   "id": "centered-reservoir",
   "metadata": {},
   "outputs": [
    {
     "name": "stdout",
     "output_type": "stream",
     "text": [
      "Selected input features using Forward Stepwise Selection:\n",
      " ['id' 'radius_mean' 'fractal_dimension_se' 'radius_worst']\n",
      "['radius_mean', 'fractal_dimension_se', 'radius_worst']\n"
     ]
    }
   ],
   "source": [
    "sfs_forward = SequentialFeatureSelector(SVC(kernel = \"rbf\"), \n",
    "                                        n_features_to_select=4,\n",
    "                                        direction='forward').fit(x, y)\n",
    "\n",
    "f_names = np.array(data.columns)\n",
    "selected = sfs_forward.get_support(indices=True)\n",
    "print(\"Selected input features using Forward Stepwise Selection:\\n\", f_names[selected])\n",
    "columns_names = list(f_names[selected])\n",
    "\n",
    "if 'diagnosis' in columns_names:\n",
    "    columns_names.remove('diagnosis')\n",
    "if 'id' in columns_names:\n",
    "    columns_names.remove('id')\n",
    "print(columns_names)"
   ]
  },
  {
   "cell_type": "code",
   "execution_count": 7,
   "id": "important-bubble",
   "metadata": {},
   "outputs": [],
   "source": [
    "x_manip = data[columns_names]\n",
    "\n",
    "y = data.diagnosis\n",
    "\n",
    "X_train_manip, X_test_manip, y_train_2, y_test_2 = train_test_split(x_manip, y, test_size=0.2, random_state=42)"
   ]
  },
  {
   "cell_type": "code",
   "execution_count": 8,
   "id": "exclusive-tours",
   "metadata": {},
   "outputs": [],
   "source": [
    "model = SVC(kernel='rbf', gamma=4, C=10000)\n",
    "model.fit(X_train_manip, y_train_2)\n",
    "y_predict_2 = model.predict(X_test_manip)\n",
    "\n",
    "accuracy_2 = np.round(r2_score(y_test_2,y_predict_2)*100)\n",
    "\n"
   ]
  },
  {
   "cell_type": "code",
   "execution_count": 9,
   "id": "bronze-gateway",
   "metadata": {},
   "outputs": [
    {
     "data": {
      "image/png": "[encoded data removed]",
      "text/plain": [
       "<Figure size 900x360 with 2 Axes>"
      ]
     },
     "metadata": {
      "needs_background": "light"
     },
     "output_type": "display_data"
    }
   ],
   "source": [
    "fig,ax = plt.subplots(1,2,figsize=(12.5,5))\n",
    "ax[0].scatter(y_test, y_predict - y_test, marker='o',s=(200-(100*abs(y_predict_2-y_test_2))),alpha=0.1,c= 'FireBrick',label = \"R^2: \"+str(accuracy_1)+\"%\")\n",
    "ax[0].set_title('Residual plot of all features after SVM rbf', fontsize=15)\n",
    "ax[0].set_xlabel('Diagnosis')\n",
    "ax[0].set_ylabel('Correct Label')\n",
    "ax[0].legend()\n",
    "\n",
    "ax[1].scatter(y_test_2, y_predict_2 - y_test_2,s=(200-(100*abs(y_predict_2-y_test_2))),alpha=0.1,c= 'DarkCyan',label = \"R^2: \"+str(accuracy_2)+\"%\")\n",
    "ax[1].set_title('Residual plot after Stepwise Selection after SVM rbf', fontsize=15)\n",
    "ax[1].set_xlabel('Diagnosis')\n",
    "ax[1].set_ylabel('Correct Label')\n",
    "ax[1].legend()\n",
    "\n",
    "plt.tight_layout()"
   ]
  },
  {
   "cell_type": "code",
   "execution_count": null,
   "id": "hungarian-orlando",
   "metadata": {},
   "outputs": [],
   "source": []
  },
  {
   "cell_type": "code",
   "execution_count": null,
   "id": "public-train",
   "metadata": {},
   "outputs": [],
   "source": []
  }
 ],
 "metadata": {
  "kernelspec": {
   "display_name": "Python 3",
   "language": "python",
   "name": "python3"
  },
  "language_info": {
   "codemirror_mode": {
    "name": "ipython",
    "version": 3
   },
   "file_extension": ".py",
   "mimetype": "text/x-python",
   "name": "python",
   "nbconvert_exporter": "python",
   "pygments_lexer": "ipython3",
   "version": "3.8.5"
  }
 },
 "nbformat": 4,
 "nbformat_minor": 5
}
