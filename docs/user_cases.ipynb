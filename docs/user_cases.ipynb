{
 "cells": [
  {
   "cell_type": "markdown",
   "id": "dying-transaction",
   "metadata": {},
   "source": [
    "**What software does**: \n",
    "\n",
    "Software ultimately focuses on diagnosing a patient’s breast cancer based on the cell nucleus properties such as radius, area, etc. To get there, gynecologists will extract cells that are inside a patient's breast using a method called fine needle aspirations (FNA) and send the biopsied tissues to pathologists. Then pathologists will observe the tissue’s cells and enter these cell’s measurements into software, which takes in a dataset from the user, cleans up unnecessary data, and splits the data into training and test sets in order to create machine learning models that output categorical, boolean results for diagnosis. \n",
    "\n",
    "Multiple machine learning models are combined using an ensemble method in order to achieve the final diagnosis of each individual patient’s data input to the software. The software will approach a multiple machine learning design by using a heterogeneous ensemble learning method. \n",
    "\n",
    "**User**: \n",
    "The user of this software is most likely a pathologist that examines a patient’s samples and notes the physical properties of the patient’s cancer cells. The user will input this data into the software in order to diagnose the patient’s cancer as malignant or benign in nature.\n",
    "\n",
    "\n",
    "**Responses**:\n",
    "\n",
    "Boolean of malignant or benign nature of tumor based on input information.\n",
    "\n",
    "Plot of data and R^2 values.\n",
    "\n",
    "**Messages**:\n",
    "\n",
    "Dimensions out of bounds.\n",
    "Not enough information provided.\n",
    "Include this or don't include that.\n"
   ]
  }
 ],
 "metadata": {
  "kernelspec": {
   "display_name": "Python 3",
   "language": "python",
   "name": "python3"
  },
  "language_info": {
   "codemirror_mode": {
    "name": "ipython",
    "version": 3
   },
   "file_extension": ".py",
   "mimetype": "text/x-python",
   "name": "python",
   "nbconvert_exporter": "python",
   "pygments_lexer": "ipython3",
   "version": "3.8.5"
  }
 },
 "nbformat": 4,
 "nbformat_minor": 5
}
