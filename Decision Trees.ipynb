{
 "cells": [
  {
   "cell_type": "code",
   "execution_count": 1,
   "id": "rational-source",
   "metadata": {},
   "outputs": [],
   "source": [
    "# Pandas library for the pandas dataframes\n",
    "import pandas as pd    \n",
    "import numpy as np\n",
    "\n",
    "# Import Scikit-Learn library for decision tree models\n",
    "import sklearn         \n",
    "from sklearn import linear_model, datasets\n",
    "from sklearn.utils import resample\n",
    "from sklearn import tree\n",
    "from sklearn.tree import DecisionTreeRegressor, DecisionTreeClassifier\n",
    "from sklearn.ensemble import BaggingClassifier, RandomForestClassifier, GradientBoostingClassifier\n",
    "from sklearn.model_selection import train_test_split\n",
    "from sklearn.metrics import r2_score, mean_squared_error, accuracy_score\n",
    "from sklearn.metrics import confusion_matrix \n",
    "from sklearn.metrics import plot_confusion_matrix\n",
    "\n",
    "\n",
    "# Import plotting libraries\n",
    "import matplotlib \n",
    "from matplotlib import pyplot as plt\n",
    "\n",
    "\n",
    "# Set larger fontsize for all plots\n",
    "matplotlib.rcParams.update({'font.size': 18})\n",
    "from IPython.display import clear_output\n",
    "\n",
    "# Command to automatically reload modules before executing cells\n",
    "# not needed here but might be if you are writing your own library \n",
    "%load_ext autoreload\n",
    "%autoreload 2\n",
    "\n",
    "# Import cleaning and splitting functions\n",
    "from clean_split_data import clean_data\n",
    "from clean_split_data import split_data\n",
    "\n",
    "# For confusion matrix count\n",
    "from collections import Counter"
   ]
  },
  {
   "cell_type": "markdown",
   "id": "lesbian-family",
   "metadata": {},
   "source": [
    "### Data"
   ]
  },
  {
   "cell_type": "code",
   "execution_count": 2,
   "id": "natural-thumb",
   "metadata": {},
   "outputs": [],
   "source": [
    "data = pd.read_csv('data.csv')"
   ]
  },
  {
   "cell_type": "code",
   "execution_count": 3,
   "id": "patient-discount",
   "metadata": {},
   "outputs": [],
   "source": [
    "data = clean_data(data)\n",
    "X_train, X_test, y_train, y_test = split_data(data)"
   ]
  },
  {
   "cell_type": "markdown",
   "id": "portuguese-diary",
   "metadata": {},
   "source": [
    "### Classifier"
   ]
  },
  {
   "cell_type": "code",
   "execution_count": 4,
   "id": "assigned-norman",
   "metadata": {},
   "outputs": [
    {
     "data": {
      "text/plain": [
       "DecisionTreeClassifier()"
      ]
     },
     "execution_count": 4,
     "metadata": {},
     "output_type": "execute_result"
    }
   ],
   "source": [
    "# Default criterion is GINI index\n",
    "classifier = DecisionTreeClassifier()\n",
    "classifier.fit(X_train, y_train)"
   ]
  },
  {
   "cell_type": "markdown",
   "id": "sexual-princeton",
   "metadata": {},
   "source": [
    "### Decision Tree Prediction (User Input)"
   ]
  },
  {
   "cell_type": "code",
   "execution_count": 5,
   "id": "saved-letter",
   "metadata": {},
   "outputs": [],
   "source": [
    "def predict(test_data):\n",
    "    '''\n",
    "    Takes test data and uses classifier to predict boolean output.\n",
    "    '''\n",
    "    y_pred = classifier.predict(test_data)\n",
    "    \n",
    "    return y_pred"
   ]
  },
  {
   "cell_type": "markdown",
   "id": "novel-electron",
   "metadata": {},
   "source": [
    "### Sample Train, Test, Split results"
   ]
  },
  {
   "cell_type": "code",
   "execution_count": 6,
   "id": "employed-venture",
   "metadata": {},
   "outputs": [],
   "source": [
    "def sample_results():\n",
    "    ''' \n",
    "    Returns the results and confusion matrix of the sample dataset from Breast Cancer Wisconsin Dataset.\n",
    "    '''\n",
    "    y_pred = classifier.predict(X_test)\n",
    "    print(\"Prediction accuracy MSE: \", mean_squared_error(y_test, y_pred))\n",
    "    print(\"Mean accuracy on test set\", classifier.score(X_test, y_test))\n",
    "    print(\"The confusion matrix for the sample dataset using a decision tree is displayed below: \")\n",
    "    plot_confusion_matrix(classifier, X_test, y_test)\n",
    "    plt.show()\n",
    "    \n",
    "    return"
   ]
  },
  {
   "cell_type": "code",
   "execution_count": 7,
   "id": "parallel-pharmacy",
   "metadata": {
    "scrolled": true
   },
   "outputs": [
    {
     "name": "stdout",
     "output_type": "stream",
     "text": [
      "Prediction accuracy MSE:  0.06140350877192982\n",
      "Mean accuracy on test set 0.9385964912280702\n",
      "The confusion matrix for the sample dataset using a decision tree is displayed below: \n"
     ]
    },
    {
     "data": {
      "image/png": "[encoded data removed]",
      "text/plain": [
       "<Figure size 432x288 with 2 Axes>"
      ]
     },
     "metadata": {
      "needs_background": "light"
     },
     "output_type": "display_data"
    }
   ],
   "source": [
    "sample_results()"
   ]
  }
 ],
 "metadata": {
  "kernelspec": {
   "display_name": "Python 3",
   "language": "python",
   "name": "python3"
  },
  "language_info": {
   "codemirror_mode": {
    "name": "ipython",
    "version": 3
   },
   "file_extension": ".py",
   "mimetype": "text/x-python",
   "name": "python",
   "nbconvert_exporter": "python",
   "pygments_lexer": "ipython3",
   "version": "3.8.5"
  }
 },
 "nbformat": 4,
 "nbformat_minor": 5
}
