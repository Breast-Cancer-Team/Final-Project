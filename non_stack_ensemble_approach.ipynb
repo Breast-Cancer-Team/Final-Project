{
 "cells": [
  {
   "cell_type": "code",
   "execution_count": null,
   "id": "racial-governor",
   "metadata": {},
   "outputs": [],
   "source": [
    "import bagging_decision_trees\n",
    "import decision_trees\n",
    "import knn\n",
    "import logistic_regression\n",
    "import random_forest"
   ]
  },
  {
   "cell_type": "code",
   "execution_count": null,
   "id": "coastal-reservation",
   "metadata": {},
   "outputs": [],
   "source": [
    "# Pseudo code\n",
    "'''\n",
    "model_names = ['bagging_decision_trees', 'decision_trees, knn', 'logistic_regression', 'random_forest']\n",
    "\n",
    "for model in model_names:\n",
    "    \n",
    "    \n",
    "\n",
    "\n",
    "'''"
   ]
  }
 ],
 "metadata": {
  "kernelspec": {
   "display_name": "Python 3",
   "language": "python",
   "name": "python3"
  },
  "language_info": {
   "codemirror_mode": {
    "name": "ipython",
    "version": 3
   },
   "file_extension": ".py",
   "mimetype": "text/x-python",
   "name": "python",
   "nbconvert_exporter": "python",
   "pygments_lexer": "ipython3",
   "version": "3.8.5"
  }
 },
 "nbformat": 4,
 "nbformat_minor": 5
}
