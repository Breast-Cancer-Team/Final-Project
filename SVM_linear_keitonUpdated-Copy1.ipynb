{
 "cells": [
  {
   "cell_type": "code",
   "execution_count": 64,
   "id": "active-johnson",
   "metadata": {},
   "outputs": [
    {
     "name": "stdout",
     "output_type": "stream",
     "text": [
      "The autoreload extension is already loaded. To reload it, use:\n",
      "  %reload_ext autoreload\n"
     ]
    }
   ],
   "source": [
    "# Pandas library for the pandas dataframes\n",
    "import pandas as pd    \n",
    "import numpy as np\n",
    "\n",
    "# Import Scikit-Learn library for the classification models\n",
    "import sklearn\n",
    "from sklearn import datasets\n",
    "from sklearn.datasets import make_classification\n",
    "from sklearn.model_selection import train_test_split\n",
    "from sklearn.metrics import mean_squared_error, r2_score, accuracy_score\n",
    "from sklearn.svm import SVC, LinearSVC\n",
    "from sklearn.metrics import confusion_matrix \n",
    "from sklearn.metrics import plot_confusion_matrix\n",
    "from sklearn.feature_selection import SequentialFeatureSelector\n",
    "\n",
    "# Another statistic model library\n",
    "import statsmodels.api as sm\n",
    "import statsmodels.formula.api as smf\n",
    "import scipy.stats as stats\n",
    "import scipy\n",
    "from scipy import interpolate\n",
    "from scipy.interpolate import interp1d\n",
    "\n",
    "# Import plotting libraries\n",
    "import seaborn as sns\n",
    "import matplotlib \n",
    "from matplotlib import pyplot as plt\n",
    "\n",
    "# Set larger fontsize for all plots\n",
    "matplotlib.rcParams.update({'font.size': 20})\n",
    "\n",
    "# Command to automatically reload modules before executing cells\n",
    "# not needed here but might be if you are writing your own library \n",
    "%load_ext autoreload\n",
    "%autoreload 2\n",
    "%matplotlib inline\n",
    "\n",
    "## Import cleaning and splitting functions\n",
    "from clean_split_data import clean_data\n",
    "from clean_split_data import split_data"
   ]
  },
  {
   "cell_type": "markdown",
   "id": "delayed-coaching",
   "metadata": {},
   "source": [
    "### Data"
   ]
  },
  {
   "cell_type": "code",
   "execution_count": 136,
   "id": "final-poverty",
   "metadata": {},
   "outputs": [],
   "source": [
    "data = pd.read_csv('data.csv')"
   ]
  },
  {
   "cell_type": "code",
   "execution_count": 139,
   "id": "exotic-angola",
   "metadata": {},
   "outputs": [
    {
     "name": "stdout",
     "output_type": "stream",
     "text": [
      "     radius_mean  texture_mean  perimeter_mean  area_mean  smoothness_mean  \\\n",
      "68         9.029         17.33           58.79      250.5          0.10660   \n",
      "181       21.090         26.57          142.70     1311.0          0.11410   \n",
      "63         9.173         13.86           59.20      260.9          0.07721   \n",
      "248       10.650         25.22           68.01      347.0          0.09657   \n",
      "60        10.170         14.88           64.55      311.9          0.11340   \n",
      "..           ...           ...             ...        ...              ...   \n",
      "71         8.888         14.64           58.79      244.0          0.09783   \n",
      "106       11.640         18.33           75.17      412.5          0.11420   \n",
      "270       14.290         16.82           90.30      632.6          0.06429   \n",
      "435       13.980         19.62           91.12      599.5          0.10600   \n",
      "102       12.180         20.52           77.22      458.7          0.08013   \n",
      "\n",
      "     compactness_mean  concavity_mean  concave points_mean  symmetry_mean  \\\n",
      "68            0.14130         0.31300              0.04375         0.2111   \n",
      "181           0.28320         0.24870              0.14960         0.2395   \n",
      "63            0.08751         0.05988              0.02180         0.2341   \n",
      "248           0.07234         0.02379              0.01615         0.1897   \n",
      "60            0.08061         0.01084              0.01290         0.2743   \n",
      "..                ...             ...                  ...            ...   \n",
      "71            0.15310         0.08606              0.02872         0.1902   \n",
      "106           0.10170         0.07070              0.03485         0.1801   \n",
      "270           0.02675         0.00725              0.00625         0.1508   \n",
      "435           0.11330         0.11260              0.06463         0.1669   \n",
      "102           0.04038         0.02383              0.01770         0.1739   \n",
      "\n",
      "     fractal_dimension_mean  \n",
      "68                  0.08046  \n",
      "181                 0.07398  \n",
      "63                  0.06963  \n",
      "248                 0.06329  \n",
      "60                  0.06960  \n",
      "..                      ...  \n",
      "71                  0.08980  \n",
      "106                 0.06520  \n",
      "270                 0.05376  \n",
      "435                 0.06544  \n",
      "102                 0.05677  \n",
      "\n",
      "[455 rows x 10 columns]\n"
     ]
    }
   ],
   "source": [
    "data = clean_data(data)\n",
    "X_train, X_test, y_train, y_test = split_data(data)\n",
    "print(X_train)"
   ]
  },
  {
   "cell_type": "markdown",
   "id": "acceptable-dinner",
   "metadata": {},
   "source": [
    "### Classifier"
   ]
  },
  {
   "cell_type": "code",
   "execution_count": 67,
   "id": "attractive-schema",
   "metadata": {},
   "outputs": [
    {
     "data": {
      "text/plain": [
       "SVC(C=10000, kernel='linear')"
      ]
     },
     "execution_count": 67,
     "metadata": {},
     "output_type": "execute_result"
    }
   ],
   "source": [
    "classifier = SVC(kernel='linear', C=10000)\n",
    "classifier.fit(X_train, y_train)"
   ]
  },
  {
   "cell_type": "markdown",
   "id": "radio-cleveland",
   "metadata": {},
   "source": [
    "### SVM Linear Prediction"
   ]
  },
  {
   "cell_type": "code",
   "execution_count": 68,
   "id": "metric-presence",
   "metadata": {},
   "outputs": [],
   "source": [
    "def predict(user_inputdata):\n",
    "    \n",
    "    y_pred = classifier.predict(user_inputdata)\n",
    "   \n",
    "    return y_pred"
   ]
  },
  {
   "cell_type": "code",
   "execution_count": 69,
   "id": "female-dryer",
   "metadata": {},
   "outputs": [],
   "source": [
    "y_pred = predict(X_test)"
   ]
  },
  {
   "cell_type": "code",
   "execution_count": 167,
   "id": "atomic-dominant",
   "metadata": {},
   "outputs": [
    {
     "name": "stdout",
     "output_type": "stream",
     "text": [
      "Prediction accuracy MSE:  0.043859649122807015\n",
      "R-Squared Score 0.8132983950212905\n",
      "Accuracy score 0.956140350877193\n"
     ]
    }
   ],
   "source": [
    "accuracy_1 = accuracy_score(y_test, y_pred)\n",
    "print(\"Prediction accuracy MSE: \", mean_squared_error(y_test, y_pred))\n",
    "print('R-Squared Score',r2_score(y_test,y_pred))\n",
    "print(\"Accuracy score\", accuracy_score(y_test, y_pred))"
   ]
  },
  {
   "cell_type": "markdown",
   "id": "destroyed-blond",
   "metadata": {},
   "source": [
    "### Example of Stepwise selection"
   ]
  },
  {
   "cell_type": "code",
   "execution_count": 168,
   "id": "spread-ghost",
   "metadata": {},
   "outputs": [],
   "source": [
    "X = data[['radius_mean', 'texture_mean', 'perimeter_mean',\n",
    "       'area_mean', 'smoothness_mean', 'compactness_mean', 'concavity_mean',\n",
    "       'concave points_mean', 'symmetry_mean', 'fractal_dimension_mean']]\n",
    "y = data.diagnosis"
   ]
  },
  {
   "cell_type": "code",
   "execution_count": 169,
   "id": "hairy-valuation",
   "metadata": {},
   "outputs": [],
   "source": [
    "sfs_forward = SequentialFeatureSelector(SVC(kernel = 'linear'), \n",
    "                                        n_features_to_select=5,\n",
    "                                        direction='backward').fit(X, y)\n"
   ]
  },
  {
   "cell_type": "code",
   "execution_count": 170,
   "id": "better-satisfaction",
   "metadata": {},
   "outputs": [
    {
     "name": "stdout",
     "output_type": "stream",
     "text": [
      "Selected input features using Forward Stepwise Selection ['radius_mean' 'texture_mean' 'perimeter_mean' 'symmetry_mean'\n",
      " 'fractal_dimension_mean']\n"
     ]
    }
   ],
   "source": [
    "selected = sfs_forward.get_support(indices=True)\n",
    "f_names = np.array(X.columns)\n",
    "print(\"Selected input features using Forward Stepwise Selection\", f_names[selected])"
   ]
  },
  {
   "cell_type": "code",
   "execution_count": 171,
   "id": "efficient-visit",
   "metadata": {},
   "outputs": [
    {
     "name": "stdout",
     "output_type": "stream",
     "text": [
      "     radius_mean  texture_mean  perimeter_mean  symmetry_mean  \\\n",
      "0          17.99         10.38          122.80         0.2419   \n",
      "1          20.57         17.77          132.90         0.1812   \n",
      "2          19.69         21.25          130.00         0.2069   \n",
      "3          11.42         20.38           77.58         0.2597   \n",
      "4          20.29         14.34          135.10         0.1809   \n",
      "..           ...           ...             ...            ...   \n",
      "564        21.56         22.39          142.00         0.1726   \n",
      "565        20.13         28.25          131.20         0.1752   \n",
      "566        16.60         28.08          108.30         0.1590   \n",
      "567        20.60         29.33          140.10         0.2397   \n",
      "568         7.76         24.54           47.92         0.1587   \n",
      "\n",
      "     fractal_dimension_mean  \n",
      "0                   0.07871  \n",
      "1                   0.05667  \n",
      "2                   0.05999  \n",
      "3                   0.09744  \n",
      "4                   0.05883  \n",
      "..                      ...  \n",
      "564                 0.05623  \n",
      "565                 0.05533  \n",
      "566                 0.05648  \n",
      "567                 0.07016  \n",
      "568                 0.05884  \n",
      "\n",
      "[569 rows x 5 columns]\n"
     ]
    }
   ],
   "source": [
    "x_manip = X[ f_names[selected]]\n",
    "print(x_manip)"
   ]
  },
  {
   "cell_type": "code",
   "execution_count": 172,
   "id": "about-husband",
   "metadata": {},
   "outputs": [],
   "source": [
    "X_train1, X_test1, y_train1, y_test1 = train_test_split(x_manip, y, test_size=0.2, random_state=42)"
   ]
  },
  {
   "cell_type": "code",
   "execution_count": 173,
   "id": "rotary-three",
   "metadata": {},
   "outputs": [],
   "source": [
    "model = SVC(kernel='linear', C=10000)\n",
    "model.fit(X_train1, y_train1)\n",
    "\n",
    "y_pred1 = model.predict(X_test1)"
   ]
  },
  {
   "cell_type": "code",
   "execution_count": 177,
   "id": "complimentary-estonia",
   "metadata": {},
   "outputs": [
    {
     "name": "stdout",
     "output_type": "stream",
     "text": [
      "Prediction accuracy MSE:  0.05263157894736842\n",
      "R-Squared Score 0.7759580740255486\n",
      "Accuracy score 0.9473684210526315\n"
     ]
    }
   ],
   "source": [
    "accuracy_2 = accuracy_score(y_test1, y_pred1)\n",
    "print(\"Prediction accuracy MSE: \", mean_squared_error(y_test1, y_pred1))\n",
    "print('R-Squared Score',r2_score(y_test1,y_pred1))\n",
    "print(\"Accuracy score\", accuracy_score(y_test1, y_pred1))"
   ]
  },
  {
   "cell_type": "code",
   "execution_count": 180,
   "id": "sustainable-thailand",
   "metadata": {},
   "outputs": [
    {
     "data": {
      "image/png": "[encoded data removed]",
      "text/plain": [
       "<Figure size 900x360 with 2 Axes>"
      ]
     },
     "metadata": {
      "needs_background": "light"
     },
     "output_type": "display_data"
    }
   ],
   "source": [
    "fig,ax = plt.subplots(1,2,figsize=(12.5,5))\n",
    "ax[0].scatter(y_test, y_pred - y_test,s=(200-(100*abs(y_pred-y_test))),alpha=0.1,c= 'FireBrick',label = \"Accuracy:\"+str(accuracy_1*100)+\"%\")\n",
    "ax[0].set_title('Residual plot of all features after SVM Linear', fontsize=15)\n",
    "ax[0].set_xlabel('Diagnosis')\n",
    "ax[0].set_ylabel('Correct Label')\n",
    "ax[0].legend()\n",
    "\n",
    "ax[1].scatter(y_test1, y_pred - y_test,s=(200-(100*abs(y_pred1-y_test1))), alpha=0.1,c= 'DarkCyan',label = \"Accuracy:\"+str(accuracy_2*100)+\"%\")\n",
    "ax[1].set_title('Residual plot after Stepwise Selection after SVM Linear', fontsize=15)\n",
    "ax[1].set_xlabel('Diagnosis')\n",
    "ax[1].set_ylabel('Correct Label')\n",
    "ax[1].legend()\n",
    "\n",
    "plt.tight_layout()"
   ]
  },
  {
   "cell_type": "markdown",
   "id": "spatial-times",
   "metadata": {},
   "source": [
    "### Sample Train, Test, Split results"
   ]
  },
  {
   "cell_type": "code",
   "execution_count": null,
   "id": "stupid-parking",
   "metadata": {},
   "outputs": [],
   "source": [
    "print(confusion_matrix(y_test, y_predict))\n",
    "plot_confusion_matrix(model, X_test, y_test)\n",
    "plt.show()"
   ]
  },
  {
   "cell_type": "code",
   "execution_count": 182,
   "id": "filled-discount",
   "metadata": {},
   "outputs": [],
   "source": [
    "def sample_results():\n",
    "    ''' \n",
    "    Returns the results and confusion matrix of the sample dataset from Breast Cancer Wisconsin Dataset.\n",
    "    '''\n",
    "    y_pred = classifier.predict(X_test)\n",
    "    print(\"Prediction accuracy MSE: \", mean_squared_error(y_test, y_pred))\n",
    "    print(\"Mean accuracy on test set\", classifier.score(X_test, y_test))\n",
    "    print(\"The confusion matrix for the sample dataset using a decision tree is displayed below: \")\n",
    "    plot_confusion_matrix(classifier, X_test, y_test)\n",
    "    plt.show()\n",
    "    \n",
    "    return"
   ]
  },
  {
   "cell_type": "code",
   "execution_count": 184,
   "id": "hollow-canal",
   "metadata": {},
   "outputs": [
    {
     "name": "stdout",
     "output_type": "stream",
     "text": [
      "Prediction accuracy MSE:  0.043859649122807015\n",
      "Mean accuracy on test set 0.956140350877193\n",
      "The confusion matrix for the sample dataset using a decision tree is displayed below: \n"
     ]
    },
    {
     "data": {
      "image/png": "[encoded data removed]",
      "text/plain": [
       "<Figure size 432x288 with 2 Axes>"
      ]
     },
     "metadata": {
      "needs_background": "light"
     },
     "output_type": "display_data"
    }
   ],
   "source": [
    "'''This matrix is only for Non-stepwise SVM only'''\n",
    "sample_results()"
   ]
  },
  {
   "cell_type": "code",
   "execution_count": 188,
   "id": "otherwise-redhead",
   "metadata": {},
   "outputs": [
    {
     "data": {
      "image/png": "[encoded data removed]",
      "text/plain": [
       "<Figure size 432x288 with 2 Axes>"
      ]
     },
     "metadata": {
      "needs_background": "light"
     },
     "output_type": "display_data"
    },
    {
     "name": "stdout",
     "output_type": "stream",
     "text": [
      "Prediction accuracy MSE:  0.05263157894736842\n"
     ]
    }
   ],
   "source": [
    "'''This matrix is for Stepwise SVM'''\n",
    "plot_confusion_matrix(model, X_test1, y_test1)\n",
    "plt.show()\n",
    "print(\"Prediction accuracy MSE: \", mean_squared_error(y_test1, y_pred1))\n"
   ]
  },
  {
   "cell_type": "code",
   "execution_count": null,
   "id": "adverse-evidence",
   "metadata": {},
   "outputs": [],
   "source": []
  }
 ],
 "metadata": {
  "kernelspec": {
   "display_name": "Python 3",
   "language": "python",
   "name": "python3"
  },
  "language_info": {
   "codemirror_mode": {
    "name": "ipython",
    "version": 3
   },
   "file_extension": ".py",
   "mimetype": "text/x-python",
   "name": "python",
   "nbconvert_exporter": "python",
   "pygments_lexer": "ipython3",
   "version": "3.8.5"
  }
 },
 "nbformat": 4,
 "nbformat_minor": 5
}
