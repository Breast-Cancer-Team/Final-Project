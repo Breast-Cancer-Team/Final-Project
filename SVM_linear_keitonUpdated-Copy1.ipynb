{
 "cells": [
  {
   "cell_type": "code",
   "execution_count": 3,
   "id": "alive-forth",
   "metadata": {},
   "outputs": [],
   "source": [
    "# Pandas library for the pandas dataframes\n",
    "import pandas as pd    \n",
    "import numpy as np\n",
    "\n",
    "# Import Scikit-Learn library for the classification models\n",
    "import sklearn\n",
    "from sklearn import datasets\n",
    "from sklearn.datasets import make_classification\n",
    "from sklearn.model_selection import train_test_split\n",
    "from sklearn.metrics import mean_squared_error, r2_score, accuracy_score\n",
    "from sklearn.svm import SVC, LinearSVC\n",
    "from sklearn.metrics import confusion_matrix \n",
    "from sklearn.metrics import plot_confusion_matrix\n",
    "from sklearn.feature_selection import SequentialFeatureSelector\n",
    "from sklearn.metrics import classification_report\n",
    "\n",
    "# Another statistic model library\n",
    "import statsmodels.api as sm\n",
    "import statsmodels.formula.api as smf\n",
    "import scipy.stats as stats\n",
    "import scipy\n",
    "from scipy import interpolate\n",
    "from scipy.interpolate import interp1d\n",
    "\n",
    "# Import plotting libraries\n",
    "import seaborn as sns\n",
    "import matplotlib \n",
    "from matplotlib import pyplot as plt\n",
    "\n",
    "# Set larger fontsize for all plots\n",
    "matplotlib.rcParams.update({'font.size': 20})\n",
    "\n",
    "# Command to automatically reload modules before executing cells\n",
    "# not needed here but might be if you are writing your own library \n",
    "%load_ext autoreload\n",
    "%autoreload 2\n",
    "%matplotlib inline\n",
    "\n",
    "## Import cleaning and splitting functions\n",
    "from clean_split_data import clean_data\n",
    "from clean_split_data import split_data"
   ]
  },
  {
   "cell_type": "markdown",
   "id": "advance-seafood",
   "metadata": {},
   "source": [
    "### Data"
   ]
  },
  {
   "cell_type": "code",
   "execution_count": 4,
   "id": "simplified-clear",
   "metadata": {},
   "outputs": [],
   "source": [
    "data = pd.read_csv('data.csv')"
   ]
  },
  {
   "cell_type": "code",
   "execution_count": 5,
   "id": "funky-waterproof",
   "metadata": {},
   "outputs": [
    {
     "name": "stdout",
     "output_type": "stream",
     "text": [
      "     radius_mean  texture_mean  perimeter_mean  area_mean  smoothness_mean  \\\n",
      "68         9.029         17.33           58.79      250.5          0.10660   \n",
      "181       21.090         26.57          142.70     1311.0          0.11410   \n",
      "63         9.173         13.86           59.20      260.9          0.07721   \n",
      "248       10.650         25.22           68.01      347.0          0.09657   \n",
      "60        10.170         14.88           64.55      311.9          0.11340   \n",
      "..           ...           ...             ...        ...              ...   \n",
      "71         8.888         14.64           58.79      244.0          0.09783   \n",
      "106       11.640         18.33           75.17      412.5          0.11420   \n",
      "270       14.290         16.82           90.30      632.6          0.06429   \n",
      "435       13.980         19.62           91.12      599.5          0.10600   \n",
      "102       12.180         20.52           77.22      458.7          0.08013   \n",
      "\n",
      "     compactness_mean  concavity_mean  concave points_mean  symmetry_mean  \\\n",
      "68            0.14130         0.31300              0.04375         0.2111   \n",
      "181           0.28320         0.24870              0.14960         0.2395   \n",
      "63            0.08751         0.05988              0.02180         0.2341   \n",
      "248           0.07234         0.02379              0.01615         0.1897   \n",
      "60            0.08061         0.01084              0.01290         0.2743   \n",
      "..                ...             ...                  ...            ...   \n",
      "71            0.15310         0.08606              0.02872         0.1902   \n",
      "106           0.10170         0.07070              0.03485         0.1801   \n",
      "270           0.02675         0.00725              0.00625         0.1508   \n",
      "435           0.11330         0.11260              0.06463         0.1669   \n",
      "102           0.04038         0.02383              0.01770         0.1739   \n",
      "\n",
      "     fractal_dimension_mean  \n",
      "68                  0.08046  \n",
      "181                 0.07398  \n",
      "63                  0.06963  \n",
      "248                 0.06329  \n",
      "60                  0.06960  \n",
      "..                      ...  \n",
      "71                  0.08980  \n",
      "106                 0.06520  \n",
      "270                 0.05376  \n",
      "435                 0.06544  \n",
      "102                 0.05677  \n",
      "\n",
      "[455 rows x 10 columns]\n"
     ]
    }
   ],
   "source": [
    "data = clean_data(data)\n",
    "X_train, X_test, y_train, y_test = split_data(data)\n",
    "print(X_train)"
   ]
  },
  {
   "cell_type": "markdown",
   "id": "removable-freedom",
   "metadata": {},
   "source": [
    "### Classifier"
   ]
  },
  {
   "cell_type": "code",
   "execution_count": 6,
   "id": "interpreted-education",
   "metadata": {},
   "outputs": [
    {
     "data": {
      "text/plain": [
       "SVC(C=10000, kernel='linear')"
      ]
     },
     "execution_count": 6,
     "metadata": {},
     "output_type": "execute_result"
    }
   ],
   "source": [
    "classifier = SVC(kernel='linear', C=10000)\n",
    "classifier.fit(X_train, y_train)"
   ]
  },
  {
   "cell_type": "markdown",
   "id": "configured-cricket",
   "metadata": {},
   "source": [
    "### SVM Linear Prediction"
   ]
  },
  {
   "cell_type": "code",
   "execution_count": 7,
   "id": "happy-perspective",
   "metadata": {},
   "outputs": [],
   "source": [
    "def predict(test_data):\n",
    "    \n",
    "    #test_data = pd.DataFrame(test_data).T\n",
    "    y_pred = classifier.predict(test_data)\n",
    "   \n",
    "    return y_pred"
   ]
  },
  {
   "cell_type": "code",
   "execution_count": 8,
   "id": "cooperative-final",
   "metadata": {},
   "outputs": [
    {
     "data": {
      "text/plain": [
       "array([0, 1, 1, 0, 0, 1, 1, 1, 0, 0, 0, 1, 0, 1, 0, 1, 0, 0, 0, 1, 0, 0,\n",
       "       1, 0, 0, 0, 0, 0, 0, 1, 0, 0, 0, 0, 0, 0, 1, 0, 1, 0, 0, 1, 0, 0,\n",
       "       0, 0, 0, 0, 0, 0, 1, 1, 0, 0, 0, 0, 0, 1, 0, 0, 0, 1, 1, 1, 0, 0,\n",
       "       1, 1, 0, 0, 1, 1, 0, 1, 0, 0, 0, 0, 0, 0, 1, 0, 1, 1, 1, 1, 1, 1,\n",
       "       0, 0, 0, 0, 0, 0, 0, 0, 1, 1, 0, 1, 1, 0, 1, 1, 0, 0, 0, 1, 0, 0,\n",
       "       1, 0, 1, 1])"
      ]
     },
     "execution_count": 8,
     "metadata": {},
     "output_type": "execute_result"
    }
   ],
   "source": [
    "y_pred=predict(X_test)\n",
    "y_pred"
   ]
  },
  {
   "cell_type": "code",
   "execution_count": 9,
   "id": "rental-sender",
   "metadata": {},
   "outputs": [],
   "source": [
    "y_pred1 = classifier.predict(X_test)"
   ]
  },
  {
   "cell_type": "code",
   "execution_count": 10,
   "id": "rising-senate",
   "metadata": {},
   "outputs": [
    {
     "name": "stdout",
     "output_type": "stream",
     "text": [
      "Prediction accuracy MSE:  0.043859649122807015\n",
      "Accuracy score 0.956140350877193\n"
     ]
    }
   ],
   "source": [
    "''' Accuracy and MSE using all 10 features'''\n",
    "\n",
    "accuracy_1 = accuracy_score(y_test, y_pred)\n",
    "print(\"Prediction accuracy MSE: \", mean_squared_error(y_test, y_pred))\n",
    "#print('R-Squared Score',r2_score(y_test,y_pred))\n",
    "print(\"Accuracy score\", accuracy_score(y_test, y_pred))"
   ]
  },
  {
   "cell_type": "markdown",
   "id": "expressed-japan",
   "metadata": {},
   "source": [
    "### Backward Stepwise selection Using 1 to 9 features "
   ]
  },
  {
   "cell_type": "code",
   "execution_count": 11,
   "id": "according-replication",
   "metadata": {},
   "outputs": [],
   "source": [
    "X = data[['radius_mean', 'texture_mean', 'perimeter_mean',\n",
    "       'area_mean', 'smoothness_mean', 'compactness_mean', 'concavity_mean',\n",
    "       'concave points_mean', 'symmetry_mean', 'fractal_dimension_mean']]\n",
    "y = data.diagnosis\n"
   ]
  },
  {
   "cell_type": "code",
   "execution_count": null,
   "id": "split-bearing",
   "metadata": {},
   "outputs": [],
   "source": [
    "n = [1,2,3,4,5,6,7,8,9]\n",
    "\n",
    "list_MSE=[]\n",
    "list_R2=[]\n",
    "list_AC=[]\n",
    "list_MSE_1=[]\n",
    "list_R2_1=[]\n",
    "list_AC_1=[]\n",
    "\n",
    "for i in n:\n",
    "    sbs_backward = SequentialFeatureSelector(SVC(kernel = \"linear\"), \n",
    "                                        n_features_to_select=i,\n",
    "                                        direction='backward').fit(X, y)\n",
    "    selected = sbs_backward.get_support(indices=True)\n",
    "    f_names = np.array(X.columns)\n",
    "    x_manip = X[f_names[selected]]\n",
    "    #print(\"Selected input features using backward Stepwise Selection\", f_names[selected])\n",
    "    #print(x_manip)\n",
    "    \n",
    "    X_train1, X_test1, y_train1, y_test1 = train_test_split(x_manip, y, test_size=0.2, random_state=42) \n",
    "    model = SVC(kernel='linear', C=10000)\n",
    "    model.fit(X_train1, y_train1)\n",
    "\n",
    "    y_pred1 = model.predict(X_test1)\n",
    "    y_pred2 = model.predict(X_train1)\n",
    "    \n",
    "    #print(\"Prediction accuracy MSE: \", mean_squared_error(y_test1, y_pred1))\n",
    "    #print('R-Squared Score',r2_score(y_test1,y_pred1))\n",
    "    #print(\"Accuracy score\", accuracy_score(y_test1, y_pred1))\n",
    "    \n",
    "    list_MSE.append(mean_squared_error(y_test1, y_pred1))\n",
    "    #list_R2.append(r2_score(y_test1, y_pred1))\n",
    "    list_AC.append(accuracy_score(y_test1, y_pred1))\n",
    "    #print('MSE:', list_MSE)\n",
    "    #print('R2:', list_R2)\n",
    "    #print('AC:', list_AC)\n",
    "    \n",
    "    list_MSE_1.append(mean_squared_error(y_train1, y_pred2))\n",
    "    #list_R2_1.append(r2_score(y_train1, y_pred2))\n",
    "    list_AC_1.append(accuracy_score(y_train1, y_pred2))"
   ]
  },
  {
   "cell_type": "code",
   "execution_count": null,
   "id": "indian-failure",
   "metadata": {},
   "outputs": [],
   "source": [
    "fig,ax = plt.subplots(3,1,figsize=(8,10))\n",
    "#ax[0].plot(n, list_R2, linewidth=3, alpha=1,label='test_R2')\n",
    "#ax[0].plot(n, list_R2_1, linewidth=3, alpha=1,c='FireBrick',label='train_R2')\n",
    "#ax[0].set_title('Backwardstepwise: R2 VS. Number of feature, model:SVC_rbf', fontsize=15)\n",
    "#ax[0].set_xlabel('Number of features')\n",
    "#ax[0].set_ylabel('R2')\n",
    "#ax[0].legend()\n",
    "\n",
    "ax[0].plot(n, list_AC, linewidth=3 ,alpha=1,label='test_AC')\n",
    "ax[0].plot(n, list_AC_1, linewidth=3, alpha=1,c='FireBrick',label='train_AC')\n",
    "ax[0].set_title('Backwardstepwise: Accuracy VS. Number of feature, model:SVC_linear', fontsize=15)\n",
    "ax[0].set_xlabel('Number of features')\n",
    "ax[0].set_ylabel('Accuracy')\n",
    "ax[0].legend()\n",
    "\n",
    "ax[1].plot(n, list_MSE, linewidth=3 ,alpha=1,label='test_MSE')\n",
    "ax[1].plot(n, list_MSE_1, linewidth=3, alpha=1,c='FireBrick',label='train_MSE')\n",
    "ax[1].set_title('Backwardstepwise: MSE VS. Number of feature, model:SVC_linear', fontsize=15)\n",
    "ax[1].set_xlabel('Number of features')\n",
    "ax[1].set_ylabel('MSE')\n",
    "ax[1].legend()\n",
    "\n",
    "plt.tight_layout()\n",
    "plt.show"
   ]
  },
  {
   "cell_type": "code",
   "execution_count": null,
   "id": "radio-corrections",
   "metadata": {},
   "outputs": [],
   "source": []
  },
  {
   "cell_type": "markdown",
   "id": "whole-making",
   "metadata": {},
   "source": [
    "### Resudual Plot"
   ]
  },
  {
   "cell_type": "code",
   "execution_count": null,
   "id": "available-flesh",
   "metadata": {},
   "outputs": [],
   "source": [
    "fig,ax = plt.subplots(1,2,figsize=(12.5,5))\n",
    "ax[0].scatter(y_test, y_pred - y_test,s=(200-(100*abs(y_pred-y_test))),alpha=0.1,c= 'FireBrick',label = \"Accuracy:\"+str(accuracy_1*100)+\"%\")\n",
    "ax[0].set_title('Residual plot of all features after SVM Linear', fontsize=15)\n",
    "ax[0].set_xlabel('Diagnosis')\n",
    "ax[0].set_ylabel('Correct Label')\n",
    "ax[0].legend()\n",
    "\n",
    "ax[1].scatter(y_test1, y_pred - y_test,s=(200-(100*abs(y_pred1-y_test1))), alpha=0.1,c= 'DarkCyan',label = \"Accuracy:\"+str(accuracy_2*100)+\"%\")\n",
    "ax[1].set_title('Residual plot after Stepwise Selection after SVM Linear', fontsize=15)\n",
    "ax[1].set_xlabel('Diagnosis')\n",
    "ax[1].set_ylabel('Correct Label')\n",
    "ax[1].legend()\n",
    "\n",
    "plt.tight_layout()"
   ]
  },
  {
   "cell_type": "markdown",
   "id": "local-religion",
   "metadata": {},
   "source": [
    "### Sample Train, Test, Split results"
   ]
  },
  {
   "cell_type": "code",
   "execution_count": null,
   "id": "assigned-property",
   "metadata": {},
   "outputs": [],
   "source": [
    "print(confusion_matrix(y_test, y_pred))\n",
    "plot_confusion_matrix(model, X_test, y_test)\n",
    "plt.show()"
   ]
  },
  {
   "cell_type": "code",
   "execution_count": null,
   "id": "personalized-welsh",
   "metadata": {},
   "outputs": [],
   "source": [
    "def sample_results():\n",
    "    ''' \n",
    "    Returns the results and confusion matrix of the sample dataset from Breast Cancer Wisconsin Dataset.\n",
    "    '''\n",
    "    y_pred = classifier.predict(X_test)\n",
    "    print(\"Prediction accuracy MSE: \", mean_squared_error(y_test, y_pred))\n",
    "    print(\"Mean accuracy on test set\", classifier.score(X_test, y_test))\n",
    "    print(\"The confusion matrix for the sample dataset using a decision tree is displayed below: \")\n",
    "    print(classification_report(y_test, y_pred))\n",
    "    plot_confusion_matrix(classifier, X_test, y_test)\n",
    "    plt.show()\n",
    "    \n",
    "    return"
   ]
  },
  {
   "cell_type": "code",
   "execution_count": null,
   "id": "heard-poetry",
   "metadata": {},
   "outputs": [],
   "source": [
    "'''This matrix is only for Non-stepwise SVM only'''\n",
    "sample_results()"
   ]
  },
  {
   "cell_type": "code",
   "execution_count": null,
   "id": "fiscal-duration",
   "metadata": {},
   "outputs": [],
   "source": [
    "'''This matrix is for Stepwise SVM'''\n",
    "plot_confusion_matrix(model, X_test1, y_test1)\n",
    "plt.show()\n",
    "print(\"Prediction accuracy MSE: \", mean_squared_error(y_test1, y_pred1))\n"
   ]
  },
  {
   "cell_type": "code",
   "execution_count": null,
   "id": "boxed-washer",
   "metadata": {},
   "outputs": [],
   "source": []
  }
 ],
 "metadata": {
  "kernelspec": {
   "display_name": "Python 3",
   "language": "python",
   "name": "python3"
  },
  "language_info": {
   "codemirror_mode": {
    "name": "ipython",
    "version": 3
   },
   "file_extension": ".py",
   "mimetype": "text/x-python",
   "name": "python",
   "nbconvert_exporter": "python",
   "pygments_lexer": "ipython3",
   "version": "3.8.5"
  }
 },
 "nbformat": 4,
 "nbformat_minor": 5
}
