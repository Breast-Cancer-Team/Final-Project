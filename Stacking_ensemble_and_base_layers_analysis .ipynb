{
 "cells": [
  {
   "cell_type": "code",
   "execution_count": 1,
   "id": "consistent-holder",
   "metadata": {},
   "outputs": [],
   "source": [
    "import pandas as pd \n",
    "from numpy import mean\n",
    "from numpy import std\n",
    "\n",
    "\n",
    "import sklearn\n",
    "from sklearn.model_selection import cross_val_score\n",
    "from sklearn.model_selection import RepeatedStratifiedKFold\n",
    "from sklearn.model_selection import train_test_split\n",
    "from sklearn.linear_model import LogisticRegression\n",
    "from sklearn.ensemble import RandomForestClassifier\n",
    "from sklearn.ensemble import StackingClassifier\n",
    "from sklearn.neighbors import KNeighborsClassifier\n",
    "from sklearn.tree import DecisionTreeClassifier\n",
    "from sklearn.svm import SVC\n",
    "\n",
    "\n",
    "from clean_split_data import clean_data\n",
    "from clean_split_data import split_data\n",
    "\n",
    "\n",
    "import seaborn as sns\n",
    "import matplotlib \n",
    "from matplotlib import pyplot as plt\n"
   ]
  },
  {
   "cell_type": "markdown",
   "id": "alleged-metabolism",
   "metadata": {},
   "source": [
    "### Data "
   ]
  },
  {
   "cell_type": "code",
   "execution_count": 2,
   "id": "victorian-physiology",
   "metadata": {},
   "outputs": [],
   "source": [
    "data = pd.read_csv(\"data.csv\")\n",
    "data = clean_data(data)\n",
    "X=data[['radius_mean', 'texture_mean','area_mean', 'concavity_mean','concave points_mean', 'symmetry_mean', 'smoothness_mean']]\n",
    "y=data['diagnosis']\n",
    "X_train, X_test, y_train, y_test = train_test_split(X, y, stratify=y, random_state=42)\n"
   ]
  },
  {
   "cell_type": "markdown",
   "id": "configured-french",
   "metadata": {},
   "source": [
    "### KNN -with selected 7 features "
   ]
  },
  {
   "cell_type": "code",
   "execution_count": 3,
   "id": "abandoned-caribbean",
   "metadata": {},
   "outputs": [
    {
     "name": "stdout",
     "output_type": "stream",
     "text": [
      "Accuracy of KNN: 0.8671328671328671\n"
     ]
    }
   ],
   "source": [
    "knn_clf = KNeighborsClassifier(n_neighbors=5, weights='uniform')\n",
    "fitted_knn = knn_clf.fit(X_train, y_train)\n",
    "\n",
    "print(\"Accuracy of KNN:\", fitted_knn.score(X_test, y_test))"
   ]
  },
  {
   "cell_type": "markdown",
   "id": "broad-album",
   "metadata": {},
   "source": [
    "### Logistic Regression-with selected 7 features "
   ]
  },
  {
   "cell_type": "code",
   "execution_count": 4,
   "id": "killing-timing",
   "metadata": {},
   "outputs": [
    {
     "name": "stdout",
     "output_type": "stream",
     "text": [
      "Accuracy of Logistic Regression : 0.8881118881118881\n"
     ]
    }
   ],
   "source": [
    "logistic_regre_clf = LogisticRegression(solver=\"lbfgs\", max_iter=250) \n",
    "fitted_logistic_regre_clf = logistic_regre_clf.fit(X_train, y_train)\n",
    "print(\"Accuracy of Logistic Regression :\", fitted_logistic_regre_clf.score(X_test, y_test))"
   ]
  },
  {
   "cell_type": "markdown",
   "id": "floating-saturday",
   "metadata": {},
   "source": [
    "### Random Forest -with selected 7 features "
   ]
  },
  {
   "cell_type": "code",
   "execution_count": 5,
   "id": "mathematical-butterfly",
   "metadata": {},
   "outputs": [
    {
     "name": "stdout",
     "output_type": "stream",
     "text": [
      "Accuracy of Random Forest): 0.9230769230769231\n"
     ]
    }
   ],
   "source": [
    "random_forest_clf = RandomForestClassifier(n_estimators=4, random_state=42)\n",
    "fitted_random_forest_clf = random_forest_clf.fit(X_train, y_train)\n",
    "\n",
    "print(\"Accuracy of Random Forest):\", fitted_random_forest_clf.score(X_test, y_test))"
   ]
  },
  {
   "cell_type": "markdown",
   "id": "permanent-genre",
   "metadata": {},
   "source": [
    "### Support Vector Machine(rbf) -with selected 7 features "
   ]
  },
  {
   "cell_type": "code",
   "execution_count": 6,
   "id": "adaptive-phase",
   "metadata": {},
   "outputs": [
    {
     "name": "stdout",
     "output_type": "stream",
     "text": [
      "Accuracy of Support Vector Machine(rbf): 0.8811188811188811\n"
     ]
    }
   ],
   "source": [
    "support_vector_machine_clf = SVC(kernel='rbf', C=10000)\n",
    "fitted_support_vector_machine_clif = support_vector_machine_clf.fit(X_train, y_train)\n",
    "print(\"Accuracy of Support Vector Machine(rbf):\", fitted_support_vector_machine_clif.score(X_test, y_test))"
   ]
  },
  {
   "cell_type": "markdown",
   "id": "modular-opposition",
   "metadata": {},
   "source": [
    "### Stacking Ensemble -with selected 7 features "
   ]
  },
  {
   "cell_type": "code",
   "execution_count": 7,
   "id": "floral-label",
   "metadata": {},
   "outputs": [],
   "source": [
    "our_trained_data = pd.read_csv(\"data.csv\")\n",
    "our_trained_data = clean_data(our_trained_data)\n",
    "\n",
    "x=our_trained_data[['radius_mean', 'texture_mean','area_mean', 'concavity_mean','concave points_mean', 'symmetry_mean', 'smoothness_mean']]\n",
    "y=our_trained_data[['diagnosis']]\n",
    "x_train, x_test, y_train, y_test = train_test_split(x, y, test_size=0.2, random_state=42)\n",
    "\n",
    "x_train = x_train.values.tolist()\n",
    "y_train = y_train.values.tolist()\n",
    "\n",
    "flattened_y_train = [] \n",
    "for sub_list in y_train: \n",
    "    for val in sub_list: \n",
    "        flattened_y_train.append(val)\n",
    "\n",
    "X, y = x_train, flattened_y_train\n"
   ]
  },
  {
   "cell_type": "code",
   "execution_count": 8,
   "id": "native-objective",
   "metadata": {},
   "outputs": [
    {
     "name": "stdout",
     "output_type": "stream",
     "text": [
      "Accuracy of Stacking ensemble: 0.9649122807017544\n"
     ]
    }
   ],
   "source": [
    "estimators = [\n",
    "('random_forest', RandomForestClassifier(n_estimators=5, random_state=42)),\n",
    "('logistic_regr', LogisticRegression(solver=\"lbfgs\", max_iter=1460)),\n",
    "('knn', KNeighborsClassifier(n_neighbors =5)),\n",
    "('svm_rbf', SVC(kernel='rbf', gamma=4, C=10000))\n",
    "]\n",
    "Stacking_classifier = StackingClassifier(estimators=estimators, final_estimator=LogisticRegression(), cv = 5)\n",
    "\n",
    "\n",
    "fitted_Stacking_classifier = Stacking_classifier.fit(X, y)\n",
    "print(\"Accuracy of Stacking ensemble:\" ,fitted_Stacking_classifier.score(x_test, y_test))\n"
   ]
  },
  {
   "cell_type": "markdown",
   "id": "conventional-wheat",
   "metadata": {},
   "source": [
    "### Plot to Compare Accuracy "
   ]
  },
  {
   "cell_type": "code",
   "execution_count": 12,
   "id": "expanded-insulation",
   "metadata": {},
   "outputs": [
    {
     "data": {
      "text/plain": [
       "Text(0.5, 1.0, 'Accuracy score for base models and Stacking ensemble model')"
      ]
     },
     "execution_count": 12,
     "metadata": {},
     "output_type": "execute_result"
    },
    {
     "data": {
      "image/png": "[encoded data removed]",
      "text/plain": [
       "<Figure size 432x288 with 1 Axes>"
      ]
     },
     "metadata": {
      "needs_background": "light"
     },
     "output_type": "display_data"
    }
   ],
   "source": [
    "models = [\"KNN\", \"L_R\", \"R_F\", \"SVM_rbf\", \"Stacking\"]\n",
    "accuracy_score = [0.8671328671328671, 0.8881118881118881, 0.9230769230769231, 0.8811188811188811, 0.9649122807017544]\n",
    "plt.plot(models, accuracy_score, c='cornflowerblue', linewidth=3)\n",
    "plt.xlabel('Model')\n",
    "plt.ylabel('Accuracy Score')\n",
    "plt.title('Accuracy score for base models and Stacking ensemble model')"
   ]
  },
  {
   "cell_type": "code",
   "execution_count": null,
   "id": "fitted-candidate",
   "metadata": {},
   "outputs": [],
   "source": []
  }
 ],
 "metadata": {
  "kernelspec": {
   "display_name": "Python 3",
   "language": "python",
   "name": "python3"
  },
  "language_info": {
   "codemirror_mode": {
    "name": "ipython",
    "version": 3
   },
   "file_extension": ".py",
   "mimetype": "text/x-python",
   "name": "python",
   "nbconvert_exporter": "python",
   "pygments_lexer": "ipython3",
   "version": "3.8.5"
  }
 },
 "nbformat": 4,
 "nbformat_minor": 5
}
