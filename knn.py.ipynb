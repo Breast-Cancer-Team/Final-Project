{
 "cells": [
  {
   "cell_type": "code",
   "execution_count": 1,
   "id": "usual-stamp",
   "metadata": {},
   "outputs": [],
   "source": [
    "# Pandas library for the pandas dataframes and other plotting tools\n",
    "import numpy as np \n",
    "import pandas as pd \n",
    "import seaborn as sns\n",
    "import matplotlib.pyplot as plt\n",
    "from matplotlib.colors import ListedColormap\n",
    "%matplotlib inline\n",
    "\n",
    "# Import Scikit-Learn library for models\n",
    "from sklearn.model_selection import train_test_split\n",
    "from sklearn import neighbors, datasets\n",
    "from sklearn.neighbors import KNeighborsClassifier\n",
    "from sklearn.metrics import confusion_matrix # plotting confusion matrix \n",
    "\n",
    "# Import cleaning and splitting functions\n",
    "from clean_split_data import clean_data\n",
    "from clean_split_data import split_data\n",
    "\n",
    "# For confusion matrix count\n",
    "from collections import Counter"
   ]
  },
  {
   "cell_type": "markdown",
   "id": "tight-blame",
   "metadata": {},
   "source": [
    "### Data"
   ]
  },
  {
   "cell_type": "code",
   "execution_count": 2,
   "id": "extraordinary-colombia",
   "metadata": {},
   "outputs": [],
   "source": [
    "data = pd.read_csv(\"data.csv\")"
   ]
  },
  {
   "cell_type": "code",
   "execution_count": 3,
   "id": "comprehensive-wallet",
   "metadata": {},
   "outputs": [],
   "source": [
    "data = clean_data(data)\n",
    "X_train, X_test, y_train, y_test = split_data(data)"
   ]
  },
  {
   "cell_type": "markdown",
   "id": "unusual-calibration",
   "metadata": {},
   "source": [
    "### Classifier"
   ]
  },
  {
   "cell_type": "code",
   "execution_count": 4,
   "id": "permanent-tulsa",
   "metadata": {},
   "outputs": [
    {
     "data": {
      "text/plain": [
       "KNeighborsClassifier(n_neighbors=10)"
      ]
     },
     "execution_count": 4,
     "metadata": {},
     "output_type": "execute_result"
    }
   ],
   "source": [
    "K_neighbors = 10\n",
    "clf = neighbors.KNeighborsClassifier(K_neighbors, weights='uniform')\n",
    "clf.fit(X_train, y_train)"
   ]
  },
  {
   "cell_type": "markdown",
   "id": "insured-captain",
   "metadata": {},
   "source": [
    "### kNN Prediction (User Input)"
   ]
  },
  {
   "cell_type": "code",
   "execution_count": 5,
   "id": "driven-partition",
   "metadata": {},
   "outputs": [],
   "source": [
    "def predict(test_data):\n",
    "    '''\n",
    "    Takes test data and uses classifier to predict boolean output.\n",
    "    '''\n",
    "    y_pred = clf.predict(test_data)\n",
    "    \n",
    "    return y_pred"
   ]
  },
  {
   "cell_type": "markdown",
   "id": "undefined-stamp",
   "metadata": {},
   "source": [
    "### Sample Train, Test, Splits Results"
   ]
  },
  {
   "cell_type": "code",
   "execution_count": 6,
   "id": "blocked-operator",
   "metadata": {},
   "outputs": [],
   "source": [
    "def sample_results():\n",
    "    '''\n",
    "    Returns the results and confusion matrix of the sample dataset from Breast Cancer Wisconsin Dataset.\n",
    "    '''\n",
    "    y_pred = clf.predict(X_test)\n",
    "    ones_incorrect = 0\n",
    "    zeros_incorrect = 0    \n",
    "    y_test_list = list(y_test)\n",
    "    y_pred_list = list(y_pred)\n",
    "    for test, pred in zip(y_test_list, y_pred_list):\n",
    "        if test == 0 and test != pred:\n",
    "            zeros_incorrect += 1\n",
    "        elif test == 1 and test != pred:\n",
    "            ones_incorrect += 1\n",
    "        else:\n",
    "            pass\n",
    "    zeros_true, ones_true = y_test.value_counts()\n",
    "    zeros_correct = zeros_true - zeros_incorrect\n",
    "    ones_correct = ones_true - ones_incorrect\n",
    "    confusion_array = [[zeros_correct, zeros_incorrect],\n",
    "                        [ones_incorrect, ones_correct]]\n",
    "    df_confusion = pd.DataFrame(confusion_array, index=[\"0\", \"1\"], columns=[\"0\", \"1\"])\n",
    "    print(\"Mean accuracy of prediction\", clf.score(X_test, y_test))\n",
    "    print(\"The confusion matrix for the sample dataset using kNN Neighbors is displayed below: \")\n",
    "    fig, ax = plt.subplots(figsize=(10, 7))\n",
    "    sns.set(font_scale=1.5)\n",
    "    ax.set_xlabel('Predicted label', fontsize=15)\n",
    "    ax.set_ylabel(\"True label\", fontsize=15)\n",
    "    sns.heatmap(df_confusion, annot=True, cmap='viridis', ax=ax)\n",
    "#     plt.figure(figsize = (10,7))\n",
    "#     plt.show()\n",
    "\n",
    "    return"
   ]
  }
 ],
 "metadata": {
  "kernelspec": {
   "display_name": "Python 3",
   "language": "python",
   "name": "python3"
  },
  "language_info": {
   "codemirror_mode": {
    "name": "ipython",
    "version": 3
   },
   "file_extension": ".py",
   "mimetype": "text/x-python",
   "name": "python",
   "nbconvert_exporter": "python",
   "pygments_lexer": "ipython3",
   "version": "3.8.5"
  }
 },
 "nbformat": 4,
 "nbformat_minor": 5
}
