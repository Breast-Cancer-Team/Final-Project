{
 "cells": [
  {
   "cell_type": "code",
   "execution_count": 1,
   "id": "serial-courage",
   "metadata": {},
   "outputs": [],
   "source": [
    "# Importing models\n",
    "\n",
    "import bagging_decision_trees\n",
    "import decision_trees\n",
    "import gradient_boosting\n",
    "import knn\n",
    "import logistic_regression\n",
    "import random_forest\n",
    "import svm_linear\n",
    "import svm_rbf\n",
    "\n",
    "\n",
    "# Import cleaning and splitting\n",
    "import clean_split_data\n",
    "\n",
    "\n",
    "# Importing libraries for property tests\n",
    "import numpy as np\n",
    "import pandas as pd"
   ]
  },
  {
   "cell_type": "code",
   "execution_count": 2,
   "id": "considered-german",
   "metadata": {},
   "outputs": [],
   "source": [
    "data = pd.read_csv('data.csv')"
   ]
  },
  {
   "cell_type": "code",
   "execution_count": 3,
   "id": "chief-northeast",
   "metadata": {},
   "outputs": [],
   "source": [
    "data = clean_split_data.clean_data(data)"
   ]
  },
  {
   "cell_type": "code",
   "execution_count": 4,
   "id": "italian-formula",
   "metadata": {},
   "outputs": [],
   "source": [
    "list_of_models = [bagging_decision_trees, decision_trees, gradient_boosting,\n",
    "                  knn, logistic_regression, random_forest, svm_linear, svm_rbf]"
   ]
  },
  {
   "cell_type": "code",
   "execution_count": 21,
   "id": "level-drilling",
   "metadata": {},
   "outputs": [
    {
     "name": "stdout",
     "output_type": "stream",
     "text": [
      "[0 1 1 0 0 1 1 1 1 0 0 1 0 1 0 1 0 0 0 1 0 0 1 0 0 0 0 0 0 1 0 0 0 0 0 0 1\n",
      " 0 1 0 0 1 0 0 1 0 0 0 0 0 1 1 1 0 0 0 0 1 1 0 0 1 1 0 0 0 1 1 0 0 1 1 0 1\n",
      " 0 0 0 0 0 0 1 0 0 1 1 1 1 1 0 0 0 0 1 0 0 0 1 1 0 1 1 0 1 1 0 0 0 1 0 0 1\n",
      " 0 0 1] <class 'numpy.ndarray'> <class 'numpy.int64'>\n",
      "[0 1 1 0 0 1 1 1 0 0 0 1 0 1 0 1 0 0 0 1 0 0 1 0 0 0 0 1 0 1 0 0 0 0 0 0 1\n",
      " 0 1 1 0 1 0 0 0 0 0 0 0 0 1 1 1 0 0 0 0 1 1 0 0 1 1 0 0 0 1 1 0 0 1 1 0 1\n",
      " 0 0 0 1 0 0 1 0 0 1 0 1 1 1 0 0 0 0 1 0 0 0 1 1 0 1 1 0 1 1 0 0 0 1 0 0 1\n",
      " 0 1 1] <class 'numpy.ndarray'> <class 'numpy.int64'>\n",
      "[0 1 1 0 0 1 1 0 0 0 0 1 0 1 0 1 0 0 0 1 0 0 1 0 0 0 0 0 0 1 1 0 0 0 0 0 1\n",
      " 0 1 0 0 1 0 0 1 0 0 0 0 0 1 1 1 0 0 0 0 1 1 0 0 1 1 0 0 0 1 1 0 0 1 1 0 1\n",
      " 0 0 0 1 0 0 1 0 0 1 1 1 1 1 0 0 0 0 1 0 0 0 1 1 0 1 1 0 1 1 0 0 0 1 0 0 1\n",
      " 0 1 1] <class 'numpy.ndarray'> <class 'numpy.int64'>\n",
      "[0 1 1 0 0 1 1 1 0 0 1 1 1 1 0 1 0 0 0 1 0 0 1 0 0 0 0 0 0 1 0 0 0 0 0 0 1\n",
      " 0 1 1 0 1 0 0 0 0 0 0 0 0 1 1 0 0 0 0 0 1 1 0 0 1 1 1 0 0 1 1 0 0 0 1 0 1\n",
      " 0 0 1 0 0 0 1 0 1 1 1 1 1 1 0 0 0 0 1 0 0 0 1 1 0 1 1 0 1 1 0 0 0 1 0 0 1\n",
      " 0 1 1] <class 'numpy.ndarray'> <class 'numpy.int64'>\n",
      "[0 1 1 0 0 1 1 1 0 0 0 1 0 1 0 1 0 0 0 1 0 0 1 0 0 0 0 0 0 1 0 0 0 0 0 0 1\n",
      " 0 1 1 0 1 0 0 0 0 0 0 0 0 1 1 1 0 0 0 0 1 0 0 0 1 1 1 0 0 1 1 0 0 1 1 0 1\n",
      " 0 0 0 0 0 0 1 0 1 1 1 1 1 1 0 0 0 0 1 0 0 0 1 1 0 1 1 0 1 1 0 0 0 1 0 0 1\n",
      " 0 1 1] <class 'numpy.ndarray'> <class 'numpy.int64'>\n",
      "[0 1 1 0 0 1 1 1 0 0 0 1 0 1 0 1 0 0 0 1 0 0 1 0 0 0 0 0 0 1 0 0 0 0 0 0 1\n",
      " 0 1 0 0 1 0 0 0 0 0 0 0 0 1 1 0 0 0 0 0 1 1 0 0 1 1 0 0 0 1 1 0 0 1 1 0 1\n",
      " 0 0 0 0 0 0 1 0 0 1 1 1 1 1 0 0 0 0 0 0 0 0 1 1 0 1 0 0 1 1 0 0 0 1 0 0 1\n",
      " 0 0 1] <class 'numpy.ndarray'> <class 'numpy.int64'>\n",
      "[0 1 1 0 0 1 1 1 0 0 0 1 0 1 0 1 0 0 0 1 0 0 1 0 0 0 0 0 0 1 0 0 0 0 0 0 1\n",
      " 0 1 1 0 1 0 0 0 0 0 0 0 0 1 1 0 0 0 0 0 1 0 0 0 1 1 1 0 0 1 1 0 0 1 1 0 1\n",
      " 0 0 0 0 0 0 1 0 1 1 1 1 1 1 0 0 0 0 0 0 0 0 1 1 0 1 1 0 1 1 0 0 0 1 0 0 1\n",
      " 0 1 1] <class 'numpy.ndarray'> <class 'numpy.int64'>\n",
      "[0 1 1 0 0 1 1 1 0 0 0 1 0 1 0 1 0 0 0 1 0 0 1 0 0 0 0 0 0 1 0 0 0 0 0 0 1\n",
      " 0 1 1 0 1 0 0 0 0 0 0 0 0 1 1 1 0 0 0 0 1 0 0 0 1 1 1 0 0 1 1 0 0 1 1 0 1\n",
      " 0 0 0 0 0 0 1 0 1 1 1 1 1 1 0 0 0 0 0 0 0 0 1 1 0 1 1 0 1 1 0 0 0 1 0 0 1\n",
      " 0 1 1] <class 'numpy.ndarray'> <class 'numpy.int64'>\n"
     ]
    }
   ],
   "source": [
    "for model in list_of_models:\n",
    "    X_train, X_test, y_train, y_test = clean_split_data.split_data(data)\n",
    "    X_test = X_test[model.feature_names()]\n",
    "    y_pred = model.predict(X_test)\n",
    "    print(y_pred, type(y_pred), type(y_pred[0]))"
   ]
  },
  {
   "cell_type": "code",
   "execution_count": 5,
   "id": "steady-potential",
   "metadata": {},
   "outputs": [],
   "source": [
    "def test_feature_names_1():\n",
    "    '''\n",
    "    Tests that the feature_names function returns a list\n",
    "    '''\n",
    "    for model in list_of_models:\n",
    "        features = model.feature_names()\n",
    "        assert isinstance(features, list), \"Feature names must be in a list\"\n",
    "    \n",
    "    return"
   ]
  },
  {
   "cell_type": "code",
   "execution_count": 6,
   "id": "silent-treatment",
   "metadata": {},
   "outputs": [],
   "source": [
    "def test_feature_names_2():\n",
    "    '''\n",
    "    Tests that feature_names content are strings\n",
    "    '''\n",
    "    for model in list_of_models:\n",
    "        features = model.feature_names()\n",
    "        for name in features:\n",
    "            assert isinstance(name, str), \"Feature names must be strings\"\n",
    "    \n",
    "    return"
   ]
  },
  {
   "cell_type": "code",
   "execution_count": 7,
   "id": "general-connecticut",
   "metadata": {},
   "outputs": [],
   "source": [
    "def test_predict_1():\n",
    "    '''\n",
    "    Tests the returned predictions are in an array\n",
    "    '''\n",
    "    for model in list_of_models:\n",
    "        X_train, X_test, y_train, y_test = clean_split_data.split_data(data)\n",
    "        X_test = X_test[model.feature_names()]\n",
    "        y_pred = model.predict(X_test)\n",
    "        assert isinstance(y_pred, numpy.ndarray), \"Predicted boolean outputs must be in an array\"\n",
    "    \n",
    "    return"
   ]
  },
  {
   "cell_type": "code",
   "execution_count": 8,
   "id": "finnish-grocery",
   "metadata": {},
   "outputs": [],
   "source": [
    "def test_predict_2():\n",
    "    '''\n",
    "    Tests that predictions are boolean 0 or 1 values\n",
    "    '''\n",
    "    for model in list_of_models:\n",
    "        X_train, X_test, y_train, y_test = clean_split_data.split_data(data)\n",
    "        X_test = X_test[model.feature_names()]\n",
    "        y_pred = model.predict(X_test)\n",
    "        for pred in y_pred:\n",
    "            assert isinstance(pred, numpy.int64)\n",
    "    \n",
    "    return"
   ]
  }
 ],
 "metadata": {
  "kernelspec": {
   "display_name": "Python 3",
   "language": "python",
   "name": "python3"
  },
  "language_info": {
   "codemirror_mode": {
    "name": "ipython",
    "version": 3
   },
   "file_extension": ".py",
   "mimetype": "text/x-python",
   "name": "python",
   "nbconvert_exporter": "python",
   "pygments_lexer": "ipython3",
   "version": "3.8.5"
  }
 },
 "nbformat": 4,
 "nbformat_minor": 5
}
