{
 "cells": [
  {
   "cell_type": "code",
   "execution_count": 1,
   "id": "changed-contractor",
   "metadata": {},
   "outputs": [],
   "source": [
    "# Importing stacking ensemble\n",
    "import stacking\n",
    "\n",
    "\n",
    "# Importing libraries for property tests\n",
    "import math\n",
    "import numpy as np\n",
    "import pandas as pd"
   ]
  },
  {
   "cell_type": "code",
   "execution_count": 2,
   "id": "falling-stationery",
   "metadata": {},
   "outputs": [],
   "source": [
    "file_name = 'data2.csv'"
   ]
  },
  {
   "cell_type": "code",
   "execution_count": 3,
   "id": "scheduled-console",
   "metadata": {},
   "outputs": [
    {
     "data": {
      "text/plain": [
       "[17.99, 10.38, 1001.0, 0.3001, 0.1471, 0.2419, 0.1184]"
      ]
     },
     "execution_count": 3,
     "metadata": {},
     "output_type": "execute_result"
    }
   ],
   "source": [
    "parsed = stacking.parsed_input_csv('data2.csv')\n",
    "parsed[0]"
   ]
  },
  {
   "cell_type": "code",
   "execution_count": 4,
   "id": "downtown-bunny",
   "metadata": {},
   "outputs": [
    {
     "name": "stdout",
     "output_type": "stream",
     "text": [
      "<class 'str'>\n"
     ]
    },
    {
     "data": {
      "text/plain": [
       "['patient', '1']"
      ]
     },
     "execution_count": 4,
     "metadata": {},
     "output_type": "execute_result"
    }
   ],
   "source": [
    "parsed_data = stacking.parsed_input_csv(file_name)\n",
    "rand_row = parsed_data[1]\n",
    "result = stacking.stacking_predictor(rand_row)\n",
    "print(type(result))\n",
    "result.split()\n",
    "# assert output[0] == '0' or output[1] == '1', 'Diagnosis is neither boolean 0 or 1'\n",
    "\n"
   ]
  },
  {
   "cell_type": "code",
   "execution_count": 15,
   "id": "radio-provincial",
   "metadata": {},
   "outputs": [
    {
     "name": "stdout",
     "output_type": "stream",
     "text": [
      "patient0 is classified under class 1\n",
      "patient1 is classified under class 1\n",
      "patient2 is classified under class 1\n",
      "patient3 is classified under class 0\n",
      "patient4 is classified under class 1\n",
      "patient5 is classified under class 1\n",
      "patient6 is classified under class 1\n",
      "patient7 is classified under class 1\n",
      "patient8 is classified under class 1\n",
      "patient9 is classified under class 1\n",
      "patient10 is classified under class 1\n",
      "patient11 is classified under class 1\n",
      "patient12 is classified under class 1\n",
      "patient13 is classified under class 1\n",
      "patient14 is classified under class 1\n",
      "patient15 is classified under class 1\n",
      "patient16 is classified under class 1\n",
      "patient17 is classified under class 1\n",
      "patient18 is classified under class 1\n",
      "patient19 is classified under class 0\n",
      "patient20 is classified under class 0\n",
      "patient21 is classified under class 0\n",
      "patient22 is classified under class 1\n",
      "patient23 is classified under class 1\n",
      "patient24 is classified under class 1\n",
      "patient25 is classified under class 1\n",
      "patient26 is classified under class 1\n",
      "patient27 is classified under class 1\n",
      "patient28 is classified under class 1\n",
      "patient29 is classified under class 1\n",
      "patient30 is classified under class 1\n",
      "patient31 is classified under class 0\n"
     ]
    },
    {
     "data": {
      "text/plain": [
       "32"
      ]
     },
     "execution_count": 15,
     "metadata": {},
     "output_type": "execute_result"
    }
   ],
   "source": [
    "result_dict = stacking.please_predict_me(file_name)\n",
    "len(result_dict)\n",
    "# for key in result_dict:\n",
    "#     print(result_dict(key))\n",
    "    #     assert result_dict[key] == '0' or result[key] == '1', 'Diagnosis is neither 0 or 1 string values'"
   ]
  },
  {
   "cell_type": "code",
   "execution_count": 6,
   "id": "handy-first",
   "metadata": {},
   "outputs": [],
   "source": [
    "def test_parsed_input_csv_1():\n",
    "    '''\n",
    "    Test to determine argument is a string\n",
    "    '''\n",
    "    parsed_data = stacking.parsed_input_csv(file_name)\n",
    "    assert isinstance(file_name, list), \"Input argument must be name of file as a string\"\n",
    "    \n",
    "    return"
   ]
  },
  {
   "cell_type": "code",
   "execution_count": 7,
   "id": "enabling-romantic",
   "metadata": {},
   "outputs": [],
   "source": [
    "def test_parsed_input_csv_2():\n",
    "    '''\n",
    "    Test to determine if returned output is a list\n",
    "    '''\n",
    "    parsed_data = stacking.parsed_input_csv(file_name)\n",
    "    assert isinstance(parsed_data, list), \"Parsed data is not a type list. There is a cleaning issue\"\n",
    "    \n",
    "    return"
   ]
  },
  {
   "cell_type": "code",
   "execution_count": 8,
   "id": "improving-perfume",
   "metadata": {},
   "outputs": [],
   "source": [
    "def test_stacking_predictor_1():\n",
    "    '''\n",
    "    Test to determine if returned output is a string with \"patient\" and the diagnosis \"0\" or \"1\" concatenated\n",
    "    '''\n",
    "    parsed_data = stacking.parsed_input_csv(file_name)\n",
    "    rand_row = parsed_data[1]\n",
    "    result = stacking.stacking_predictor(rand_row)\n",
    "    assert isinstance(result, str), 'Resulting output is not a concatenated string'\n",
    "    \n",
    "    return"
   ]
  },
  {
   "cell_type": "code",
   "execution_count": 9,
   "id": "aware-triple",
   "metadata": {},
   "outputs": [],
   "source": [
    "def test_stacking_predictor_2():\n",
    "    '''\n",
    "    Test to determine if first word of returned output is patient\n",
    "    '''\n",
    "    parsed_data = stacking.parsed_input_csv(file_name)\n",
    "    rand_row = parsed_data[1]\n",
    "    result = stacking.stacking_predictor(rand_row)\n",
    "    output = result.split\n",
    "    assert output[0] == 'patient', 'First string in output is not \"patient\"'\n",
    "    \n",
    "    return"
   ]
  },
  {
   "cell_type": "code",
   "execution_count": 10,
   "id": "ready-niger",
   "metadata": {},
   "outputs": [],
   "source": [
    "def test_stacking_predictor_3():\n",
    "    '''\n",
    "    Test to determine if second word of returned output is 0 or 1\n",
    "    '''\n",
    "    parsed_data = stacking.parsed_input_csv(file_name)\n",
    "    rand_row = parsed_data[1]\n",
    "    result = stacking.stacking_predictor(rand_row)\n",
    "    output = result.split\n",
    "    assert output[0] == '0' or output[1] == '1', 'Diagnosis is neither boolean 0 or 1'\n",
    "    \n",
    "    return"
   ]
  },
  {
   "cell_type": "code",
   "execution_count": 11,
   "id": "interracial-pastor",
   "metadata": {},
   "outputs": [],
   "source": [
    "def test_please_predict_me_1():\n",
    "    '''\n",
    "    Test to determine if returned output is a dictionary\n",
    "    '''\n",
    "    result_dict = stacking.please_predict_me(file_name)\n",
    "    assert isinstance(result_dict, dict)\n",
    "    \n",
    "    return"
   ]
  },
  {
   "cell_type": "code",
   "execution_count": 12,
   "id": "virtual-colorado",
   "metadata": {},
   "outputs": [],
   "source": [
    "def test_please_predict_me_2():\n",
    "    '''\n",
    "    Test to determine if diagnosis in dictionary is a string\n",
    "    '''\n",
    "    result_dict = stacking.please_predict_me(file_name)\n",
    "    for key in result_dict:\n",
    "        assert isinstance(result_dict[key], str), 'Daignosis is not string at end of dictionary value'\n",
    "    \n",
    "    return"
   ]
  },
  {
   "cell_type": "code",
   "execution_count": 13,
   "id": "provincial-bailey",
   "metadata": {},
   "outputs": [],
   "source": [
    "def test_please_predict_me_3():\n",
    "    '''\n",
    "    Test to determine if diagnosis in dictionary is a string 0 or 1\n",
    "    '''\n",
    "    result_dict = stacking.please_predict_me(file_name)\n",
    "    for key in result_dict:\n",
    "        assert result[key] == '0' or result[key] == '1', 'Diagnosis is neither 0 or 1 string values'\n",
    "    \n",
    "    return"
   ]
  }
 ],
 "metadata": {
  "kernelspec": {
   "display_name": "Python 3",
   "language": "python",
   "name": "python3"
  },
  "language_info": {
   "codemirror_mode": {
    "name": "ipython",
    "version": 3
   },
   "file_extension": ".py",
   "mimetype": "text/x-python",
   "name": "python",
   "nbconvert_exporter": "python",
   "pygments_lexer": "ipython3",
   "version": "3.8.5"
  }
 },
 "nbformat": 4,
 "nbformat_minor": 5
}
