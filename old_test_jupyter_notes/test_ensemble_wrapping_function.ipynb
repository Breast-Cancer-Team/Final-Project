{
 "cells": [
  {
   "cell_type": "code",
   "execution_count": 20,
   "id": "functional-cartridge",
   "metadata": {},
   "outputs": [],
   "source": [
    "# Importing wrapping function\n",
    "import ensemble_wrapping_function\n",
    "from ensemble_wrapping_function import average_ensemble\n",
    "\n",
    "# Import cleaning and splitting\n",
    "import clean_split_data\n",
    "\n",
    "\n",
    "# Importing libraries for property tests\n",
    "import math\n",
    "import numpy as np\n",
    "import pandas as pd\n",
    "\n",
    "\n",
    "# Importing os for testing file outputs\n",
    "from datetime import datetime\n",
    "import os"
   ]
  },
  {
   "cell_type": "code",
   "execution_count": 31,
   "id": "combined-lotus",
   "metadata": {},
   "outputs": [
    {
     "data": {
      "text/plain": [
       "'2021.3.14-18.46'"
      ]
     },
     "execution_count": 31,
     "metadata": {},
     "output_type": "execute_result"
    }
   ],
   "source": [
    "# for year month day\n",
    "# . for hr min\n",
    "time = datetime.now()\n",
    "\"%s.%s.%s-%s.%s\" % (time.year, time.month, time.day, time.hour, time.minute)"
   ]
  },
  {
   "cell_type": "code",
   "execution_count": 2,
   "id": "adapted-greene",
   "metadata": {},
   "outputs": [],
   "source": [
    "test_data = ('test_file.csv')"
   ]
  },
  {
   "cell_type": "code",
   "execution_count": 10,
   "id": "british-hawaiian",
   "metadata": {},
   "outputs": [
    {
     "data": {
      "text/plain": [
       "'Sample_Prediction_Overview_2021-03-14 16:01:49.952433.csv'"
      ]
     },
     "execution_count": 10,
     "metadata": {},
     "output_type": "execute_result"
    }
   ],
   "source": [
    "filename = \"Sample_Prediction_Overview_\"+str(datetime.now())+\".csv\"\n",
    "filename"
   ]
  },
  {
   "cell_type": "code",
   "execution_count": 3,
   "id": "appointed-grenada",
   "metadata": {
    "scrolled": true
   },
   "outputs": [
    {
     "data": {
      "text/plain": [
       "(          Diagnosis\n",
       " Sample ID          \n",
       " 925291            B\n",
       " 925292            M\n",
       " 925311            B\n",
       " 925622            M\n",
       " 926125            M\n",
       " 926424            M\n",
       " 926682            M\n",
       " 926954            M\n",
       " 927241            M\n",
       " 92751             B,\n",
       " None)"
      ]
     },
     "execution_count": 3,
     "metadata": {},
     "output_type": "execute_result"
    }
   ],
   "source": [
    "average_ensemble('test_file.csv')"
   ]
  },
  {
   "cell_type": "code",
   "execution_count": 9,
   "id": "adapted-wiring",
   "metadata": {},
   "outputs": [],
   "source": [
    "df, csv = ensemble_wrapping_function.average_ensemble(test_data)\n",
    "csv"
   ]
  },
  {
   "cell_type": "code",
   "execution_count": 5,
   "id": "danish-colonial",
   "metadata": {},
   "outputs": [],
   "source": [
    "def test_average_ensemble_1():\n",
    "    '''\n",
    "    Tests to determine if csv file exists in directory\n",
    "    '''\n",
    "    filename = \"Sample_Prediction_Overview_\"+datetime.now.ToString(\"yyyyMMddhhmm\")+\".csv\"\n",
    "    df, csv = ensemble_wrapping_function.average_ensemble(test_data)\n",
    "    assert os.path.exists(filename), \"CSV file not found, could be a download failure\"\n",
    "    \n",
    "    return"
   ]
  },
  {
   "cell_type": "code",
   "execution_count": 6,
   "id": "bacterial-following",
   "metadata": {},
   "outputs": [],
   "source": [
    "def test_average_ensemble_2():\n",
    "    '''\n",
    "    Tests to determine if pdf file exists in the directory\n",
    "    '''\n",
    "    filename = \"Sample_Prediction_Overview_\"+datetime.now.ToString(\"yyyyMMddhhmm\")+\".pdf\"\n",
    "    df, csv = ensemble_wrapping_function.average_ensemble(test_data)\n",
    "    assert os.path.exists(filename), \"PDF file not found, could be a download failure\"\n",
    "    \n",
    "    return"
   ]
  },
  {
   "cell_type": "code",
   "execution_count": 7,
   "id": "internal-perfume",
   "metadata": {},
   "outputs": [],
   "source": [
    "def test_average_ensemble_3():\n",
    "    '''\n",
    "    Tests to see if pandas dataframe is returned as predictions_df\n",
    "    '''\n",
    "    df, csv = ensemble_wrapping_function.average_ensemble(test_data)\n",
    "    assert isinstance(df, pd.DataFrame)\n",
    "    \n",
    "    return"
   ]
  },
  {
   "cell_type": "code",
   "execution_count": 8,
   "id": "posted-satisfaction",
   "metadata": {},
   "outputs": [],
   "source": [
    "def test_average_ensemble_4():\n",
    "    '''\n",
    "    Tests to see if second return of csv file is expected NoneType (since it is a downloaded file)\n",
    "    '''\n",
    "    df, csv = ensemble_wrapping_function.average_ensemble(test_data)\n",
    "    assert isinstance(csv, type(None))\n",
    "    \n",
    "    return"
   ]
  }
 ],
 "metadata": {
  "kernelspec": {
   "display_name": "Python 3",
   "language": "python",
   "name": "python3"
  },
  "language_info": {
   "codemirror_mode": {
    "name": "ipython",
    "version": 3
   },
   "file_extension": ".py",
   "mimetype": "text/x-python",
   "name": "python",
   "nbconvert_exporter": "python",
   "pygments_lexer": "ipython3",
   "version": "3.8.5"
  }
 },
 "nbformat": 4,
 "nbformat_minor": 5
}
