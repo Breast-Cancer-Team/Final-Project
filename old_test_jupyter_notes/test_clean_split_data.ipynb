{
 "cells": [
  {
   "cell_type": "code",
   "execution_count": 1,
   "id": "renewable-focus",
   "metadata": {},
   "outputs": [],
   "source": [
    "# Import cleaning and splitting\n",
    "import clean_split_data\n",
    "\n",
    "# Importing libraries for property tests\n",
    "import math\n",
    "import numpy as np\n",
    "import pandas as pd"
   ]
  },
  {
   "cell_type": "code",
   "execution_count": 2,
   "id": "academic-pearl",
   "metadata": {},
   "outputs": [],
   "source": [
    "data = pd.read_csv('data.csv')"
   ]
  },
  {
   "cell_type": "code",
   "execution_count": 13,
   "id": "planned-offering",
   "metadata": {},
   "outputs": [
    {
     "data": {
      "text/plain": [
       "0.7996485061511424"
      ]
     },
     "execution_count": 13,
     "metadata": {},
     "output_type": "execute_result"
    }
   ],
   "source": [
    "data = clean_split_data.clean_data(data)\n",
    "X_train, X_test, y_train, y_test = clean_split_data.split_data(data)\n",
    "train_length = len(X_train)\n",
    "train_split = train_length / len(data)\n",
    "train_split"
   ]
  },
  {
   "cell_type": "code",
   "execution_count": 3,
   "id": "exposed-briefs",
   "metadata": {},
   "outputs": [],
   "source": [
    "def test_clean_data_1():\n",
    "    '''\n",
    "    Test to determine if data column contains all strings\n",
    "    '''\n",
    "    df = clean_split_data.clean_data(data)\n",
    "    names = df.columns\n",
    "    for name in names:\n",
    "        assert isinstance(name, str)\n",
    "    \n",
    "    return"
   ]
  },
  {
   "cell_type": "code",
   "execution_count": 4,
   "id": "photographic-shaft",
   "metadata": {},
   "outputs": [],
   "source": [
    "def test_clean_data_2():\n",
    "    '''\n",
    "    Test to determine if any of the data contains strings \"_se\"\n",
    "    '''\n",
    "    df = clean_split_data.clean_data(data)\n",
    "    names = df.columns\n",
    "    substring = \"_se\"\n",
    "    for name in names:\n",
    "        assert substring not in name, \"Standard error columns still exist in dataframe\"\n",
    "    \n",
    "    return"
   ]
  },
  {
   "cell_type": "code",
   "execution_count": 5,
   "id": "composed-mechanism",
   "metadata": {},
   "outputs": [],
   "source": [
    "def test_clean_data_3():\n",
    "    '''\n",
    "    Test to determine if any of the data contains strings \"_worst\"\n",
    "    '''\n",
    "    df = clean_split_data.clean_data(data)\n",
    "    names = df.columns\n",
    "    substring = \"_worst\"\n",
    "    for name in names:\n",
    "        assert substring not in name, \"Worst measurement columns still exist in dataframe\"\n",
    "    \n",
    "    return"
   ]
  },
  {
   "cell_type": "code",
   "execution_count": 6,
   "id": "conditional-comment",
   "metadata": {},
   "outputs": [],
   "source": [
    "def test_clean_data_4():\n",
    "    '''\n",
    "    Test to determine if \"id\" column was successfully dropped from dataframe\n",
    "    '''\n",
    "    df = clean_split_data.clean_data(data)\n",
    "    names = df.columns\n",
    "    substring = \"id\"\n",
    "    for name in names:\n",
    "        assert substring not in name, \"ID column still exists in dataframe\"\n",
    "    \n",
    "    return"
   ]
  },
  {
   "cell_type": "code",
   "execution_count": 7,
   "id": "global-russian",
   "metadata": {},
   "outputs": [],
   "source": [
    "def test_clean_data_5():\n",
    "    '''\n",
    "    Test to determine if \"Unnamed: 32\" column was successfully dropped from dataframe\n",
    "    '''\n",
    "    df = clean_split_data.clean_data(data)\n",
    "    names = df.columns\n",
    "    substring = \"Unnamed: 32\"\n",
    "    for name in names:\n",
    "        assert substring not in name, \"Unnamed: 32 column still exists in dataframe\"\n",
    "    \n",
    "    return"
   ]
  },
  {
   "cell_type": "code",
   "execution_count": 8,
   "id": "oriental-metallic",
   "metadata": {},
   "outputs": [],
   "source": [
    "def test_clean_data_6():\n",
    "    '''\n",
    "    Test to determine if diagnosis values are replaced with integers\n",
    "    '''\n",
    "    df = clean_split_data.clean_data(data)\n",
    "    diagnosis = df.diagnosis\n",
    "    for cancer in diagnosis:\n",
    "        assert isinstance(cancer, int), \"Diagnosis values are not integers\"\n",
    "    \n",
    "    return"
   ]
  },
  {
   "cell_type": "code",
   "execution_count": 9,
   "id": "coral-underwear",
   "metadata": {},
   "outputs": [],
   "source": [
    "def test_split_data_1():\n",
    "    '''\n",
    "    Test to determine total length of datafile did not change when splitting\n",
    "    '''\n",
    "    total_length = len(data)\n",
    "    df = clean_split_data.clean_data(data)\n",
    "    X_train, X_test, y_train, y_test = clean_split_data.split_data(df)\n",
    "    train_length = len(X_train)\n",
    "    test_length = len(X_test)\n",
    "    total_split = train_length + test_length\n",
    "    assert math.isclose(total_length, total_split), \"Length of data is not the same as before splitting\"\n",
    "    \n",
    "    return"
   ]
  },
  {
   "cell_type": "code",
   "execution_count": 14,
   "id": "physical-discharge",
   "metadata": {
    "scrolled": true
   },
   "outputs": [],
   "source": [
    "def test_split_data_2():\n",
    "    '''\n",
    "    Test to determine proportion of split is correct\n",
    "    '''\n",
    "    total_length = len(data)\n",
    "    df = clean_split_data.clean_data(data)\n",
    "    X_train, X_test, y_train, y_test = clean_split_data.split_data(df)\n",
    "    train_length = len(X_train)\n",
    "    train_split = train_length / total_length\n",
    "    assert math.isclose(train_split, 0.80), \"Training set is not at specified 80% of dataset\"\n",
    "    \n",
    "    return"
   ]
  }
 ],
 "metadata": {
  "kernelspec": {
   "display_name": "Python 3",
   "language": "python",
   "name": "python3"
  },
  "language_info": {
   "codemirror_mode": {
    "name": "ipython",
    "version": 3
   },
   "file_extension": ".py",
   "mimetype": "text/x-python",
   "name": "python",
   "nbconvert_exporter": "python",
   "pygments_lexer": "ipython3",
   "version": "3.8.5"
  }
 },
 "nbformat": 4,
 "nbformat_minor": 5
}
