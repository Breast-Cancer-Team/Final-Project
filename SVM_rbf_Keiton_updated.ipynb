{
 "cells": [
  {
   "cell_type": "code",
   "execution_count": 19,
   "id": "figured-springfield",
   "metadata": {},
   "outputs": [
    {
     "name": "stdout",
     "output_type": "stream",
     "text": [
      "The autoreload extension is already loaded. To reload it, use:\n",
      "  %reload_ext autoreload\n"
     ]
    }
   ],
   "source": [
    "# Pandas library for the pandas dataframes\n",
    "import pandas as pd    \n",
    "import numpy as np\n",
    "\n",
    "# Import Scikit-Learn library for the classification models\n",
    "import sklearn\n",
    "from sklearn import datasets\n",
    "from sklearn.datasets import make_classification\n",
    "from sklearn.model_selection import train_test_split\n",
    "from sklearn.metrics import mean_squared_error, r2_score, accuracy_score\n",
    "from sklearn.svm import SVC, LinearSVC\n",
    "from sklearn.metrics import confusion_matrix \n",
    "from sklearn.metrics import plot_confusion_matrix\n",
    "from sklearn.feature_selection import SequentialFeatureSelector\n",
    "from sklearn.metrics import classification_report\n",
    "\n",
    "# Another statistic model library\n",
    "import statsmodels.api as sm\n",
    "import statsmodels.formula.api as smf\n",
    "import scipy.stats as stats\n",
    "import scipy\n",
    "from scipy import interpolate\n",
    "from scipy.interpolate import interp1d\n",
    "\n",
    "# Import plotting libraries\n",
    "import seaborn as sns\n",
    "import matplotlib \n",
    "from matplotlib import pyplot as plt\n",
    "\n",
    "# Set larger fontsize for all plots\n",
    "matplotlib.rcParams.update({'font.size': 20})\n",
    "\n",
    "# Command to automatically reload modules before executing cells\n",
    "# not needed here but might be if you are writing your own library \n",
    "%load_ext autoreload\n",
    "%autoreload 2\n",
    "%matplotlib inline\n",
    "\n",
    "## Import cleaning and splitting functions\n",
    "from clean_split_data import clean_data\n",
    "from clean_split_data import split_data"
   ]
  },
  {
   "cell_type": "markdown",
   "id": "primary-cedar",
   "metadata": {},
   "source": [
    "### Data"
   ]
  },
  {
   "cell_type": "code",
   "execution_count": 20,
   "id": "announced-novel",
   "metadata": {},
   "outputs": [],
   "source": [
    "data = pd.read_csv('data.csv')"
   ]
  },
  {
   "cell_type": "code",
   "execution_count": 21,
   "id": "spoken-mediterranean",
   "metadata": {},
   "outputs": [
    {
     "name": "stdout",
     "output_type": "stream",
     "text": [
      "     radius_mean  texture_mean  perimeter_mean  area_mean  smoothness_mean  \\\n",
      "68         9.029         17.33           58.79      250.5          0.10660   \n",
      "181       21.090         26.57          142.70     1311.0          0.11410   \n",
      "63         9.173         13.86           59.20      260.9          0.07721   \n",
      "248       10.650         25.22           68.01      347.0          0.09657   \n",
      "60        10.170         14.88           64.55      311.9          0.11340   \n",
      "..           ...           ...             ...        ...              ...   \n",
      "71         8.888         14.64           58.79      244.0          0.09783   \n",
      "106       11.640         18.33           75.17      412.5          0.11420   \n",
      "270       14.290         16.82           90.30      632.6          0.06429   \n",
      "435       13.980         19.62           91.12      599.5          0.10600   \n",
      "102       12.180         20.52           77.22      458.7          0.08013   \n",
      "\n",
      "     compactness_mean  concavity_mean  concave points_mean  symmetry_mean  \\\n",
      "68            0.14130         0.31300              0.04375         0.2111   \n",
      "181           0.28320         0.24870              0.14960         0.2395   \n",
      "63            0.08751         0.05988              0.02180         0.2341   \n",
      "248           0.07234         0.02379              0.01615         0.1897   \n",
      "60            0.08061         0.01084              0.01290         0.2743   \n",
      "..                ...             ...                  ...            ...   \n",
      "71            0.15310         0.08606              0.02872         0.1902   \n",
      "106           0.10170         0.07070              0.03485         0.1801   \n",
      "270           0.02675         0.00725              0.00625         0.1508   \n",
      "435           0.11330         0.11260              0.06463         0.1669   \n",
      "102           0.04038         0.02383              0.01770         0.1739   \n",
      "\n",
      "     fractal_dimension_mean  \n",
      "68                  0.08046  \n",
      "181                 0.07398  \n",
      "63                  0.06963  \n",
      "248                 0.06329  \n",
      "60                  0.06960  \n",
      "..                      ...  \n",
      "71                  0.08980  \n",
      "106                 0.06520  \n",
      "270                 0.05376  \n",
      "435                 0.06544  \n",
      "102                 0.05677  \n",
      "\n",
      "[455 rows x 10 columns]\n"
     ]
    }
   ],
   "source": [
    "data = clean_data(data)\n",
    "X_train, X_test, y_train, y_test = split_data(data)\n",
    "print(X_train)"
   ]
  },
  {
   "cell_type": "markdown",
   "id": "familiar-allen",
   "metadata": {},
   "source": [
    "### Classifier"
   ]
  },
  {
   "cell_type": "code",
   "execution_count": 22,
   "id": "dimensional-circumstances",
   "metadata": {},
   "outputs": [
    {
     "data": {
      "text/plain": [
       "SVC(C=10000, gamma=4)"
      ]
     },
     "execution_count": 22,
     "metadata": {},
     "output_type": "execute_result"
    }
   ],
   "source": [
    "clf = SVC(kernel='rbf', gamma=4, C=10000)\n",
    "clf.fit(X_train, y_train)"
   ]
  },
  {
   "cell_type": "markdown",
   "id": "annual-smith",
   "metadata": {},
   "source": [
    "### SVM rbf Prediction"
   ]
  },
  {
   "cell_type": "code",
   "execution_count": 25,
   "id": "activated-evans",
   "metadata": {},
   "outputs": [],
   "source": [
    "def predict(test_data):\n",
    "    \n",
    "    #test_data = pd.DataFrame(test_data).T\n",
    "    y_pred = clf.predict(test_data)\n",
    "   \n",
    "    return y_pred"
   ]
  },
  {
   "cell_type": "code",
   "execution_count": 26,
   "id": "formal-demand",
   "metadata": {},
   "outputs": [],
   "source": [
    "y_pred = predict(X_test)"
   ]
  },
  {
   "cell_type": "code",
   "execution_count": 27,
   "id": "played-growth",
   "metadata": {},
   "outputs": [
    {
     "name": "stdout",
     "output_type": "stream",
     "text": [
      "Prediction accuracy MSE:  0.37719298245614036\n",
      "R-Squared Score -0.6056338028169015\n",
      "Accuracy score 0.6228070175438597\n"
     ]
    }
   ],
   "source": [
    "accuracy_1 = accuracy_score(y_test, y_pred)\n",
    "print(\"Prediction accuracy MSE: \", mean_squared_error(y_test, y_pred))\n",
    "print('R-Squared Score',r2_score(y_test,y_pred))\n",
    "print(\"Accuracy score\", accuracy_score(y_test, y_pred))"
   ]
  },
  {
   "cell_type": "markdown",
   "id": "piano-principle",
   "metadata": {},
   "source": [
    "### Example of Stepwise selection"
   ]
  },
  {
   "cell_type": "code",
   "execution_count": 28,
   "id": "peaceful-immunology",
   "metadata": {},
   "outputs": [],
   "source": [
    "X = data[['radius_mean', 'texture_mean', 'perimeter_mean',\n",
    "       'area_mean', 'smoothness_mean', 'compactness_mean', 'concavity_mean',\n",
    "       'concave points_mean', 'symmetry_mean', 'fractal_dimension_mean']]\n",
    "y = data.diagnosis"
   ]
  },
  {
   "cell_type": "code",
   "execution_count": 29,
   "id": "certified-algeria",
   "metadata": {},
   "outputs": [],
   "source": [
    "sfs_forward = SequentialFeatureSelector(SVC(kernel = \"rbf\"), \n",
    "                                        n_features_to_select=5,\n",
    "                                        direction='backward').fit(X, y)"
   ]
  },
  {
   "cell_type": "code",
   "execution_count": 30,
   "id": "binding-provincial",
   "metadata": {},
   "outputs": [
    {
     "name": "stdout",
     "output_type": "stream",
     "text": [
      "Selected input features using Forward Stepwise Selection ['smoothness_mean' 'concavity_mean' 'concave points_mean' 'symmetry_mean'\n",
      " 'fractal_dimension_mean']\n"
     ]
    }
   ],
   "source": [
    "selected = sfs_forward.get_support(indices=True)\n",
    "f_names = np.array(X.columns)\n",
    "print(\"Selected input features using Forward Stepwise Selection\", f_names[selected])"
   ]
  },
  {
   "cell_type": "code",
   "execution_count": 31,
   "id": "valid-directory",
   "metadata": {},
   "outputs": [
    {
     "name": "stdout",
     "output_type": "stream",
     "text": [
      "     smoothness_mean  concavity_mean  concave points_mean  symmetry_mean  \\\n",
      "0            0.11840         0.30010              0.14710         0.2419   \n",
      "1            0.08474         0.08690              0.07017         0.1812   \n",
      "2            0.10960         0.19740              0.12790         0.2069   \n",
      "3            0.14250         0.24140              0.10520         0.2597   \n",
      "4            0.10030         0.19800              0.10430         0.1809   \n",
      "..               ...             ...                  ...            ...   \n",
      "564          0.11100         0.24390              0.13890         0.1726   \n",
      "565          0.09780         0.14400              0.09791         0.1752   \n",
      "566          0.08455         0.09251              0.05302         0.1590   \n",
      "567          0.11780         0.35140              0.15200         0.2397   \n",
      "568          0.05263         0.00000              0.00000         0.1587   \n",
      "\n",
      "     fractal_dimension_mean  \n",
      "0                   0.07871  \n",
      "1                   0.05667  \n",
      "2                   0.05999  \n",
      "3                   0.09744  \n",
      "4                   0.05883  \n",
      "..                      ...  \n",
      "564                 0.05623  \n",
      "565                 0.05533  \n",
      "566                 0.05648  \n",
      "567                 0.07016  \n",
      "568                 0.05884  \n",
      "\n",
      "[569 rows x 5 columns]\n"
     ]
    }
   ],
   "source": [
    "x_manip = X[f_names[selected]]\n",
    "print(x_manip)"
   ]
  },
  {
   "cell_type": "code",
   "execution_count": 32,
   "id": "editorial-tonight",
   "metadata": {},
   "outputs": [],
   "source": [
    "X_train1, X_test1, y_train1, y_test1 = train_test_split(x_manip, y, test_size=0.2, random_state=42)"
   ]
  },
  {
   "cell_type": "code",
   "execution_count": 33,
   "id": "alpine-wealth",
   "metadata": {},
   "outputs": [],
   "source": [
    "model = SVC(kernel='rbf', C=10000)\n",
    "model.fit(X_train1, y_train1)\n",
    "\n",
    "y_pred1 = model.predict(X_test1)"
   ]
  },
  {
   "cell_type": "code",
   "execution_count": 34,
   "id": "joint-regard",
   "metadata": {},
   "outputs": [
    {
     "name": "stdout",
     "output_type": "stream",
     "text": [
      "Prediction accuracy MSE:  0.07894736842105263\n",
      "R-Squared Score 0.663937111038323\n",
      "Accuracy score 0.9210526315789473\n"
     ]
    }
   ],
   "source": [
    "accuracy_2 = accuracy_score(y_test1, y_pred1)\n",
    "print(\"Prediction accuracy MSE: \", mean_squared_error(y_test1, y_pred1))\n",
    "print('R-Squared Score',r2_score(y_test1,y_pred1))\n",
    "print(\"Accuracy score\", accuracy_score(y_test1, y_pred1))"
   ]
  },
  {
   "cell_type": "code",
   "execution_count": 35,
   "id": "upper-anchor",
   "metadata": {},
   "outputs": [
    {
     "data": {
      "image/png": "[encoded data removed]",
      "text/plain": [
       "<Figure size 900x360 with 2 Axes>"
      ]
     },
     "metadata": {
      "needs_background": "light"
     },
     "output_type": "display_data"
    }
   ],
   "source": [
    "fig,ax = plt.subplots(1,2,figsize=(12.5,5))\n",
    "ax[0].scatter(y_test, y_pred - y_test,s=(200-(100*abs(y_pred-y_test))),alpha=0.1,c= 'FireBrick',label = \"Accuracy:\"+str(accuracy_1*100)+\"%\")\n",
    "ax[0].set_title('Residual plot of all features after SVM rbf', fontsize=15)\n",
    "ax[0].set_xlabel('Diagnosis')\n",
    "ax[0].set_ylabel('Correct Label')\n",
    "ax[0].legend()\n",
    "\n",
    "ax[1].scatter(y_test1, y_pred - y_test,s=(200-(100*abs(y_pred1-y_test1))), alpha=0.1,c= 'DarkCyan',label = \"Accuracy:\"+str(accuracy_2*100)+\"%\")\n",
    "ax[1].set_title('Residual plot after Stepwise Selection after SVM rbf', fontsize=15)\n",
    "ax[1].set_xlabel('Diagnosis')\n",
    "ax[1].set_ylabel('Correct Label')\n",
    "ax[1].legend()\n",
    "\n",
    "plt.tight_layout()"
   ]
  },
  {
   "cell_type": "markdown",
   "id": "bronze-warner",
   "metadata": {},
   "source": [
    "### Sample Train, Test, Split results"
   ]
  },
  {
   "cell_type": "code",
   "execution_count": 44,
   "id": "tired-shark",
   "metadata": {},
   "outputs": [],
   "source": [
    "def sample_results():\n",
    "    ''' \n",
    "    Returns the results and confusion matrix of the sample dataset from Breast Cancer Wisconsin Dataset.\n",
    "    '''\n",
    "    y_pred = clf.predict(X_test)\n",
    "    print(\"Prediction accuracy MSE: \", mean_squared_error(y_test, y_pred))\n",
    "    print(\"Mean accuracy on test set\", clf.score(X_test, y_test))\n",
    "    print(\"The confusion matrix for the sample dataset using a decision tree is displayed below: \")\n",
    "    print(classification_report(y_test, y_pred))\n",
    "    plot_confusion_matrix(clf, X_test, y_test)\n",
    "    plt.show()\n",
    "    \n",
    "    return"
   ]
  },
  {
   "cell_type": "code",
   "execution_count": 45,
   "id": "acceptable-writing",
   "metadata": {},
   "outputs": [
    {
     "name": "stdout",
     "output_type": "stream",
     "text": [
      "Prediction accuracy MSE:  0.37719298245614036\n",
      "Mean accuracy on test set 0.6228070175438597\n",
      "The confusion matrix for the sample dataset using a decision tree is displayed below: \n",
      "              precision    recall  f1-score   support\n",
      "\n",
      "           0       0.62      1.00      0.77        71\n",
      "           1       0.00      0.00      0.00        43\n",
      "\n",
      "    accuracy                           0.62       114\n",
      "   macro avg       0.31      0.50      0.38       114\n",
      "weighted avg       0.39      0.62      0.48       114\n",
      "\n"
     ]
    },
    {
     "name": "stderr",
     "output_type": "stream",
     "text": [
      "/home/keitonguan/miniconda3/lib/python3.8/site-packages/sklearn/metrics/_classification.py:1245: UndefinedMetricWarning: Precision and F-score are ill-defined and being set to 0.0 in labels with no predicted samples. Use `zero_division` parameter to control this behavior.\n",
      "  _warn_prf(average, modifier, msg_start, len(result))\n",
      "/home/keitonguan/miniconda3/lib/python3.8/site-packages/sklearn/metrics/_classification.py:1245: UndefinedMetricWarning: Precision and F-score are ill-defined and being set to 0.0 in labels with no predicted samples. Use `zero_division` parameter to control this behavior.\n",
      "  _warn_prf(average, modifier, msg_start, len(result))\n",
      "/home/keitonguan/miniconda3/lib/python3.8/site-packages/sklearn/metrics/_classification.py:1245: UndefinedMetricWarning: Precision and F-score are ill-defined and being set to 0.0 in labels with no predicted samples. Use `zero_division` parameter to control this behavior.\n",
      "  _warn_prf(average, modifier, msg_start, len(result))\n"
     ]
    },
    {
     "data": {
      "image/png": "[encoded data removed]",
      "text/plain": [
       "<Figure size 432x288 with 2 Axes>"
      ]
     },
     "metadata": {
      "needs_background": "light"
     },
     "output_type": "display_data"
    }
   ],
   "source": [
    "'''This matrix is only for Non-stepwise SVM only'''\n",
    "sample_results()"
   ]
  },
  {
   "cell_type": "code",
   "execution_count": 46,
   "id": "three-yeast",
   "metadata": {},
   "outputs": [
    {
     "data": {
      "image/png": "[encoded data removed]",
      "text/plain": [
       "<Figure size 432x288 with 2 Axes>"
      ]
     },
     "metadata": {
      "needs_background": "light"
     },
     "output_type": "display_data"
    },
    {
     "name": "stdout",
     "output_type": "stream",
     "text": [
      "Prediction accuracy MSE:  0.07894736842105263\n"
     ]
    }
   ],
   "source": [
    "'''This matrix is for Stepwise SVM'''\n",
    "plot_confusion_matrix(model, X_test1, y_test1)\n",
    "plt.show()\n",
    "print(\"Prediction accuracy MSE: \", mean_squared_error(y_test1, y_pred1))"
   ]
  },
  {
   "cell_type": "code",
   "execution_count": null,
   "id": "marked-volume",
   "metadata": {},
   "outputs": [],
   "source": []
  },
  {
   "cell_type": "code",
   "execution_count": null,
   "id": "american-sleeve",
   "metadata": {},
   "outputs": [],
   "source": []
  }
 ],
 "metadata": {
  "kernelspec": {
   "display_name": "Python 3",
   "language": "python",
   "name": "python3"
  },
  "language_info": {
   "codemirror_mode": {
    "name": "ipython",
    "version": 3
   },
   "file_extension": ".py",
   "mimetype": "text/x-python",
   "name": "python",
   "nbconvert_exporter": "python",
   "pygments_lexer": "ipython3",
   "version": "3.8.5"
  }
 },
 "nbformat": 4,
 "nbformat_minor": 5
}
