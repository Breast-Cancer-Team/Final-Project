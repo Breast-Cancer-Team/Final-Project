{
 "cells": [
  {
   "cell_type": "code",
   "execution_count": 11,
   "id": "split-angola",
   "metadata": {},
   "outputs": [],
   "source": [
    "import numpy as np \n",
    "import pandas as pd "
   ]
  },
  {
   "cell_type": "code",
   "execution_count": 12,
   "id": "excess-domestic",
   "metadata": {},
   "outputs": [],
   "source": [
    "def clean_the_data(data): \n",
    "    data=data.drop([\"id\",\"Unnamed: 32\"],axis=1)\n",
    "    data[\"diagnosis\"]=data[\"diagnosis\"].map({'B':0,'M':1}).astype(int)\n",
    "    \n",
    "    return data \n"
   ]
  }
 ],
 "metadata": {
  "kernelspec": {
   "display_name": "Python 3",
   "language": "python",
   "name": "python3"
  },
  "language_info": {
   "codemirror_mode": {
    "name": "ipython",
    "version": 3
   },
   "file_extension": ".py",
   "mimetype": "text/x-python",
   "name": "python",
   "nbconvert_exporter": "python",
   "pygments_lexer": "ipython3",
   "version": "3.8.2"
  }
 },
 "nbformat": 4,
 "nbformat_minor": 5
}
