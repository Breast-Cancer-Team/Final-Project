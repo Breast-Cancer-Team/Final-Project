{
 "cells": [
  {
   "cell_type": "code",
   "execution_count": 13,
   "id": "sophisticated-court",
   "metadata": {},
   "outputs": [],
   "source": [
    "# Pandas library for the pandas dataframes\n",
    "import pandas as pd    \n",
    "import numpy as np\n",
    "\n",
    "# Import Scikit-Learn library for the regression models and confusion matrix\n",
    "from sklearn.linear_model import LogisticRegression\n",
    "from sklearn.feature_selection import f_regression, SequentialFeatureSelector\n",
    "from sklearn.model_selection import train_test_split\n",
    "from sklearn import metrics\n",
    "from sklearn.metrics import r2_score, mean_squared_error, accuracy_score\n",
    "from sklearn.model_selection import KFold\n",
    "from sklearn.model_selection import cross_val_score\n",
    "from sklearn.metrics import confusion_matrix \n",
    "from sklearn.metrics import plot_confusion_matrix\n",
    "from sklearn.metrics import classification_report\n",
    "\n",
    "# Command to automatically reload modules before executing cells\n",
    "# not needed here but might be if you are writing your own library \n",
    "%load_ext autoreload\n",
    "%autoreload 2\n",
    "\n",
    "# Import cleaning and splitting functions\n",
    "from clean_split_data import clean_data\n",
    "from clean_split_data import split_data"
   ]
  },
  {
   "cell_type": "markdown",
   "id": "ranging-chamber",
   "metadata": {},
   "source": [
    "### Data"
   ]
  },
  {
   "cell_type": "code",
   "execution_count": 14,
   "id": "collaborative-thailand",
   "metadata": {},
   "outputs": [],
   "source": [
    "data = pd. read_csv(\"data.csv\")"
   ]
  },
  {
   "cell_type": "code",
   "execution_count": 16,
   "id": "renewable-development",
   "metadata": {},
   "outputs": [],
   "source": [
    "data = clean_data(data)\n",
    "X_train, X_test, y_train, y_test = split_data(data)"
   ]
  },
  {
   "cell_type": "markdown",
   "id": "worst-community",
   "metadata": {},
   "source": [
    "### Classifier"
   ]
  },
  {
   "cell_type": "code",
   "execution_count": 40,
   "id": "ongoing-consideration",
   "metadata": {},
   "outputs": [
    {
     "data": {
      "text/plain": [
       "LogisticRegression(max_iter=250)"
      ]
     },
     "execution_count": 40,
     "metadata": {},
     "output_type": "execute_result"
    }
   ],
   "source": [
    "clf = LogisticRegression(solver=\"lbfgs\", max_iter=250) \n",
    "clf.fit(X_train, y_train)"
   ]
  },
  {
   "cell_type": "markdown",
   "id": "documentary-claim",
   "metadata": {},
   "source": [
    "### Logistic Regression Prediction with all 10 features"
   ]
  },
  {
   "cell_type": "code",
   "execution_count": 41,
   "id": "certified-apple",
   "metadata": {},
   "outputs": [],
   "source": [
    "def predict(test_data):\n",
    "    '''\n",
    "    Takes test data and uses classifier to predict boolean output.\n",
    "    '''\n",
    "    #test_data = pd.DataFrame(test_data).T\n",
    "    y_pred = clf.predict(test_data)\n",
    "    \n",
    "    return y_lpred"
   ]
  },
  {
   "cell_type": "code",
   "execution_count": 42,
   "id": "apart-belle",
   "metadata": {},
   "outputs": [],
   "source": [
    "y_pred = clf.predict(X_test)"
   ]
  },
  {
   "cell_type": "code",
   "execution_count": 43,
   "id": "union-arlington",
   "metadata": {},
   "outputs": [
    {
     "name": "stdout",
     "output_type": "stream",
     "text": [
      "Prediction accuracy MSE:  0.07017543859649122\n",
      "Accuracy score 0.9298245614035088\n"
     ]
    }
   ],
   "source": [
    "'''Accuracy and MSE Using ALL 10 features'''\n",
    "\n",
    "accuracy_1 = accuracy_score(y_test, y_pred)\n",
    "print(\"Prediction accuracy MSE: \", mean_squared_error(y_test, y_pred))\n",
    "print(\"Accuracy score\", accuracy_score(y_test, y_pred))\n",
    "#print('R-Squared Score',r2_score(y_test,y_pred))"
   ]
  },
  {
   "cell_type": "markdown",
   "id": "detailed-commission",
   "metadata": {},
   "source": [
    "### Sample Train, Test, Split Results"
   ]
  },
  {
   "cell_type": "code",
   "execution_count": 44,
   "id": "naughty-trout",
   "metadata": {},
   "outputs": [],
   "source": [
    "def sample_results():\n",
    "    ''' \n",
    "    Returns the results and confusion matrix of the sample dataset from Breast Cancer Wisconsin Dataset.\n",
    "    '''\n",
    "    y_pred = clf.predict(X_test)\n",
    "    print(\"Prediction accuracy MSE: \", mean_squared_error(y_test, y_pred))\n",
    "    print(\"Mean accuracy on test set\", clf.score(X_test, y_test))\n",
    "    print(\"The confusion matrix for the sample dataset using a decision tree is displayed below: \")\n",
    "    print(classification_report(y_test, y_pred))\n",
    "    plot_confusion_matrix(clf, X_test, y_test)\n",
    "    plt.show()\n",
    "    \n",
    "    return"
   ]
  },
  {
   "cell_type": "code",
   "execution_count": 45,
   "id": "suffering-alexandria",
   "metadata": {},
   "outputs": [
    {
     "name": "stdout",
     "output_type": "stream",
     "text": [
      "Prediction accuracy MSE:  0.07017543859649122\n",
      "Mean accuracy on test set 0.9298245614035088\n",
      "The confusion matrix for the sample dataset using a decision tree is displayed below: \n",
      "              precision    recall  f1-score   support\n",
      "\n",
      "           0       0.96      0.93      0.94        71\n",
      "           1       0.89      0.93      0.91        43\n",
      "\n",
      "    accuracy                           0.93       114\n",
      "   macro avg       0.92      0.93      0.93       114\n",
      "weighted avg       0.93      0.93      0.93       114\n",
      "\n"
     ]
    },
    {
     "data": {
      "image/png": "[encoded data removed]",
      "text/plain": [
       "<Figure size 432x288 with 2 Axes>"
      ]
     },
     "metadata": {
      "needs_background": "light"
     },
     "output_type": "display_data"
    }
   ],
   "source": [
    "sample_results()"
   ]
  },
  {
   "cell_type": "markdown",
   "id": "metric-ghana",
   "metadata": {},
   "source": [
    "### Backward Feature selection "
   ]
  },
  {
   "cell_type": "code",
   "execution_count": 46,
   "id": "refined-graham",
   "metadata": {},
   "outputs": [],
   "source": [
    "'''Load the cleaned original dataset for below use'''\n",
    "X = data[['radius_mean', 'texture_mean', 'perimeter_mean',\n",
    "       'area_mean', 'smoothness_mean', 'compactness_mean', 'concavity_mean',\n",
    "       'concave points_mean', 'symmetry_mean', 'fractal_dimension_mean']]\n",
    "y = data.diagnosis\n",
    "\n",
    "'''A list of for the for-loop'''\n",
    "n = [1,2,3,4,5,6,7,8,9]\n",
    "\n",
    "list_MSE=[]\n",
    "list_AC=[]\n",
    "list_MSE_1=[]\n",
    "list_AC_1=[]\n",
    "selected_features = []\n",
    "\n",
    "clf = LogisticRegression(solver=\"lbfgs\", max_iter=250) \n",
    "\n",
    "for i in n:\n",
    "    '''Only passing the training data set into the Feature Selector'''\n",
    "    '''Any preprocessing method should not be fitted on the whole dataset to prevent carrying information from the train set\n",
    "       to test set'''\n",
    "    sbs_backward = SequentialFeatureSelector(clf,\n",
    "                                             n_features_to_select=i,\n",
    "                                            direction='backward').fit(X_train, y_train)\n",
    "\n",
    "    selected = sbs_backward.get_support(indices=True)\n",
    "    \n",
    "    '''passing the selected features to the orginial dataset for each number of i'''\n",
    "    f_names = np.array(X.columns)\n",
    "    x_manip = X[f_names[selected]]\n",
    "    selected_features.append(f_names[selected])\n",
    "    \n",
    "    '''Spliting the original data set with selected feature for each number of i'''\n",
    "    X_train1, X_test1, y_train1, y_test1 = train_test_split(x_manip, y , test_size=0.2, random_state=42) \n",
    "    \n",
    "    model = clf\n",
    "    model.fit(X_train1, y_train1)\n",
    "    \n",
    "    y_pred1 = model.predict(X_test1)\n",
    "    y_pred2 = model.predict(X_train1)\n",
    "    \n",
    "    list_AC.append(accuracy_score(y_test1, y_pred1))\n",
    "    list_AC_1.append(accuracy_score(y_train1, y_pred2))\n",
    "    list_MSE.append(mean_squared_error(y_test1, y_pred1))\n",
    "    list_MSE_1.append(mean_squared_error(y_train1, y_pred2))"
   ]
  },
  {
   "cell_type": "code",
   "execution_count": 47,
   "id": "coupled-fiction",
   "metadata": {},
   "outputs": [
    {
     "data": {
      "text/plain": [
       "<function matplotlib.pyplot.show(close=None, block=None)>"
      ]
     },
     "execution_count": 47,
     "metadata": {},
     "output_type": "execute_result"
    },
    {
     "data": {
      "image/png": "[encoded data removed]",
      "text/plain": [
       "<Figure size 720x720 with 2 Axes>"
      ]
     },
     "metadata": {
      "needs_background": "light"
     },
     "output_type": "display_data"
    }
   ],
   "source": [
    "fig,ax = plt.subplots(2,1,figsize=(10,10))\n",
    "\n",
    "#ax[1].plot(input_features_count, list_test_R2, label='Test Set R2', c='r', linewidth=4)\n",
    "#ax[1].plot(input_features_count, list_training_R2, label='Train Set R2', c='b', linewidth=4)\n",
    "#ax[1].set_xlabel('Input Features')\n",
    "#ax[1].set_ylabel('R2')\n",
    "#ax[1].set_title('R2 of Train and Test sets vs Input Features')\n",
    "#ax[1].legend()\n",
    "\n",
    "ax[0].plot(n, list_AC, linewidth=3 ,alpha=1,label='test_AC')\n",
    "ax[0].plot(n, list_AC_1, linewidth=3, alpha=1,c='FireBrick',label='train_AC')\n",
    "ax[0].set_title('Backwardstepwise: Accuracy VS. Number of feature, model:logisticR', fontsize=15)\n",
    "ax[0].set_xlabel('Number of features')\n",
    "ax[0].set_ylabel('Accuracy')\n",
    "ax[0].legend()\n",
    "\n",
    "ax[1].plot(n, list_MSE, linewidth=3 ,alpha=1,label='test_MSE')\n",
    "ax[1].plot(n, list_MSE_1, linewidth=3, alpha=1,c='FireBrick',label='train_MSE')\n",
    "ax[1].set_title('Backwardstepwise: MSE VS. Number of feature, model:logisticR', fontsize=15)\n",
    "ax[1].set_xlabel('Number of features')\n",
    "ax[1].set_ylabel('MSE')\n",
    "ax[1].legend()\n",
    "\n",
    "plt.tight_layout()\n",
    "plt.show"
   ]
  },
  {
   "cell_type": "code",
   "execution_count": 48,
   "id": "sound-charter",
   "metadata": {},
   "outputs": [
    {
     "name": "stdout",
     "output_type": "stream",
     "text": [
      "Prediction accuracy MSE:  0.07017543859649122\n",
      "Mean accuracy on test set 0.9298245614035088\n",
      "The confusion matrix for the sample dataset using a decision tree is displayed below: \n",
      "              precision    recall  f1-score   support\n",
      "\n",
      "           0       0.96      0.93      0.94        71\n",
      "           1       0.89      0.93      0.91        43\n",
      "\n",
      "    accuracy                           0.93       114\n",
      "   macro avg       0.92      0.93      0.93       114\n",
      "weighted avg       0.93      0.93      0.93       114\n",
      "\n"
     ]
    },
    {
     "data": {
      "image/png": "[encoded data removed]",
      "text/plain": [
       "<Figure size 432x288 with 2 Axes>"
      ]
     },
     "metadata": {
      "needs_background": "light"
     },
     "output_type": "display_data"
    }
   ],
   "source": [
    "'''This matrix is for Backward Stepwise SVM with 9 features'''\n",
    "plot_confusion_matrix(model, X_test1, y_test1)\n",
    "print(\"Prediction accuracy MSE: \", mean_squared_error(y_test1, y_pred1))\n",
    "print(\"Mean accuracy on test set\", model.score(X_test1, y_test1))\n",
    "print(\"The confusion matrix for the sample dataset using a decision tree is displayed below: \")\n",
    "print(classification_report(y_test1, y_pred1))\n",
    "\n",
    "plt.show()"
   ]
  },
  {
   "cell_type": "code",
   "execution_count": 39,
   "id": "understood-tension",
   "metadata": {},
   "outputs": [
    {
     "name": "stdout",
     "output_type": "stream",
     "text": [
      "[0.9298245614035088, 0.9298245614035088, 0.9298245614035088, 0.9298245614035088, 0.9298245614035088, 0.9298245614035088, 0.9298245614035088, 0.9298245614035088, 0.9298245614035088]\n",
      "[0.07017543859649122, 0.07017543859649122, 0.07017543859649122, 0.07017543859649122, 0.07017543859649122, 0.07017543859649122, 0.07017543859649122, 0.07017543859649122, 0.07017543859649122]\n"
     ]
    }
   ],
   "source": [
    "print(list_AC)\n",
    "print(list_MSE)"
   ]
  },
  {
   "cell_type": "markdown",
   "id": "cardiovascular-boston",
   "metadata": {},
   "source": [
    "**Based on the above informaiton,  the Best number of parameters for logistic regression is 10**"
   ]
  },
  {
   "cell_type": "markdown",
   "id": "soviet-sucking",
   "metadata": {},
   "source": [
    "### Defining New, Optimized Classifier"
   ]
  },
  {
   "cell_type": "code",
   "execution_count": 51,
   "id": "alone-senator",
   "metadata": {},
   "outputs": [],
   "source": [
    "#data[['radius_mean', 'texture_mean', 'perimeter_mean','area_mean', 'smoothness_mean', 'compactness_mean', 'concavity_mean','concave points_mean', 'symmetry_mean', 'fractal_dimension_mean']]"
   ]
  },
  {
   "cell_type": "code",
   "execution_count": 52,
   "id": "competent-overview",
   "metadata": {},
   "outputs": [],
   "source": [
    "def feature_names():\n",
    "    '''\n",
    "    Returns array of input features of best performing backwards stepwise selection test.\n",
    "    '''\n",
    "    \n",
    "    return ['radius_mean', 'texture_mean', 'perimeter_mean',\n",
    "       'area_mean', 'smoothness_mean', 'compactness_mean', 'concavity_mean',\n",
    "       'concave points_mean', 'symmetry_mean', 'fractal_dimension_mean']"
   ]
  },
  {
   "cell_type": "code",
   "execution_count": 53,
   "id": "unknown-finnish",
   "metadata": {},
   "outputs": [],
   "source": [
    "def predict(test_data):\n",
    "    '''\n",
    "    Takes test data and uses classifier to predict boolean output.\n",
    "    '''\n",
    "    X = data[feature_names()]\n",
    "    y = data.diagnosis\n",
    "    X_train, X_test, y_train, y_test = train_test_split(X, y, test_size=0.2, random_state=42)\n",
    "    logistic_reg = LogisticRegression(solver=\"lbfgs\", max_iter=146) \n",
    "    logistic_reg.fit(X_train, y_train)\n",
    "    y_pred = logistic_reg.predict(test_data)\n",
    "    \n",
    "    return y_pred"
   ]
  }
 ],
 "metadata": {
  "kernelspec": {
   "display_name": "Python 3",
   "language": "python",
   "name": "python3"
  },
  "language_info": {
   "codemirror_mode": {
    "name": "ipython",
    "version": 3
   },
   "file_extension": ".py",
   "mimetype": "text/x-python",
   "name": "python",
   "nbconvert_exporter": "python",
   "pygments_lexer": "ipython3",
   "version": "3.8.5"
  }
 },
 "nbformat": 4,
 "nbformat_minor": 5
}
